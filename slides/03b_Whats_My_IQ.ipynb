{
 "cells": [
  {
   "cell_type": "markdown",
   "metadata": {},
   "source": [
    "## The Boilerplate"
   ]
  },
  {
   "cell_type": "code",
   "execution_count": 1,
   "metadata": {
    "collapsed": true
   },
   "outputs": [],
   "source": [
    "%matplotlib inline"
   ]
  },
  {
   "cell_type": "code",
   "execution_count": 2,
   "metadata": {
    "collapsed": true
   },
   "outputs": [],
   "source": [
    "from scipy.stats import norm\n",
    "import matplotlib as mpl\n",
    "import matplotlib.pyplot as plt\n",
    "import numpy as np\n",
    "\n",
    "mpl.style.use('fivethirtyeight')"
   ]
  },
  {
   "cell_type": "markdown",
   "metadata": {},
   "source": [
    "## The IQ Test"
   ]
  },
  {
   "cell_type": "markdown",
   "metadata": {},
   "source": [
    "You may not know this, but IQ's are set up so that they are normally distributed with an average of 100 and a standard deviation of 15. So what does the Empirical Rule tell us about IQ's?"
   ]
  },
  {
   "cell_type": "markdown",
   "metadata": {},
   "source": [
    "Well, an IQ of 115 is one standard deviation above the mean, which means that about 16% of the population will have IQs higher than 115. Similarly, using the empirical rule only 2.5% will exceed 130. If we plot out this distribution, we'll generate the plot that you see below. Notice that I've filled in the areas corresponding to the people with an IQ higher than 115 or 130 (the 1-$\\sigma$ and 2-$\\sigma$ points), just to give you a sense of the distributions."
   ]
  },
  {
   "cell_type": "code",
   "execution_count": 3,
   "metadata": {
    "collapsed": false
   },
   "outputs": [
    {
     "data": {
      "text/plain": [
       "<matplotlib.collections.PolyCollection at 0x10fb29350>"
      ]
     },
     "execution_count": 3,
     "metadata": {},
     "output_type": "execute_result"
    },
    {
     "data": {
      "image/png": "[encoded data removed]",
      "text/plain": [
       "<matplotlib.figure.Figure at 0x10d63bfd0>"
      ]
     },
     "metadata": {},
     "output_type": "display_data"
    }
   ],
   "source": [
    "#initialize a normal distribution with frozen in mean=-1, std. dev.= 1\n",
    "rv = norm(loc = 100, scale = 15.0)\n",
    "\n",
    "x = np.arange(25,175, 1)\n",
    "x2 = np.arange(115,175, 1)\n",
    "x3 = np.arange(130,175, 1)\n",
    "\n",
    "#plot the pdfs of these normal distributions\n",
    "plt.figure(figsize=(8,6))\n",
    "plt.fill_between(x, rv.pdf(x), color='r',alpha=0.25)\n",
    "plt.fill_between(x2, rv.pdf(x2), color='blue',alpha=0.25)\n",
    "plt.fill_between(x3, rv.pdf(x3), color='black',alpha=0.5)"
   ]
  },
  {
   "cell_type": "markdown",
   "metadata": {},
   "source": [
    "## Generate Your IQ"
   ]
  },
  {
   "cell_type": "markdown",
   "metadata": {},
   "source": [
    "As you may know, IQ tests are considered somewhat controversial for a lot of reasons. We'll avoid the controversy by using a new and improved testing approach developed especially for this class: a random number generator with the appropriate statistics. In the interest of total transparency, I'll point out that this test has not yet been adopted by the Mensa society, or for that matter anyone else, but I like to think that we're \"innovating\"."
   ]
  },
  {
   "cell_type": "markdown",
   "metadata": {},
   "source": [
    "Please \"estimate\" your IQ by running this test. If you'd like, you can ensure that you get a fair assessment by running the cell a few times. for the sake of argument, let's say that you execute the cell 10 times. Before you ask, it doesn't really matter how many times you run it so if you run it more times, that's fine too. When you're done with your self-assessment, please submit it using the instructions in the next cell."
   ]
  },
  {
   "cell_type": "code",
   "execution_count": 4,
   "metadata": {
    "collapsed": false
   },
   "outputs": [
    {
     "name": "stdout",
     "output_type": "stream",
     "text": [
      "86.0\n"
     ]
    }
   ],
   "source": [
    "import numpy as np\n",
    "\n",
    "iq = round(np.random.normal(loc=100,scale=15))\n",
    "\n",
    "print iq"
   ]
  },
  {
   "cell_type": "markdown",
   "metadata": {},
   "source": [
    "## Submissions"
   ]
  },
  {
   "cell_type": "markdown",
   "metadata": {},
   "source": [
    "Please send me your IQ (as generated by our IQ test) by entering it into the form at:"
   ]
  },
  {
   "cell_type": "markdown",
   "metadata": {},
   "source": [
    "[Submit my IQ](http://goo.gl/forms/iBlA40CuKh)"
   ]
  },
  {
   "cell_type": "markdown",
   "metadata": {},
   "source": [
    "To prevent people from providing multiple entries, you'll need to be logged in to your google account."
   ]
  }
 ],
 "metadata": {
  "kernelspec": {
   "display_name": "Python 2",
   "language": "python",
   "name": "python2"
  },
  "language_info": {
   "codemirror_mode": {
    "name": "ipython",
    "version": 2
   },
   "file_extension": ".py",
   "mimetype": "text/x-python",
   "name": "python",
   "nbconvert_exporter": "python",
   "pygments_lexer": "ipython2",
   "version": "2.7.11"
  }
 },
 "nbformat": 4,
 "nbformat_minor": 0
}
