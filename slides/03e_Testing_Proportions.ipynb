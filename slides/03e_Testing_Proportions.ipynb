{
 "cells": [
  {
   "cell_type": "markdown",
   "metadata": {},
   "source": [
    "## Constructing a Test Statistic for Proportions"
   ]
  },
  {
   "cell_type": "markdown",
   "metadata": {},
   "source": [
    "Let's imagine that we have two sets of data, which we'll call A and B."
   ]
  },
  {
   "cell_type": "markdown",
   "metadata": {},
   "source": [
    "\n",
    "Let's start by supposing that we have obtained data from $n$ visitors. Of this total sample, $n_A$ have been (randomly) sent to page A, and $n_B$ have been sent to page B. Let's also assume that of each group, the number of visitors for whom we obtained a 'successful' outcome is  $X_A$ and $X_B$ respectively. Then the proportion of successes in sample distributions corresponding to each of the two alternatives is given by"
   ]
  },
  {
   "cell_type": "markdown",
   "metadata": {},
   "source": [
    "$$\\hat{\\pi}_{A}=\\frac{X_{A}}{n_{A}}$$"
   ]
  },
  {
   "cell_type": "markdown",
   "metadata": {},
   "source": [
    "and"
   ]
  },
  {
   "cell_type": "markdown",
   "metadata": {},
   "source": [
    "$$\\hat{\\pi}_{B}=\\frac{X_{B}}{n_{B}}.$$"
   ]
  },
  {
   "cell_type": "markdown",
   "metadata": {},
   "source": [
    "The \"$\\hat{}$\" here is used to remind us that these are sample proportions based upon the data that we've captured, not the true proportion."
   ]
  },
  {
   "cell_type": "markdown",
   "metadata": {},
   "source": [
    "We still don't know the true success rate $\\pi$ however under the null hypothesis we can assume that there is no difference between the success rates of the two alternatives. Making a long story short,  we can combine all of our samples into a single group to estimate\n",
    "$$\n",
    "\\hat\\pi = \\frac{X_A + X_B}{n_A + n_B}\n",
    "$$\n",
    "\n",
    "which is an estimate of the population proportion under the null hypothesis."
   ]
  },
  {
   "cell_type": "markdown",
   "metadata": {},
   "source": [
    "At this point, we can construct our test statistic, which is given by"
   ]
  },
  {
   "cell_type": "markdown",
   "metadata": {},
   "source": [
    "$$\n",
    "\\begin{aligned}\n",
    "\tz \t& =\\frac{\\hat{\\pi}_A - \\hat{\\pi}_B}{\\sigma_{\\hat\\pi_A-\\hat\\pi_B}} \\\\\n",
    "\t\t& = \\frac{\\hat{\\pi}_A - \\hat{\\pi}_B}\n",
    "\t\t\t{\\sqrt{\\hat{\\pi} (1-\\hat{\\pi} )\\left(\\frac{1}{n_A} + \\frac{1}{n_B}\\right)}}\n",
    "\\end{aligned} % line 156\n",
    "$$"
   ]
  },
  {
   "cell_type": "markdown",
   "metadata": {},
   "source": [
    "which we can then compare to the critical values we get from the N(0,1) distribution to determine a p-value, in other words a z-test.\n",
    "\n",
    "NOTE: this wasn't a typo. We're really doing a z-test on the proportions, not a t-test."
   ]
  }
 ],
 "metadata": {
  "kernelspec": {
   "display_name": "Python 2",
   "language": "python",
   "name": "python2"
  },
  "language_info": {
   "codemirror_mode": {
    "name": "ipython",
    "version": 2
   },
   "file_extension": ".py",
   "mimetype": "text/x-python",
   "name": "python",
   "nbconvert_exporter": "python",
   "pygments_lexer": "ipython2",
   "version": "2.7.11"
  }
 },
 "nbformat": 4,
 "nbformat_minor": 0
}
