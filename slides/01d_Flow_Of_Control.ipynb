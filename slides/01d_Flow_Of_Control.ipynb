{
 "cells": [
  {
   "cell_type": "markdown",
   "metadata": {
    "slideshow": {
     "slide_type": "slide"
    }
   },
   "source": [
    "## Booleans and Comparison Operators"
   ]
  },
  {
   "cell_type": "markdown",
   "metadata": {
    "slideshow": {
     "slide_type": "skip"
    }
   },
   "source": [
    "**Booleans**"
   ]
  },
  {
   "cell_type": "markdown",
   "metadata": {},
   "source": [
    "An important class of objects in Python is used to represent the notion of a \"Boolean\", i.e. something which can take on the value `True`, `False`, or `None`. A few things to note here:"
   ]
  },
  {
   "cell_type": "markdown",
   "metadata": {},
   "source": [
    "* First, each of the Boolean values are case sensitive, i.e. `True` is not the same as `TRUE`. \n",
    "* As it turns out, `True` is exactly equal to `1` and `False` is exactly equal to `0`. You might find this useful at some point in your programs."
   ]
  },
  {
   "cell_type": "markdown",
   "metadata": {
    "slideshow": {
     "slide_type": "slide"
    }
   },
   "source": [
    "#### Comparison Operators"
   ]
  },
  {
   "cell_type": "markdown",
   "metadata": {},
   "source": [
    "Comparison operators compare the results of two expressions and return a Boolean value."
   ]
  },
  {
   "cell_type": "markdown",
   "metadata": {},
   "source": [
    "| Operator | Description | \n",
    "| :---: | :---: | \n",
    "|  ==    | Compares the equality of two expressions    |\n",
    "|  !=    | Compares the inequality of two expressions    |\n",
    "|  >    | Compares if the left hand expression is greater than the right hand    |\n",
    "|  <    | Compares if the left hand expression is less than the right hand    |\n",
    "|  >=    | Compares if the left hand expression is greater than or equal to the right hand    |\n",
    "|  <=  | Compares if the left hand expression is less than or equal to than the right hand    |\n",
    "|  `in`  | Determines if the result of the left hand expression is contained in the sequence on the right.    |"
   ]
  },
  {
   "cell_type": "markdown",
   "metadata": {},
   "source": [
    "The compound statement `10 <= x <= 20` will test if x is in the range from 10 to 20, inclusive."
   ]
  },
  {
   "cell_type": "markdown",
   "metadata": {
    "slideshow": {
     "slide_type": "slide"
    }
   },
   "source": [
    "Let's put together a few examples to see how some of this works."
   ]
  },
  {
   "cell_type": "code",
   "execution_count": 1,
   "metadata": {
    "collapsed": false
   },
   "outputs": [
    {
     "name": "stdout",
     "output_type": "stream",
     "text": [
      "True\n"
     ]
    }
   ],
   "source": [
    "# a very simple comparison\n",
    "print 10 == 10"
   ]
  },
  {
   "cell_type": "code",
   "execution_count": 2,
   "metadata": {
    "collapsed": false
   },
   "outputs": [
    {
     "name": "stdout",
     "output_type": "stream",
     "text": [
      "True\n"
     ]
    }
   ],
   "source": [
    "# a compound expression testing that a variable is within an interval\n",
    "x = 15\n",
    "print 10 <= x <= 20"
   ]
  },
  {
   "cell_type": "code",
   "execution_count": 3,
   "metadata": {
    "collapsed": false
   },
   "outputs": [
    {
     "name": "stdout",
     "output_type": "stream",
     "text": [
      "True\n"
     ]
    }
   ],
   "source": [
    "# an example of using the membership test\n",
    "list = ['a', 'b' ,'c']\n",
    "print 'a' in list"
   ]
  },
  {
   "cell_type": "code",
   "execution_count": 4,
   "metadata": {
    "collapsed": false
   },
   "outputs": [
    {
     "name": "stdout",
     "output_type": "stream",
     "text": [
      "False\n"
     ]
    }
   ],
   "source": [
    "list = ['a', 'b' ,'c']\n",
    "print 'z' in list"
   ]
  },
  {
   "cell_type": "markdown",
   "metadata": {
    "slideshow": {
     "slide_type": "slide"
    }
   },
   "source": [
    "**Logical Operators**"
   ]
  },
  {
   "cell_type": "markdown",
   "metadata": {
    "slideshow": {
     "slide_type": "-"
    }
   },
   "source": [
    "Logical operators provide a mechanism for combining `Boolean` variables to create more complex logical statements. \n",
    "\n",
    "* Three types: conjunctions, disjunctions, and negations\n",
    "* Through combinations of these you can create any logical statement."
   ]
  },
  {
   "cell_type": "markdown",
   "metadata": {
    "slideshow": {
     "slide_type": "slide"
    }
   },
   "source": [
    "**Conjunction: A Logical \"AND\"**"
   ]
  },
  {
   "cell_type": "code",
   "execution_count": 5,
   "metadata": {
    "collapsed": false
   },
   "outputs": [
    {
     "name": "stdout",
     "output_type": "stream",
     "text": [
      "[False, True, False, False]\n"
     ]
    }
   ],
   "source": [
    "A = True\n",
    "B = False\n",
    "print [A and B, A and A, B and B, B and A]"
   ]
  },
  {
   "cell_type": "markdown",
   "metadata": {},
   "source": [
    "**Disjunction: A Logical \"OR\"**"
   ]
  },
  {
   "cell_type": "code",
   "execution_count": 6,
   "metadata": {
    "collapsed": false
   },
   "outputs": [
    {
     "name": "stdout",
     "output_type": "stream",
     "text": [
      "[True, True, False, True]\n"
     ]
    }
   ],
   "source": [
    "A = True\n",
    "B = False\n",
    "print [A or B, A or A, B or B, B or A]"
   ]
  },
  {
   "cell_type": "markdown",
   "metadata": {},
   "source": [
    "**Negation: A Logical \"NOT\"**"
   ]
  },
  {
   "cell_type": "code",
   "execution_count": 7,
   "metadata": {
    "collapsed": false
   },
   "outputs": [
    {
     "name": "stdout",
     "output_type": "stream",
     "text": [
      "[False, True]\n"
     ]
    }
   ],
   "source": [
    "A = True\n",
    "B = False\n",
    "print [not A, not B]"
   ]
  },
  {
   "cell_type": "markdown",
   "metadata": {
    "slideshow": {
     "slide_type": "slide"
    }
   },
   "source": [
    "## Flow of Control\n",
    "Finally, let's talk about how we can control the flow of execution in our programs. Until this point, we've largely focused on sequentially executing one line of code at a time. Although that's a great building block, we're generally going to need to be able to do more. For instance, we may only want to execute some set of code if a condition is met. Or, you could imagine wanting to execute a block of code many times. In this section, we shift our attention towards how we might accomplish these tasks."
   ]
  },
  {
   "cell_type": "markdown",
   "metadata": {
    "slideshow": {
     "slide_type": "slide"
    }
   },
   "source": [
    "### Conditional Statements\n",
    "At a high, pseudo-code level, you could imagine wanting to do the following:"
   ]
  },
  {
   "cell_type": "markdown",
   "metadata": {},
   "source": [
    "\tIf Some Condition is True Then \n",
    "\t\tExecute This Block of Code\n",
    "\tElse \n",
    "\t\tExecute Some Other Block of Code"
   ]
  },
  {
   "cell_type": "markdown",
   "metadata": {
    "slideshow": {
     "slide_type": "skip"
    }
   },
   "source": [
    "As it turns out, actually implementing this in Python is not terribly different from the way we'd imagine. First, we can implement the `Some Condition is True` piece through any expression that returns a Boolean value, such as one of the comparison operators we discussed a few moments ago."
   ]
  },
  {
   "cell_type": "markdown",
   "metadata": {
    "slideshow": {
     "slide_type": "skip"
    }
   },
   "source": [
    "Before we jump into an example, here's one thing to notice about Python that may come as a surprise if you ever used a different programming language. When we want to define a block of code, all we need to do is to indent it. No need for pairs of matching braces or anything else. Just indentation. Obviously that can be a good thing or a bad thing. It's a really good thing in the sense that it makes perfect sense by any rational standard. It's a bad thing in the sense that it's not the way that many other programming language work, so if you're not used to it then it may be confusing or even feel as though it's incorrect."
   ]
  },
  {
   "cell_type": "code",
   "execution_count": 8,
   "metadata": {
    "collapsed": false,
    "slideshow": {
     "slide_type": "slide"
    }
   },
   "outputs": [
    {
     "name": "stdout",
     "output_type": "stream",
     "text": [
      "Before: x =  10\n",
      "After:  x =  20\n"
     ]
    }
   ],
   "source": [
    "# Let's create a variable that we can use for our conditional\n",
    "test = True\n",
    "\n",
    "# Create a variable so we can track the execution of the code\n",
    "x = 10\n",
    "print 'Before: x = ', x\n",
    "\n",
    "# run our simple \"if\" statement\n",
    "if (x==23445) \n",
    "    x = 20      # we satisfied the condition of the if statement\n",
    "else:\n",
    "    x = 30      # we failed to satisfy the condition of the if statement\n",
    "\n",
    "# let's see what happened\n",
    "print 'After:  x = ', x"
   ]
  },
  {
   "cell_type": "markdown",
   "metadata": {
    "slideshow": {
     "slide_type": "slide"
    }
   },
   "source": [
    "### For Loops"
   ]
  },
  {
   "cell_type": "markdown",
   "metadata": {},
   "source": [
    "It's pretty typical that our analysis will force us to perform some block of code repeatedly. For instance, we may need to some function to every element in a list. At a high, pseudo-code level, you could imagine that this might look like the following:"
   ]
  },
  {
   "cell_type": "markdown",
   "metadata": {},
   "source": [
    "\tfor every item in a list \n",
    "\t\tExecute This Block of Code"
   ]
  },
  {
   "cell_type": "markdown",
   "metadata": {
    "slideshow": {
     "slide_type": "skip"
    }
   },
   "source": [
    "And, not surprisingly at this point, it turns out once again that actually implementing this in Python is not terribly different from the way we'd imagine it shoudl work. We've already seen how to handle setting up the notion of \"Execute This Block of Code\" when we learned conditional statements. Now, we just need to figure out how to control the iteration. As it turns out, we already have most of the pieces that we need:"
   ]
  },
  {
   "cell_type": "markdown",
   "metadata": {
    "slideshow": {
     "slide_type": "slide"
    }
   },
   "source": [
    "* We'll create a list that we will use to determine how many times we'll perform the iteration\n",
    "* We'll use a new function called `for` to control the iteration. When we construct the `for` we'll create a new variable that we'll use to represent the next item in the list that we'll be processing\n",
    "* We'll separate the block of code to be performed through a colon and indentation\n",
    "* Once we complete the execution of the block of code, we'll jump back to the top of the `for` loop, move to the next item on the list and continue along"
   ]
  },
  {
   "cell_type": "markdown",
   "metadata": {
    "slideshow": {
     "slide_type": "skip"
    }
   },
   "source": [
    "As usual, easier done than said:"
   ]
  },
  {
   "cell_type": "code",
   "execution_count": 1,
   "metadata": {
    "collapsed": false,
    "slideshow": {
     "slide_type": "slide"
    }
   },
   "outputs": [
    {
     "ename": "NameError",
     "evalue": "name 'f' is not defined",
     "output_type": "error",
     "traceback": [
      "\u001b[0;31m---------------------------------------------------------------------------\u001b[0m",
      "\u001b[0;31mNameError\u001b[0m                                 Traceback (most recent call last)",
      "\u001b[0;32m<ipython-input-1-b1a5e9aba742>\u001b[0m in \u001b[0;36m<module>\u001b[0;34m()\u001b[0m\n\u001b[1;32m      4\u001b[0m \u001b[0;31m# now, let's iterate over each element in that list, perform some processing and print the results\u001b[0m\u001b[0;34m\u001b[0m\u001b[0;34m\u001b[0m\u001b[0m\n\u001b[1;32m      5\u001b[0m \u001b[0;32mfor\u001b[0m \u001b[0mx\u001b[0m \u001b[0;32min\u001b[0m \u001b[0mfruits\u001b[0m\u001b[0;34m:\u001b[0m\u001b[0;34m\u001b[0m\u001b[0m\n\u001b[0;32m----> 6\u001b[0;31m     \u001b[0;32mprint\u001b[0m \u001b[0;34m'ORIGINAL: '\u001b[0m \u001b[0;34m+\u001b[0m \u001b[0mf\u001b[0m \u001b[0;34m+\u001b[0m \u001b[0;34m' -> NEW: '\u001b[0m \u001b[0;34m+\u001b[0m \u001b[0mf\u001b[0m\u001b[0;34m.\u001b[0m\u001b[0mupper\u001b[0m\u001b[0;34m(\u001b[0m\u001b[0;34m)\u001b[0m\u001b[0;34m\u001b[0m\u001b[0m\n\u001b[0m",
      "\u001b[0;31mNameError\u001b[0m: name 'f' is not defined"
     ]
    }
   ],
   "source": [
    "# let's create a list\n",
    "fruits = ['apple', 'bananas', 'pears', 'grapes']\n",
    "\n",
    "# now, let's iterate over each element in that list, perform some processing and print the results\n",
    "for x in fruits:\n",
    "    print 'ORIGINAL: ' + f + ' -> NEW: ' + f.upper()"
   ]
  },
  {
   "cell_type": "markdown",
   "metadata": {
    "slideshow": {
     "slide_type": "slide"
    }
   },
   "source": [
    "#### What do I do if I don't have some list to use?"
   ]
  },
  {
   "cell_type": "markdown",
   "metadata": {},
   "source": [
    "Create a list, possibly using the `range()` function."
   ]
  },
  {
   "cell_type": "code",
   "execution_count": 10,
   "metadata": {
    "collapsed": false,
    "slideshow": {
     "slide_type": "-"
    }
   },
   "outputs": [
    {
     "name": "stdout",
     "output_type": "stream",
     "text": [
      "0\n",
      "1\n",
      "2\n",
      "3\n",
      "4\n"
     ]
    }
   ],
   "source": [
    "for i in range(0,5):\n",
    "    print i"
   ]
  },
  {
   "cell_type": "markdown",
   "metadata": {
    "slideshow": {
     "slide_type": "slide"
    }
   },
   "source": [
    "\t\t\n",
    "### While Loops"
   ]
  },
  {
   "cell_type": "markdown",
   "metadata": {},
   "source": [
    "As an alternative to looping over a predetermined set of information or a predetermined number of iterations, we can loop over a block of code for as long as some condition is true. Again using our high level \"pseudo-code\" to understand what we mean by this:"
   ]
  },
  {
   "cell_type": "markdown",
   "metadata": {},
   "source": [
    "\tWhile Some Condition is True \n",
    "\t\tExecute This Block of Code\n",
    "        "
   ]
  },
  {
   "cell_type": "markdown",
   "metadata": {
    "slideshow": {
     "slide_type": "skip"
    }
   },
   "source": [
    "If you've been working through this entire notebook, then this will be reminiscent of the for loop. Whereas before we iterated on a block of code until we exhausted all of a list, now, we iterate while some more general condition holds true. Be careful with this though. Unless something takes place to affect the condition that you're check for (usually in the block of code that you're looping over), you can get stuck in a situation called an \"endless loop\" which is pretty much what it sounds like: a situation where you get stuck for ever looping over this block of code. If that happens, then the easiest solution is to restart the Jupyter server kernel (under the Kernel menu)."
   ]
  },
  {
   "cell_type": "markdown",
   "metadata": {
    "slideshow": {
     "slide_type": "skip"
    }
   },
   "source": [
    "Having seen how `for` loops work, you'll see what's going on here pretty easily."
   ]
  },
  {
   "cell_type": "code",
   "execution_count": 11,
   "metadata": {
    "collapsed": false,
    "slideshow": {
     "slide_type": "slide"
    }
   },
   "outputs": [
    {
     "name": "stdout",
     "output_type": "stream",
     "text": [
      "0\n",
      "1\n",
      "2\n",
      "3\n",
      "4\n",
      "and we're done\n"
     ]
    }
   ],
   "source": [
    "# let's set an initial condition\n",
    "x = 0\n",
    "while x < 5:\n",
    "    print x\n",
    "    x += 1\n",
    "\n",
    "print \"and we're done\""
   ]
  },
  {
   "cell_type": "markdown",
   "metadata": {
    "slideshow": {
     "slide_type": "skip"
    }
   },
   "source": [
    "### Break Statements"
   ]
  },
  {
   "cell_type": "markdown",
   "metadata": {
    "slideshow": {
     "slide_type": "skip"
    }
   },
   "source": [
    "Sometimes we have reason to want to break out of a loop before we complete all of the iterations described in the `for` statement. The `break` statement allows us to do just that. Specifically, it will allow us to interrupt the execution of a loop, usually because some condition has been met. Once triggered, the script will continue execution immediately outside the loop which was just broken."
   ]
  },
  {
   "cell_type": "code",
   "execution_count": 12,
   "metadata": {
    "collapsed": false,
    "slideshow": {
     "slide_type": "skip"
    }
   },
   "outputs": [
    {
     "name": "stdout",
     "output_type": "stream",
     "text": [
      "let's start\n",
      "a\n",
      "b\n",
      "before the break\n",
      "and we're done\n"
     ]
    }
   ],
   "source": [
    "# Create a variable so we can track the execution of the code\n",
    "list = ['a', 'b', 'c', 'd', 'e']\n",
    "\n",
    "print \"let's start\"\n",
    "\n",
    "# let's iterate through the list, printing each element\n",
    "for l in list:\n",
    "    if (l == 'c'):\n",
    "        print \"before the break\"\n",
    "        break\n",
    "        print \"after the break\"\n",
    "    else:\n",
    "        print l\n",
    "\n",
    "print \"and we're done\""
   ]
  },
  {
   "cell_type": "markdown",
   "metadata": {
    "slideshow": {
     "slide_type": "skip"
    }
   },
   "source": [
    "Notice what happened right there. As soon as the condition ` if (l == 'c'):` was satisfied, the script began to execute that innermost block of code. It was able to execute the first `print` statement, but immediately upon reaching the break, it exited the `for` loop and continued execution. In this case, that resulted in the final print statement before the program exited."
   ]
  },
  {
   "cell_type": "markdown",
   "metadata": {
    "slideshow": {
     "slide_type": "skip"
    }
   },
   "source": [
    "### Continue Statements"
   ]
  },
  {
   "cell_type": "markdown",
   "metadata": {
    "slideshow": {
     "slide_type": "skip"
    }
   },
   "source": [
    "If you understood the `break` command, then `continue` should make a lot of sense. In the same way that we can short circuit the execution the flow of a loop using `break` and half the execution, we can use `continue` to skip some of the processing for a particular iteration through the loop. Again, this is more easily seen than explained:"
   ]
  },
  {
   "cell_type": "code",
   "execution_count": 13,
   "metadata": {
    "collapsed": false,
    "slideshow": {
     "slide_type": "skip"
    }
   },
   "outputs": [
    {
     "name": "stdout",
     "output_type": "stream",
     "text": [
      "let's start\n",
      "a\n",
      "b\n",
      "before the continue\n",
      "d\n",
      "e\n",
      "and we're done\n"
     ]
    }
   ],
   "source": [
    "# Create a variable so we can track the execution of the code\n",
    "list = ['a', 'b', 'c', 'd', 'e']\n",
    "\n",
    "print \"let's start\"\n",
    "\n",
    "# let's iterate through the list, printing each element\n",
    "for l in list:\n",
    "    if (l == 'c'):\n",
    "        print \"before the continue\"\n",
    "        continue\n",
    "        print \"after the continue\"\n",
    "    else:\n",
    "        print l\n",
    "\n",
    "print \"and we're done\""
   ]
  },
  {
   "cell_type": "markdown",
   "metadata": {
    "slideshow": {
     "slide_type": "skip"
    }
   },
   "source": [
    "## References"
   ]
  },
  {
   "cell_type": "markdown",
   "metadata": {
    "slideshow": {
     "slide_type": "skip"
    }
   },
   "source": [
    "* [The if, for and range() statements](https://docs.python.org/2/tutorial/controlflow.html)\n",
    "* [The while loop](https://docs.python.org/2/reference/compound_stmts.html)"
   ]
  }
 ],
 "metadata": {
  "celltoolbar": "Slideshow",
  "kernelspec": {
   "display_name": "Python 2",
   "language": "python",
   "name": "python2"
  },
  "language_info": {
   "codemirror_mode": {
    "name": "ipython",
    "version": 2
   },
   "file_extension": ".py",
   "mimetype": "text/x-python",
   "name": "python",
   "nbconvert_exporter": "python",
   "pygments_lexer": "ipython2",
   "version": "2.7.11"
  }
 },
 "nbformat": 4,
 "nbformat_minor": 0
}
