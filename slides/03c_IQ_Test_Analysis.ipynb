{
 "cells": [
  {
   "cell_type": "markdown",
   "metadata": {
    "slideshow": {
     "slide_type": "slide"
    }
   },
   "source": [
    "## Boilerplate"
   ]
  },
  {
   "cell_type": "code",
   "execution_count": 1,
   "metadata": {
    "collapsed": true,
    "slideshow": {
     "slide_type": "skip"
    }
   },
   "outputs": [],
   "source": [
    "%matplotlib inline"
   ]
  },
  {
   "cell_type": "code",
   "execution_count": 2,
   "metadata": {
    "collapsed": true
   },
   "outputs": [],
   "source": [
    "# Our standard set of imports for pandas, numpy and matplotlib\n",
    "import pandas as pd\n",
    "import numpy as np\n",
    "import matplotlib.pyplot as plt\n",
    "import seaborn as sns\n",
    "import scipy.stats as stats\n",
    "import statsmodels.stats.weightstats as sms\n",
    "\n",
    "from math import sqrt\n",
    "\n",
    "# some imports to handle HTML requests and parsing the results\n",
    "from StringIO import StringIO\n",
    "import requests"
   ]
  },
  {
   "cell_type": "markdown",
   "metadata": {
    "slideshow": {
     "slide_type": "slide"
    }
   },
   "source": [
    "## Hypothesis Tests in Python: From Scratch"
   ]
  },
  {
   "cell_type": "markdown",
   "metadata": {
    "slideshow": {
     "slide_type": "slide"
    }
   },
   "source": [
    "### What's our plan for testing the IQ data?"
   ]
  },
  {
   "cell_type": "markdown",
   "metadata": {},
   "source": [
    "* What's the basic question we're going to ask? \n",
    "    * Are we smarter than average\n",
    "* Form a null hypothesis\n",
    "* Generate a test statistic\n",
    "* Check the surprise paradigm"
   ]
  },
  {
   "cell_type": "markdown",
   "metadata": {},
   "source": [
    "What's missing from our bag our tricks?"
   ]
  },
  {
   "cell_type": "markdown",
   "metadata": {
    "slideshow": {
     "slide_type": "slide"
    }
   },
   "source": [
    "### Previously, we used the Binomial Distribution for our model."
   ]
  },
  {
   "cell_type": "markdown",
   "metadata": {
    "slideshow": {
     "slide_type": "fragment"
    }
   },
   "source": [
    "Does it make sense to use that model here? Does this \"feel\" like flipping a coin?"
   ]
  },
  {
   "cell_type": "markdown",
   "metadata": {
    "slideshow": {
     "slide_type": "fragment"
    }
   },
   "source": [
    "Not really. We need something else."
   ]
  },
  {
   "cell_type": "markdown",
   "metadata": {
    "slideshow": {
     "slide_type": "slide"
    }
   },
   "source": [
    "### Introducing the Central Limit Theorem"
   ]
  },
  {
   "cell_type": "markdown",
   "metadata": {},
   "source": [
    "The arithmetic mean of a sufficiently large number of iterates of independent random variables, each with a well-defined expected value and well-defined variance, will be approximately normally distributed, regardless of the underlying distribution."
   ]
  },
  {
   "cell_type": "markdown",
   "metadata": {},
   "source": [
    "The distribution of the mean will have:\n",
    "* N = # Samples that we have\n",
    "* $\\mu_0$ = Population Mean\n",
    "* $\\sigma$ = Population standard deviation\n",
    "* $SE = \\frac{\\sigma}{\\sqrt{N}}$ = Standard Error = Std. Dev. of Sample Mean"
   ]
  },
  {
   "cell_type": "markdown",
   "metadata": {
    "slideshow": {
     "slide_type": "slide"
    }
   },
   "source": [
    "### How Do We Use This?"
   ]
  },
  {
   "cell_type": "markdown",
   "metadata": {},
   "source": [
    "The same exact way, except when we build our test stat, we test it against a Normal Distribution (sort of) not a Binomial."
   ]
  },
  {
   "cell_type": "markdown",
   "metadata": {
    "slideshow": {
     "slide_type": "slide"
    }
   },
   "source": [
    "### What's Our Test Statistic?"
   ]
  },
  {
   "cell_type": "markdown",
   "metadata": {},
   "source": [
    "In this case, we'll do the following"
   ]
  },
  {
   "cell_type": "markdown",
   "metadata": {},
   "source": [
    "$$\n",
    "z = \\frac{\\bar{x} - \\mu_{0}}{SE}\n",
    "$$"
   ]
  },
  {
   "cell_type": "markdown",
   "metadata": {},
   "source": [
    "where $\\bar{x}$ is the sample mean and $\\mu_0$ is the population mean, i.e. what we expect."
   ]
  },
  {
   "cell_type": "markdown",
   "metadata": {
    "slideshow": {
     "slide_type": "slide"
    }
   },
   "source": [
    "### Let's Start With Some Previously Collected Data"
   ]
  },
  {
   "cell_type": "code",
   "execution_count": 3,
   "metadata": {
    "collapsed": true,
    "slideshow": {
     "slide_type": "skip"
    }
   },
   "outputs": [],
   "source": [
    "## Some Data From A Previous Run Of The Experiment\n",
    "\n",
    "# set up the URL\n",
    "url = 'https://docs.google.com/a/bu.edu/spreadsheets/d/'\n",
    "\n",
    "# the unique key of the spreadsheet. The sheet must be open to \"all\"\n",
    "key = '1mXsoSh_l_WeuJE1E5xjNfsI5yhgqSa3kCne4i65iyw4'\n",
    "\n",
    "# some required formatting info. this requests CSV\n",
    "export = '/export?format=csv&id='\n",
    "\n",
    "# put together the string\n",
    "urlString = url+key+export+key\n",
    "\n",
    "# html request\n",
    "data = requests.get(urlString).content\n",
    "\n",
    "# and parsing the request into a DataFrame\n",
    "df_old = pd.read_csv(StringIO(data))\n",
    "\n",
    "# and let's make the relevant column name a bit easier to deal with\n",
    "df_old.rename(columns={'My IQ is:': 'IQ'}, inplace=True)"
   ]
  },
  {
   "cell_type": "code",
   "execution_count": 4,
   "metadata": {
    "collapsed": false,
    "slideshow": {
     "slide_type": "slide"
    }
   },
   "outputs": [
    {
     "data": {
      "text/html": [
       "<div>\n",
       "<table border=\"1\" class=\"dataframe\">\n",
       "  <thead>\n",
       "    <tr style=\"text-align: right;\">\n",
       "      <th></th>\n",
       "      <th>Timestamp</th>\n",
       "      <th>Username</th>\n",
       "      <th>IQ</th>\n",
       "    </tr>\n",
       "  </thead>\n",
       "  <tbody>\n",
       "    <tr>\n",
       "      <th>38</th>\n",
       "      <td>9/13/2015</td>\n",
       "      <td>user39</td>\n",
       "      <td>110</td>\n",
       "    </tr>\n",
       "    <tr>\n",
       "      <th>5</th>\n",
       "      <td>9/13/2015</td>\n",
       "      <td>user6</td>\n",
       "      <td>95</td>\n",
       "    </tr>\n",
       "    <tr>\n",
       "      <th>28</th>\n",
       "      <td>9/13/2015</td>\n",
       "      <td>user29</td>\n",
       "      <td>112</td>\n",
       "    </tr>\n",
       "    <tr>\n",
       "      <th>35</th>\n",
       "      <td>9/13/2015</td>\n",
       "      <td>user36</td>\n",
       "      <td>85</td>\n",
       "    </tr>\n",
       "    <tr>\n",
       "      <th>42</th>\n",
       "      <td>9/13/2015</td>\n",
       "      <td>user43</td>\n",
       "      <td>100</td>\n",
       "    </tr>\n",
       "  </tbody>\n",
       "</table>\n",
       "</div>"
      ],
      "text/plain": [
       "    Timestamp Username   IQ\n",
       "38  9/13/2015   user39  110\n",
       "5   9/13/2015    user6   95\n",
       "28  9/13/2015   user29  112\n",
       "35  9/13/2015   user36   85\n",
       "42  9/13/2015   user43  100"
      ]
     },
     "execution_count": 4,
     "metadata": {},
     "output_type": "execute_result"
    }
   ],
   "source": [
    "df_old.sample(5)"
   ]
  },
  {
   "cell_type": "code",
   "execution_count": 5,
   "metadata": {
    "collapsed": false,
    "slideshow": {
     "slide_type": "slide"
    }
   },
   "outputs": [
    {
     "data": {
      "text/html": [
       "<div>\n",
       "<table border=\"1\" class=\"dataframe\">\n",
       "  <thead>\n",
       "    <tr style=\"text-align: right;\">\n",
       "      <th></th>\n",
       "      <th>IQ</th>\n",
       "    </tr>\n",
       "  </thead>\n",
       "  <tbody>\n",
       "    <tr>\n",
       "      <th>count</th>\n",
       "      <td>55.000000</td>\n",
       "    </tr>\n",
       "    <tr>\n",
       "      <th>mean</th>\n",
       "      <td>101.400000</td>\n",
       "    </tr>\n",
       "    <tr>\n",
       "      <th>std</th>\n",
       "      <td>13.370227</td>\n",
       "    </tr>\n",
       "    <tr>\n",
       "      <th>min</th>\n",
       "      <td>75.000000</td>\n",
       "    </tr>\n",
       "    <tr>\n",
       "      <th>25%</th>\n",
       "      <td>90.000000</td>\n",
       "    </tr>\n",
       "    <tr>\n",
       "      <th>50%</th>\n",
       "      <td>103.000000</td>\n",
       "    </tr>\n",
       "    <tr>\n",
       "      <th>75%</th>\n",
       "      <td>110.000000</td>\n",
       "    </tr>\n",
       "    <tr>\n",
       "      <th>max</th>\n",
       "      <td>133.000000</td>\n",
       "    </tr>\n",
       "  </tbody>\n",
       "</table>\n",
       "</div>"
      ],
      "text/plain": [
       "               IQ\n",
       "count   55.000000\n",
       "mean   101.400000\n",
       "std     13.370227\n",
       "min     75.000000\n",
       "25%     90.000000\n",
       "50%    103.000000\n",
       "75%    110.000000\n",
       "max    133.000000"
      ]
     },
     "execution_count": 5,
     "metadata": {},
     "output_type": "execute_result"
    }
   ],
   "source": [
    "df_old.describe()"
   ]
  },
  {
   "cell_type": "code",
   "execution_count": 6,
   "metadata": {
    "collapsed": false,
    "slideshow": {
     "slide_type": "slide"
    }
   },
   "outputs": [
    {
     "data": {
      "image/png": "[encoded data removed]",
      "text/plain": [
       "<matplotlib.figure.Figure at 0x10ec1be90>"
      ]
     },
     "metadata": {},
     "output_type": "display_data"
    }
   ],
   "source": [
    "# let's get a distribution plot\n",
    "\n",
    "g = sns.distplot(df_old.IQ,rug=True, bins=10);\n",
    "g.figure.set_size_inches(10,7)"
   ]
  },
  {
   "cell_type": "code",
   "execution_count": 7,
   "metadata": {
    "collapsed": false,
    "slideshow": {
     "slide_type": "slide"
    }
   },
   "outputs": [
    {
     "name": "stdout",
     "output_type": "stream",
     "text": [
      "STD ERROR:  2.02259958739\n",
      "TEST STAT:  0.692178525462\n",
      "PVALUE:     0.488825222849\n"
     ]
    }
   ],
   "source": [
    "# we know the standard deviation of the population,\n",
    "# so we can use a z-test\n",
    "std = 15.0\n",
    "mean_H0 = 100.0\n",
    "\n",
    "N = df_old.IQ.count()\n",
    "test_mean = df_old.IQ.mean()\n",
    "\n",
    "SE = 15 / sqrt(N)\n",
    "\n",
    "# create the test statistic\n",
    "test_stat = abs(test_mean - mean_H0) / SE\n",
    "\n",
    "print 'STD ERROR: ', SE\n",
    "print 'TEST STAT: ', test_stat\n",
    "print 'PVALUE:    ', 2*stats.norm.sf(test_stat)"
   ]
  },
  {
   "cell_type": "code",
   "execution_count": 8,
   "metadata": {
    "collapsed": false,
    "slideshow": {
     "slide_type": "slide"
    }
   },
   "outputs": [
    {
     "data": {
      "text/plain": [
       "<matplotlib.collections.PolyCollection at 0x1145cd290>"
      ]
     },
     "execution_count": 8,
     "metadata": {},
     "output_type": "execute_result"
    },
    {
     "data": {
      "image/png": "[encoded data removed]",
      "text/plain": [
       "<matplotlib.figure.Figure at 0x114545390>"
      ]
     },
     "metadata": {},
     "output_type": "display_data"
    }
   ],
   "source": [
    "#plot the pdfs of these normal distributions\n",
    "rv = stats.norm(loc = 0, scale = 1.0)\n",
    "x = np.arange(-5,5,0.01)\n",
    "x1 = np.arange(test_stat,5,0.01)\n",
    "x2 = np.arange(-5,-test_stat,0.01)\n",
    "\n",
    "plt.figure(figsize=(8,6))\n",
    "plt.fill_between(x, rv.pdf(x), color='r',alpha=0.25)\n",
    "plt.fill_between(x1, rv.pdf(x1), color='b',alpha=0.25)\n",
    "plt.fill_between(x2, rv.pdf(x2), color='b',alpha=0.25)"
   ]
  },
  {
   "cell_type": "markdown",
   "metadata": {
    "slideshow": {
     "slide_type": "slide"
    }
   },
   "source": [
    "### Pulling It All Together"
   ]
  },
  {
   "cell_type": "markdown",
   "metadata": {},
   "source": [
    "Ok, so great, we use the Normal distribution to determine if we should be surprised by our test stat."
   ]
  },
  {
   "cell_type": "markdown",
   "metadata": {},
   "source": [
    "Not quite. It turns out we can't use the Normal unless we know the population std deviation."
   ]
  },
  {
   "cell_type": "markdown",
   "metadata": {},
   "source": [
    "If we have to estimate the population std deviation using the data, then we'll use the Student's T Distribution."
   ]
  },
  {
   "cell_type": "markdown",
   "metadata": {},
   "source": [
    "More \"heavy tailed\" than a Normal, but if the number of samples is large, then they're basically identical."
   ]
  },
  {
   "cell_type": "markdown",
   "metadata": {
    "slideshow": {
     "slide_type": "slide"
    }
   },
   "source": [
    "### Hypothesis Tests in Python Using A Library"
   ]
  },
  {
   "cell_type": "markdown",
   "metadata": {},
   "source": [
    "Python doesn't provide a single sample z-test straight out of a library, so let's just use the t-test by default."
   ]
  },
  {
   "cell_type": "markdown",
   "metadata": {},
   "source": [
    "In general this is better for us anyway since we'll seldom have the population standard deviation."
   ]
  },
  {
   "cell_type": "markdown",
   "metadata": {
    "slideshow": {
     "slide_type": "slide"
    }
   },
   "source": [
    "## If p is low, the null must go, so what's our conclusion?"
   ]
  },
  {
   "cell_type": "code",
   "execution_count": 9,
   "metadata": {
    "collapsed": false
   },
   "outputs": [
    {
     "name": "stdout",
     "output_type": "stream",
     "text": [
      "T-TEST\n",
      "   TEST_STAT:  0.776552117418\n",
      "   P_VALUE:    0.44081138373\n"
     ]
    }
   ],
   "source": [
    "# Let's use the test in Scipy for our ttest\n",
    "test_stat, pvalue = stats.ttest_1samp(df_old.IQ, popmean=100)\n",
    "\n",
    "print 'T-TEST'\n",
    "print '   TEST_STAT: ', test_stat\n",
    "print '   P_VALUE:   ', pvalue"
   ]
  },
  {
   "cell_type": "markdown",
   "metadata": {
    "slideshow": {
     "slide_type": "slide"
    }
   },
   "source": [
    "## Let's Look At The Results of Our IQ Test"
   ]
  },
  {
   "cell_type": "code",
   "execution_count": 10,
   "metadata": {
    "collapsed": true,
    "slideshow": {
     "slide_type": "skip"
    }
   },
   "outputs": [],
   "source": [
    "# set up the URL\n",
    "url = 'https://docs.google.com/a/bu.edu/spreadsheets/d/'\n",
    "\n",
    "# the unique key of the spreadsheet. The sheet must be open to \"all\"\n",
    "key = '1xTQTjmrP9ldjw5hrATUZs3u_djagWKTF_0-pH2x0I-Y'\n",
    "\n",
    "# some required formatting info. this requests CSV\n",
    "export = '/export?format=csv&id='\n",
    "\n",
    "# put together the string\n",
    "urlString = url+key+export+key\n",
    "\n",
    "# html request\n",
    "data = requests.get(urlString).content\n",
    "\n",
    "# and parsing the request into a DataFrame\n",
    "df = pd.read_csv(StringIO(data))\n",
    "\n",
    "# and let's make the relevant column name a bit easier to deal with\n",
    "df.rename(columns={'My IQ is:': 'IQ'}, inplace=True)"
   ]
  },
  {
   "cell_type": "code",
   "execution_count": 11,
   "metadata": {
    "collapsed": false
   },
   "outputs": [
    {
     "data": {
      "text/html": [
       "<div>\n",
       "<table border=\"1\" class=\"dataframe\">\n",
       "  <thead>\n",
       "    <tr style=\"text-align: right;\">\n",
       "      <th></th>\n",
       "      <th>Timestamp</th>\n",
       "      <th>Username</th>\n",
       "      <th>IQ</th>\n",
       "    </tr>\n",
       "  </thead>\n",
       "  <tbody>\n",
       "    <tr>\n",
       "      <th>count</th>\n",
       "      <td>0</td>\n",
       "      <td>0</td>\n",
       "      <td>0</td>\n",
       "    </tr>\n",
       "    <tr>\n",
       "      <th>unique</th>\n",
       "      <td>0</td>\n",
       "      <td>0</td>\n",
       "      <td>0</td>\n",
       "    </tr>\n",
       "  </tbody>\n",
       "</table>\n",
       "</div>"
      ],
      "text/plain": [
       "        Timestamp  Username  IQ\n",
       "count           0         0   0\n",
       "unique          0         0   0"
      ]
     },
     "execution_count": 11,
     "metadata": {},
     "output_type": "execute_result"
    }
   ],
   "source": [
    "df.describe()"
   ]
  },
  {
   "cell_type": "code",
   "execution_count": 12,
   "metadata": {
    "collapsed": true,
    "slideshow": {
     "slide_type": "slide"
    }
   },
   "outputs": [],
   "source": [
    "# let's get a distribution plot\n",
    "\n",
    "# g = sns.distplot(df.IQ,rug=True, bins=10);\n",
    "# g.figure.set_size_inches(10,7)"
   ]
  }
 ],
 "metadata": {
  "celltoolbar": "Slideshow",
  "kernelspec": {
   "display_name": "Python 2",
   "language": "python",
   "name": "python2"
  },
  "language_info": {
   "codemirror_mode": {
    "name": "ipython",
    "version": 2
   },
   "file_extension": ".py",
   "mimetype": "text/x-python",
   "name": "python",
   "nbconvert_exporter": "python",
   "pygments_lexer": "ipython2",
   "version": "2.7.11"
  }
 },
 "nbformat": 4,
 "nbformat_minor": 0
}
