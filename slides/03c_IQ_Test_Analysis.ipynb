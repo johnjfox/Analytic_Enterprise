{
 "cells": [
  {
   "cell_type": "markdown",
   "metadata": {
    "slideshow": {
     "slide_type": "slide"
    }
   },
   "source": [
    "## Boilerplate"
   ]
  },
  {
   "cell_type": "code",
   "execution_count": 1,
   "metadata": {
    "collapsed": true,
    "slideshow": {
     "slide_type": "skip"
    }
   },
   "outputs": [],
   "source": [
    "%matplotlib inline"
   ]
  },
  {
   "cell_type": "code",
   "execution_count": 2,
   "metadata": {
    "collapsed": true
   },
   "outputs": [],
   "source": [
    "# Our standard set of imports for pandas, numpy and matplotlib\n",
    "import pandas as pd\n",
    "import numpy as np\n",
    "import matplotlib.pyplot as plt\n",
    "import seaborn as sns\n",
    "import scipy.stats as stats\n",
    "import statsmodels.stats.weightstats as sms\n",
    "\n",
    "from math import sqrt\n",
    "\n",
    "# some imports to handle HTML requests and parsing the results\n",
    "from StringIO import StringIO\n",
    "import requests"
   ]
  },
  {
   "cell_type": "markdown",
   "metadata": {
    "slideshow": {
     "slide_type": "slide"
    }
   },
   "source": [
    "## Hypothesis Tests in Python: From Scratch"
   ]
  },
  {
   "cell_type": "markdown",
   "metadata": {
    "slideshow": {
     "slide_type": "slide"
    }
   },
   "source": [
    "### What's our plan for testing the IQ data?"
   ]
  },
  {
   "cell_type": "markdown",
   "metadata": {},
   "source": [
    "* What's the basic question we're going to ask? \n",
    "    * Are we smarter than average?\n",
    "* Form a null hypothesis\n",
    "* Generate a test statistic\n",
    "* Check the surprise paradigm"
   ]
  },
  {
   "cell_type": "markdown",
   "metadata": {},
   "source": [
    "What's missing from our bag our tricks?"
   ]
  },
  {
   "cell_type": "markdown",
   "metadata": {
    "slideshow": {
     "slide_type": "slide"
    }
   },
   "source": [
    "### Previously, we used the Binomial Distribution for our model."
   ]
  },
  {
   "cell_type": "markdown",
   "metadata": {
    "slideshow": {
     "slide_type": "fragment"
    }
   },
   "source": [
    "Does it make sense to use that model here? Does this \"feel\" like flipping a coin?"
   ]
  },
  {
   "cell_type": "markdown",
   "metadata": {
    "slideshow": {
     "slide_type": "fragment"
    }
   },
   "source": [
    "Not really. We need something else."
   ]
  },
  {
   "cell_type": "markdown",
   "metadata": {
    "slideshow": {
     "slide_type": "slide"
    }
   },
   "source": [
    "### Introducing the Central Limit Theorem"
   ]
  },
  {
   "cell_type": "markdown",
   "metadata": {},
   "source": [
    "The arithmetic mean of a sufficiently large number of iterates of independent random variables, each with a well-defined expected value and well-defined variance, will be approximately normally distributed, regardless of the underlying distribution."
   ]
  },
  {
   "cell_type": "markdown",
   "metadata": {},
   "source": [
    "The distribution of the mean will have:\n",
    "* $\\mu_0$ = Population Mean\n",
    "* $SE = \\frac{\\sigma}{\\sqrt{N}}$ = Standard Error = Std. Dev. of Sample Mean\n",
    "    * $\\sigma$ = Population standard deviation\n",
    "    * N = # Samples that we have"
   ]
  },
  {
   "cell_type": "markdown",
   "metadata": {
    "slideshow": {
     "slide_type": "slide"
    }
   },
   "source": [
    "### How Do We Use This?"
   ]
  },
  {
   "cell_type": "markdown",
   "metadata": {},
   "source": [
    "The same exact way, except when we build our test stat, we test it against a Normal Distribution (sort of) not a Binomial."
   ]
  },
  {
   "cell_type": "markdown",
   "metadata": {
    "slideshow": {
     "slide_type": "slide"
    }
   },
   "source": [
    "### What's Our Test Statistic?"
   ]
  },
  {
   "cell_type": "markdown",
   "metadata": {},
   "source": [
    "In this case, we'll do the following"
   ]
  },
  {
   "cell_type": "markdown",
   "metadata": {},
   "source": [
    "$$\n",
    "z = \\frac{\\bar{x} - \\mu_{0}}{SE}\n",
    "$$"
   ]
  },
  {
   "cell_type": "markdown",
   "metadata": {},
   "source": [
    "where $\\bar{x}$ is the sample mean and $\\mu_0$ is the population mean, i.e. what we expect."
   ]
  },
  {
   "cell_type": "markdown",
   "metadata": {
    "slideshow": {
     "slide_type": "slide"
    }
   },
   "source": [
    "### Z-tests"
   ]
  },
  {
   "cell_type": "code",
   "execution_count": 3,
   "metadata": {
    "collapsed": false,
    "slideshow": {
     "slide_type": "skip"
    }
   },
   "outputs": [],
   "source": [
    "from scipy.stats import norm\n",
    "\n",
    "#initialize a normal distribution with frozen in mean=-1, std. dev.= 1\n",
    "rv = norm(loc = 100, scale = 15.0)\n",
    "\n",
    "x = np.arange(25,175, 1)\n",
    "x2 = np.arange(115,175, 1)\n",
    "x3 = np.arange(130,175, 1)\n",
    "\n",
    "rv2 = norm(loc = 0, scale = 1.0)\n",
    "\n",
    "x10 = np.arange(-4,4,0.01)\n",
    "x20 = np.arange(1,4, 0.01)\n",
    "x30 = np.arange(2,4, 0.01)\n"
   ]
  },
  {
   "cell_type": "code",
   "execution_count": 4,
   "metadata": {
    "collapsed": false,
    "slideshow": {
     "slide_type": "slide"
    }
   },
   "outputs": [
    {
     "data": {
      "text/plain": [
       "<matplotlib.collections.PolyCollection at 0x111ac35d0>"
      ]
     },
     "execution_count": 4,
     "metadata": {},
     "output_type": "execute_result"
    },
    {
     "data": {
      "image/png": "[encoded data removed]",
      "text/plain": [
       "<matplotlib.figure.Figure at 0x10f661090>"
      ]
     },
     "metadata": {},
     "output_type": "display_data"
    },
    {
     "data": {
      "text/plain": [
       "<matplotlib.figure.Figure at 0x10f661050>"
      ]
     },
     "metadata": {},
     "output_type": "display_data"
    },
    {
     "data": {
      "text/plain": [
       "<matplotlib.figure.Figure at 0x111abb390>"
      ]
     },
     "metadata": {},
     "output_type": "display_data"
    }
   ],
   "source": [
    "#plot the pdfs of these normal distributions\n",
    "\n",
    "f, (ax1, ax2) = plt.subplots(1,2)\n",
    "plt.figure(figsize=(16,6))\n",
    "ax1.fill_between(x, rv.pdf(x), color='r',alpha=0.25)\n",
    "ax1.fill_between(x2, rv.pdf(x2), color='blue',alpha=0.25)\n",
    "ax1.fill_between(x3, rv.pdf(x3), color='black',alpha=0.5)\n",
    "plt.figure(figsize=(16,6))\n",
    "ax2.fill_between(x10, rv2.pdf(x10), color='r',alpha=0.25)\n",
    "ax2.fill_between(x20, rv2.pdf(x20), color='blue',alpha=0.25)\n",
    "ax2.fill_between(x30, rv2.pdf(x30), color='black',alpha=0.5)"
   ]
  },
  {
   "cell_type": "markdown",
   "metadata": {
    "slideshow": {
     "slide_type": "slide"
    }
   },
   "source": [
    "### Let's Start With Some Previously Collected Data"
   ]
  },
  {
   "cell_type": "code",
   "execution_count": 5,
   "metadata": {
    "collapsed": true,
    "slideshow": {
     "slide_type": "skip"
    }
   },
   "outputs": [],
   "source": [
    "## Some Data From A Previous Run Of The Experiment\n",
    "\n",
    "# set up the URL\n",
    "url = 'https://docs.google.com/a/bu.edu/spreadsheets/d/'\n",
    "\n",
    "# the unique key of the spreadsheet. The sheet must be open to \"all\"\n",
    "key = '1mXsoSh_l_WeuJE1E5xjNfsI5yhgqSa3kCne4i65iyw4'\n",
    "\n",
    "# some required formatting info. this requests CSV\n",
    "export = '/export?format=csv&id='\n",
    "\n",
    "# put together the string\n",
    "urlString = url+key+export+key\n",
    "\n",
    "# html request\n",
    "data = requests.get(urlString).content\n",
    "\n",
    "# and parsing the request into a DataFrame\n",
    "df_old = pd.read_csv(StringIO(data))\n",
    "\n",
    "# and let's make the relevant column name a bit easier to deal with\n",
    "df_old.rename(columns={'My IQ is:': 'IQ'}, inplace=True)"
   ]
  },
  {
   "cell_type": "code",
   "execution_count": 6,
   "metadata": {
    "collapsed": false,
    "slideshow": {
     "slide_type": "slide"
    }
   },
   "outputs": [
    {
     "data": {
      "text/html": [
       "<div>\n",
       "<table border=\"1\" class=\"dataframe\">\n",
       "  <thead>\n",
       "    <tr style=\"text-align: right;\">\n",
       "      <th></th>\n",
       "      <th>Timestamp</th>\n",
       "      <th>Username</th>\n",
       "      <th>IQ</th>\n",
       "    </tr>\n",
       "  </thead>\n",
       "  <tbody>\n",
       "    <tr>\n",
       "      <th>54</th>\n",
       "      <td>9/13/2015</td>\n",
       "      <td>user55</td>\n",
       "      <td>103</td>\n",
       "    </tr>\n",
       "    <tr>\n",
       "      <th>16</th>\n",
       "      <td>9/13/2015</td>\n",
       "      <td>user17</td>\n",
       "      <td>110</td>\n",
       "    </tr>\n",
       "    <tr>\n",
       "      <th>0</th>\n",
       "      <td>9/13/2015</td>\n",
       "      <td>user1</td>\n",
       "      <td>108</td>\n",
       "    </tr>\n",
       "    <tr>\n",
       "      <th>44</th>\n",
       "      <td>9/13/2015</td>\n",
       "      <td>user45</td>\n",
       "      <td>106</td>\n",
       "    </tr>\n",
       "    <tr>\n",
       "      <th>45</th>\n",
       "      <td>9/13/2015</td>\n",
       "      <td>user46</td>\n",
       "      <td>108</td>\n",
       "    </tr>\n",
       "  </tbody>\n",
       "</table>\n",
       "</div>"
      ],
      "text/plain": [
       "    Timestamp Username   IQ\n",
       "54  9/13/2015   user55  103\n",
       "16  9/13/2015   user17  110\n",
       "0   9/13/2015    user1  108\n",
       "44  9/13/2015   user45  106\n",
       "45  9/13/2015   user46  108"
      ]
     },
     "execution_count": 6,
     "metadata": {},
     "output_type": "execute_result"
    }
   ],
   "source": [
    "df_old.sample(5)"
   ]
  },
  {
   "cell_type": "code",
   "execution_count": 7,
   "metadata": {
    "collapsed": false,
    "slideshow": {
     "slide_type": "slide"
    }
   },
   "outputs": [
    {
     "data": {
      "text/html": [
       "<div>\n",
       "<table border=\"1\" class=\"dataframe\">\n",
       "  <thead>\n",
       "    <tr style=\"text-align: right;\">\n",
       "      <th></th>\n",
       "      <th>IQ</th>\n",
       "    </tr>\n",
       "  </thead>\n",
       "  <tbody>\n",
       "    <tr>\n",
       "      <th>count</th>\n",
       "      <td>55.000000</td>\n",
       "    </tr>\n",
       "    <tr>\n",
       "      <th>mean</th>\n",
       "      <td>101.400000</td>\n",
       "    </tr>\n",
       "    <tr>\n",
       "      <th>std</th>\n",
       "      <td>13.370227</td>\n",
       "    </tr>\n",
       "    <tr>\n",
       "      <th>min</th>\n",
       "      <td>75.000000</td>\n",
       "    </tr>\n",
       "    <tr>\n",
       "      <th>25%</th>\n",
       "      <td>90.000000</td>\n",
       "    </tr>\n",
       "    <tr>\n",
       "      <th>50%</th>\n",
       "      <td>103.000000</td>\n",
       "    </tr>\n",
       "    <tr>\n",
       "      <th>75%</th>\n",
       "      <td>110.000000</td>\n",
       "    </tr>\n",
       "    <tr>\n",
       "      <th>max</th>\n",
       "      <td>133.000000</td>\n",
       "    </tr>\n",
       "  </tbody>\n",
       "</table>\n",
       "</div>"
      ],
      "text/plain": [
       "               IQ\n",
       "count   55.000000\n",
       "mean   101.400000\n",
       "std     13.370227\n",
       "min     75.000000\n",
       "25%     90.000000\n",
       "50%    103.000000\n",
       "75%    110.000000\n",
       "max    133.000000"
      ]
     },
     "execution_count": 7,
     "metadata": {},
     "output_type": "execute_result"
    }
   ],
   "source": [
    "df_old.describe()"
   ]
  },
  {
   "cell_type": "code",
   "execution_count": 8,
   "metadata": {
    "collapsed": false,
    "slideshow": {
     "slide_type": "slide"
    }
   },
   "outputs": [
    {
     "data": {
      "image/png": "[encoded data removed]",
      "text/plain": [
       "<matplotlib.figure.Figure at 0x10f65c350>"
      ]
     },
     "metadata": {},
     "output_type": "display_data"
    }
   ],
   "source": [
    "# let's get a distribution plot\n",
    "\n",
    "g = sns.distplot(df_old.IQ,rug=True, bins=10);\n",
    "g.figure.set_size_inches(10,7)"
   ]
  },
  {
   "cell_type": "code",
   "execution_count": 9,
   "metadata": {
    "collapsed": false,
    "slideshow": {
     "slide_type": "slide"
    }
   },
   "outputs": [
    {
     "name": "stdout",
     "output_type": "stream",
     "text": [
      "STD ERROR:  2.02259958739\n",
      "TEST STAT:  0.692178525462\n",
      "PVALUE:     0.488825222849\n"
     ]
    }
   ],
   "source": [
    "# we know the standard deviation of the population,\n",
    "# so we can use a z-test\n",
    "std = 15.0\n",
    "mean_H0 = 100.0\n",
    "\n",
    "N = df_old.IQ.count()\n",
    "test_mean = df_old.IQ.mean()\n",
    "\n",
    "SE = 15 / sqrt(N)\n",
    "\n",
    "# create the test statistic\n",
    "test_stat = abs(test_mean - mean_H0) / SE\n",
    "\n",
    "print 'STD ERROR: ', SE\n",
    "print 'TEST STAT: ', test_stat\n",
    "print 'PVALUE:    ', 2*stats.norm.sf(test_stat)"
   ]
  },
  {
   "cell_type": "code",
   "execution_count": 10,
   "metadata": {
    "collapsed": false,
    "slideshow": {
     "slide_type": "slide"
    }
   },
   "outputs": [
    {
     "data": {
      "text/plain": [
       "<matplotlib.collections.PolyCollection at 0x115658850>"
      ]
     },
     "execution_count": 10,
     "metadata": {},
     "output_type": "execute_result"
    },
    {
     "data": {
      "image/png": "[encoded data removed]",
      "text/plain": [
       "<matplotlib.figure.Figure at 0x1154765d0>"
      ]
     },
     "metadata": {},
     "output_type": "display_data"
    }
   ],
   "source": [
    "#plot the pdfs of these normal distributions\n",
    "rv = stats.norm(loc = 0, scale = 1.0)\n",
    "x = np.arange(-5,5,0.01)\n",
    "x1 = np.arange(test_stat,5,0.01)\n",
    "x2 = np.arange(-5,-test_stat,0.01)\n",
    "\n",
    "f = plt.figure(figsize=(8,6))\n",
    "f.text(0.6,0.6,'Z = '+str(test_stat))\n",
    "plt.fill_between(x, rv.pdf(x), color='r',alpha=0.25)\n",
    "plt.fill_between(x1, rv.pdf(x1), color='b',alpha=0.25)\n",
    "plt.fill_between(x2, rv.pdf(x2), color='b',alpha=0.25)"
   ]
  },
  {
   "cell_type": "markdown",
   "metadata": {
    "slideshow": {
     "slide_type": "slide"
    }
   },
   "source": [
    "### Pulling It All Together"
   ]
  },
  {
   "cell_type": "markdown",
   "metadata": {},
   "source": [
    "Ok, so great, we use the Normal distribution to determine if we should be surprised by our test stat."
   ]
  },
  {
   "cell_type": "markdown",
   "metadata": {},
   "source": [
    "Not quite. It turns out we can't use the Normal unless we know the population std deviation."
   ]
  },
  {
   "cell_type": "markdown",
   "metadata": {},
   "source": [
    "If we have to estimate the population std deviation using the data, then we'll use the Student's T Distribution."
   ]
  },
  {
   "cell_type": "markdown",
   "metadata": {},
   "source": [
    "More \"heavy tailed\" than a Normal, but if the number of samples is large, then they're basically identical."
   ]
  },
  {
   "cell_type": "markdown",
   "metadata": {
    "slideshow": {
     "slide_type": "slide"
    }
   },
   "source": [
    "### Hypothesis Tests in Python Using A Library"
   ]
  },
  {
   "cell_type": "markdown",
   "metadata": {},
   "source": [
    "Python doesn't provide a single sample z-test straight out of a library, so let's just use the t-test by default."
   ]
  },
  {
   "cell_type": "markdown",
   "metadata": {},
   "source": [
    "In general this is better for us anyway since we'll seldom have the population standard deviation."
   ]
  },
  {
   "cell_type": "markdown",
   "metadata": {
    "slideshow": {
     "slide_type": "slide"
    }
   },
   "source": [
    "## If p is low, the null must go, so what's our conclusion?"
   ]
  },
  {
   "cell_type": "code",
   "execution_count": 11,
   "metadata": {
    "collapsed": false
   },
   "outputs": [
    {
     "name": "stdout",
     "output_type": "stream",
     "text": [
      "T-TEST\n",
      "   TEST_STAT:  0.776552117418\n",
      "   P_VALUE:    0.44081138373\n"
     ]
    }
   ],
   "source": [
    "# Let's use the test in Scipy for our ttest\n",
    "test_stat, pvalue = stats.ttest_1samp(df_old.IQ, popmean=100)\n",
    "\n",
    "print 'T-TEST'\n",
    "print '   TEST_STAT: ', test_stat\n",
    "print '   P_VALUE:   ', pvalue"
   ]
  },
  {
   "cell_type": "markdown",
   "metadata": {
    "slideshow": {
     "slide_type": "slide"
    }
   },
   "source": [
    "## Let's Look At The Results of Our IQ Test"
   ]
  },
  {
   "cell_type": "code",
   "execution_count": 12,
   "metadata": {
    "collapsed": true,
    "slideshow": {
     "slide_type": "skip"
    }
   },
   "outputs": [],
   "source": [
    "# set up the URL\n",
    "url = 'https://docs.google.com/a/bu.edu/spreadsheets/d/'\n",
    "\n",
    "# the unique key of the spreadsheet. The sheet must be open to \"all\"\n",
    "key = '1xTQTjmrP9ldjw5hrATUZs3u_djagWKTF_0-pH2x0I-Y'\n",
    "\n",
    "# some required formatting info. this requests CSV\n",
    "export = '/export?format=csv&id='\n",
    "\n",
    "# put together the string\n",
    "urlString = url+key+export+key\n",
    "\n",
    "# html request\n",
    "data = requests.get(urlString).content\n",
    "\n",
    "# and parsing the request into a DataFrame\n",
    "df = pd.read_csv(StringIO(data))\n",
    "\n",
    "# and let's make the relevant column name a bit easier to deal with\n",
    "df.rename(columns={'My IQ is:': 'IQ'}, inplace=True)"
   ]
  },
  {
   "cell_type": "code",
   "execution_count": 13,
   "metadata": {
    "collapsed": false
   },
   "outputs": [
    {
     "data": {
      "text/html": [
       "<div>\n",
       "<table border=\"1\" class=\"dataframe\">\n",
       "  <thead>\n",
       "    <tr style=\"text-align: right;\">\n",
       "      <th></th>\n",
       "      <th>IQ</th>\n",
       "    </tr>\n",
       "  </thead>\n",
       "  <tbody>\n",
       "    <tr>\n",
       "      <th>count</th>\n",
       "      <td>37.000000</td>\n",
       "    </tr>\n",
       "    <tr>\n",
       "      <th>mean</th>\n",
       "      <td>111.918919</td>\n",
       "    </tr>\n",
       "    <tr>\n",
       "      <th>std</th>\n",
       "      <td>16.884211</td>\n",
       "    </tr>\n",
       "    <tr>\n",
       "      <th>min</th>\n",
       "      <td>76.000000</td>\n",
       "    </tr>\n",
       "    <tr>\n",
       "      <th>25%</th>\n",
       "      <td>100.000000</td>\n",
       "    </tr>\n",
       "    <tr>\n",
       "      <th>50%</th>\n",
       "      <td>114.000000</td>\n",
       "    </tr>\n",
       "    <tr>\n",
       "      <th>75%</th>\n",
       "      <td>124.000000</td>\n",
       "    </tr>\n",
       "    <tr>\n",
       "      <th>max</th>\n",
       "      <td>155.000000</td>\n",
       "    </tr>\n",
       "  </tbody>\n",
       "</table>\n",
       "</div>"
      ],
      "text/plain": [
       "               IQ\n",
       "count   37.000000\n",
       "mean   111.918919\n",
       "std     16.884211\n",
       "min     76.000000\n",
       "25%    100.000000\n",
       "50%    114.000000\n",
       "75%    124.000000\n",
       "max    155.000000"
      ]
     },
     "execution_count": 13,
     "metadata": {},
     "output_type": "execute_result"
    }
   ],
   "source": [
    "df.describe()"
   ]
  },
  {
   "cell_type": "code",
   "execution_count": 16,
   "metadata": {
    "collapsed": false,
    "slideshow": {
     "slide_type": "slide"
    }
   },
   "outputs": [
    {
     "data": {
      "image/png": "[encoded data removed]",
      "text/plain": [
       "<matplotlib.figure.Figure at 0x115afae10>"
      ]
     },
     "metadata": {},
     "output_type": "display_data"
    }
   ],
   "source": [
    "# let's get a distribution plot\n",
    "\n",
    "g = sns.distplot(df.IQ,rug=True, bins=10);\n",
    "g.figure.set_size_inches(10,7)"
   ]
  },
  {
   "cell_type": "code",
   "execution_count": 19,
   "metadata": {
    "collapsed": false
   },
   "outputs": [
    {
     "name": "stdout",
     "output_type": "stream",
     "text": [
      "0.000126759820107\n"
     ]
    }
   ],
   "source": [
    "test_stat, pvalue = stats.ttest_1samp(df.IQ, popmean=100)\n",
    "print pvalue\n"
   ]
  }
 ],
 "metadata": {
  "celltoolbar": "Slideshow",
  "kernelspec": {
   "display_name": "Python 2",
   "language": "python",
   "name": "python2"
  },
  "language_info": {
   "codemirror_mode": {
    "name": "ipython",
    "version": 2
   },
   "file_extension": ".py",
   "mimetype": "text/x-python",
   "name": "python",
   "nbconvert_exporter": "python",
   "pygments_lexer": "ipython2",
   "version": "2.7.11"
  }
 },
 "nbformat": 4,
 "nbformat_minor": 0
}
