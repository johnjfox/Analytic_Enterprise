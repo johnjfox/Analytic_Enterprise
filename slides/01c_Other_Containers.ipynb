{
 "cells": [
  {
   "cell_type": "markdown",
   "metadata": {
    "slideshow": {
     "slide_type": "skip"
    }
   },
   "source": [
    "\n",
    "# Crash Course on Python for Data Analysis"
   ]
  },
  {
   "cell_type": "markdown",
   "metadata": {
    "slideshow": {
     "slide_type": "skip"
    }
   },
   "source": [
    "## Where We're Headed\n",
    "**Our End Goal:**\n",
    "\n",
    "* Input data\n",
    "* Manipulate data until it's in the form we want\n",
    "* Produce a compelling graphic\n",
    "\n",
    "**Jupyter Notebook Basics**\n",
    "\n",
    "* Entering and executing Python\n",
    "* Documenting what you've done\n",
    "\n",
    "**Python Basics Pt 1**\n",
    "\n",
    "* Numbers and Calculations\n",
    "* Comments\n",
    "* Assignments\n",
    "* Extending Python by Importing Packages\n",
    "* Strings, Lists, and Tuples\n",
    "* Dictionaries and Sets\n",
    "\n",
    "**Python Basics Pt 2**\n",
    "\n",
    "* Booleans\n",
    "* Flow of Control\n",
    "\n",
    "**Python Basics Pt 3**\n",
    "\n",
    "* Input and Output"
   ]
  },
  {
   "cell_type": "markdown",
   "metadata": {
    "slideshow": {
     "slide_type": "skip"
    }
   },
   "source": [
    "==============================="
   ]
  },
  {
   "cell_type": "markdown",
   "metadata": {
    "slideshow": {
     "slide_type": "slide"
    }
   },
   "source": [
    "## Dictionaries"
   ]
  },
  {
   "cell_type": "markdown",
   "metadata": {},
   "source": [
    "A dictionary is basically a mapping between objects. What we've seen so far are sequences, objects where we can index them based on their position. A dictionary allows us to look up data based upon a \"key\". You can think of this as being analogous to a real dictionary. There, we look up a word, which is the \"ley\" for searching the disctionary, and obtain the definition (among other things). Here, we use the key to retrieve information, but instead of just the definition, we can store any class of information."
   ]
  },
  {
   "cell_type": "markdown",
   "metadata": {
    "slideshow": {
     "slide_type": "slide"
    }
   },
   "source": [
    "Creating a dictionary is straightforward. We simple create a collection of what's called key-value pairs. Here, the \"key\" will be the information we use to perform our lookup and the \"value\" will be the information we get back. The general form we will be\n",
    "    \n",
    "    dict = { \n",
    "             'key1': value, \n",
    "             'key2': value2\n",
    "           }"
   ]
  },
  {
   "cell_type": "markdown",
   "metadata": {
    "slideshow": {
     "slide_type": "slide"
    }
   },
   "source": [
    "A few things to keep in mind:"
   ]
  },
  {
   "cell_type": "markdown",
   "metadata": {},
   "source": [
    "* It's pretty common to use a string or an integer as the `key`, but there are other things that can be used as the key too. For instance, later in this notebook we'll be introduced to Tuples, which can be used as a key.\n",
    "* Same thing for the `value`; it can be any Python object\n",
    "* One important restriction though: every key **must** be unique.\n",
    "* Unlike a list, you can't rely on the order that that data is stored\n",
    "* We can't retrieve the keys by searching for the values. In other words the order in which we set these up matters."
   ]
  },
  {
   "cell_type": "markdown",
   "metadata": {
    "slideshow": {
     "slide_type": "slide"
    }
   },
   "source": [
    "Let's create a simple dictionary that we can practice with. Just to get started, let's imagine that we want to keep track of a few books and that the most natural way to do so is by author."
   ]
  },
  {
   "cell_type": "code",
   "execution_count": 1,
   "metadata": {
    "collapsed": false
   },
   "outputs": [
    {
     "name": "stdout",
     "output_type": "stream",
     "text": [
      "{'Hemingway': 'The Old Man in the Sea', 'Shakespeare': 'Hamlet'}\n"
     ]
    }
   ],
   "source": [
    "authors = {'Shakespeare': 'Hamlet', 'Hemingway': 'The Old Man in the Sea'}\n",
    "print authors"
   ]
  },
  {
   "cell_type": "code",
   "execution_count": 2,
   "metadata": {
    "collapsed": false
   },
   "outputs": [
    {
     "data": {
      "text/plain": [
       "'Hamlet'"
      ]
     },
     "execution_count": 2,
     "metadata": {},
     "output_type": "execute_result"
    }
   ],
   "source": [
    "# We can access the information by passing the name of the key as follows:\n",
    "# for instance is we want to retrieve the data associated with the key 'Shakespeare'\n",
    "authors['Shakespeare']"
   ]
  },
  {
   "cell_type": "code",
   "execution_count": 3,
   "metadata": {
    "collapsed": false
   },
   "outputs": [
    {
     "name": "stdout",
     "output_type": "stream",
     "text": [
      "{'Hemingway': 'The Old Man in the Sea', 'Shakespeare': 'Macbeth'}\n"
     ]
    }
   ],
   "source": [
    "# We can also set the values using the same approach\n",
    "authors['Shakespeare'] = 'Macbeth'\n",
    "print authors"
   ]
  },
  {
   "cell_type": "code",
   "execution_count": 4,
   "metadata": {
    "collapsed": false
   },
   "outputs": [
    {
     "name": "stdout",
     "output_type": "stream",
     "text": [
      "{'Hemingway': 'The Old Man in the Sea', 'Shakespeare': 'Macbeth', 'Seuss': 'Green Eggs and Ham'}\n"
     ]
    }
   ],
   "source": [
    "# finally we can easily add new values\n",
    "authors['Seuss'] = 'Green Eggs and Ham'\n",
    "print authors"
   ]
  },
  {
   "cell_type": "code",
   "execution_count": 5,
   "metadata": {
    "collapsed": true,
    "slideshow": {
     "slide_type": "slide"
    }
   },
   "outputs": [],
   "source": [
    "# as mentioned above, the values can be any type of object\n",
    "my_dict = {'key1': 'value', 'key2': 123, 'key3': [1,2,3]}"
   ]
  },
  {
   "cell_type": "markdown",
   "metadata": {
    "slideshow": {
     "slide_type": "slide"
    }
   },
   "source": [
    "### Methods and Recipes"
   ]
  },
  {
   "cell_type": "markdown",
   "metadata": {},
   "source": [
    "**Basic Methods**"
   ]
  },
  {
   "cell_type": "code",
   "execution_count": 6,
   "metadata": {
    "collapsed": false
   },
   "outputs": [
    {
     "data": {
      "text/plain": [
       "['The Old Man in the Sea', 'Macbeth', 'Green Eggs and Ham']"
      ]
     },
     "execution_count": 6,
     "metadata": {},
     "output_type": "execute_result"
    }
   ],
   "source": [
    "# we can access a list of the values\n",
    "authors.values()"
   ]
  },
  {
   "cell_type": "code",
   "execution_count": 7,
   "metadata": {
    "collapsed": false
   },
   "outputs": [
    {
     "data": {
      "text/plain": [
       "['Hemingway', 'Shakespeare', 'Seuss']"
      ]
     },
     "execution_count": 7,
     "metadata": {},
     "output_type": "execute_result"
    }
   ],
   "source": [
    "# we can access a list of the keys\n",
    "authors.keys()"
   ]
  },
  {
   "cell_type": "code",
   "execution_count": 8,
   "metadata": {
    "collapsed": false
   },
   "outputs": [
    {
     "data": {
      "text/plain": [
       "[('Hemingway', 'The Old Man in the Sea'),\n",
       " ('Shakespeare', 'Macbeth'),\n",
       " ('Seuss', 'Green Eggs and Ham')]"
      ]
     },
     "execution_count": 8,
     "metadata": {},
     "output_type": "execute_result"
    }
   ],
   "source": [
    "# we can access a list of all of the items as a list of tuples, where the first element is the key\n",
    "authors.items()"
   ]
  },
  {
   "cell_type": "markdown",
   "metadata": {
    "slideshow": {
     "slide_type": "slide"
    }
   },
   "source": [
    "**Nesting Dictionaries**"
   ]
  },
  {
   "cell_type": "markdown",
   "metadata": {},
   "source": [
    "One thing that you may find useful is to nest your dictionaries. This will allow you to create a hierarchy of data which may be especially handy if your trying to keep track of a complex set of information. Since dictionary values can be any class of Python object, they can also be a dictionary, which allows us to do things like this:"
   ]
  },
  {
   "cell_type": "code",
   "execution_count": 9,
   "metadata": {
    "collapsed": false
   },
   "outputs": [
    {
     "name": "stdout",
     "output_type": "stream",
     "text": [
      "{'k1': {'nestKey': {'subnest': 'value', 'subnest2': 'value2'}}}\n"
     ]
    }
   ],
   "source": [
    "nested = {'k1': {'nestKey': {'subnest': 'value', 'subnest2': 'value2'}}}\n",
    "print nested"
   ]
  },
  {
   "cell_type": "code",
   "execution_count": 10,
   "metadata": {
    "collapsed": false
   },
   "outputs": [
    {
     "data": {
      "text/plain": [
       "{'nestKey': {'subnest': 'value', 'subnest2': 'value2'}}"
      ]
     },
     "execution_count": 10,
     "metadata": {},
     "output_type": "execute_result"
    }
   ],
   "source": [
    "nested['k1']"
   ]
  },
  {
   "cell_type": "code",
   "execution_count": 11,
   "metadata": {
    "collapsed": false
   },
   "outputs": [
    {
     "data": {
      "text/plain": [
       "'value'"
      ]
     },
     "execution_count": 11,
     "metadata": {},
     "output_type": "execute_result"
    }
   ],
   "source": [
    "nested['k1']['nestKey']['subnest']"
   ]
  },
  {
   "cell_type": "code",
   "execution_count": 12,
   "metadata": {
    "collapsed": false
   },
   "outputs": [
    {
     "data": {
      "text/plain": [
       "'value2'"
      ]
     },
     "execution_count": 12,
     "metadata": {},
     "output_type": "execute_result"
    }
   ],
   "source": [
    "nested['k1']['nestKey']['subnest2']"
   ]
  },
  {
   "cell_type": "markdown",
   "metadata": {
    "slideshow": {
     "slide_type": "slide"
    }
   },
   "source": [
    "## Sets"
   ]
  },
  {
   "cell_type": "markdown",
   "metadata": {},
   "source": [
    "Finally a `Set` is an unordered collection of *unique*, immutable objects."
   ]
  },
  {
   "cell_type": "code",
   "execution_count": 13,
   "metadata": {
    "collapsed": false
   },
   "outputs": [
    {
     "name": "stdout",
     "output_type": "stream",
     "text": [
      "set(['orange', 'grape', 'apple', 'banana'])\n"
     ]
    }
   ],
   "source": [
    "# we can create a set directly from a list\n",
    "fruit = set(['apple', 'banana', 'orange', 'grape'])\n",
    "print fruit"
   ]
  },
  {
   "cell_type": "code",
   "execution_count": 14,
   "metadata": {
    "collapsed": false
   },
   "outputs": [
    {
     "name": "stdout",
     "output_type": "stream",
     "text": [
      "set(['mango', 'pineapple'])\n"
     ]
    }
   ],
   "source": [
    "# or we can build it up piece by piece\n",
    "more_fruit = set()\n",
    "more_fruit.add('mango')\n",
    "more_fruit.add('pineapple')\n",
    "print more_fruit"
   ]
  },
  {
   "cell_type": "code",
   "execution_count": 15,
   "metadata": {
    "collapsed": false,
    "slideshow": {
     "slide_type": "slide"
    }
   },
   "outputs": [
    {
     "name": "stdout",
     "output_type": "stream",
     "text": [
      "Initially:  set(['mango', 'pineapple'])\n",
      "After we added more pineapple:  set(['mango', 'pineapple'])\n"
     ]
    }
   ],
   "source": [
    "# notice that each element must be unique\n",
    "more_fruit = set()\n",
    "more_fruit.add('mango')\n",
    "more_fruit.add('pineapple')\n",
    "print 'Initially: ', more_fruit\n",
    "\n",
    "more_fruit.add('pineapple')\n",
    "print 'After we added more pineapple: ', more_fruit"
   ]
  },
  {
   "cell_type": "markdown",
   "metadata": {
    "slideshow": {
     "slide_type": "slide"
    }
   },
   "source": [
    "### Methods and Recipes"
   ]
  },
  {
   "cell_type": "markdown",
   "metadata": {},
   "source": [
    "We can perform the typical set operations on Python `Set` collections, including"
   ]
  },
  {
   "cell_type": "markdown",
   "metadata": {},
   "source": [
    "* test that an element is in the set\n",
    "* take the union of two sets\n",
    "* take the intersection of two sets\n",
    "* take the difference of two sets"
   ]
  },
  {
   "cell_type": "markdown",
   "metadata": {},
   "source": [
    "in addition, we can use them to simplify other operations, like identifying the unique elements in a list."
   ]
  },
  {
   "cell_type": "markdown",
   "metadata": {
    "slideshow": {
     "slide_type": "slide"
    }
   },
   "source": [
    "**Set Functions**"
   ]
  },
  {
   "cell_type": "code",
   "execution_count": 16,
   "metadata": {
    "collapsed": false
   },
   "outputs": [
    {
     "name": "stdout",
     "output_type": "stream",
     "text": [
      "Apple is a fruit:  True\n",
      "Mango is a fruit:  False\n",
      "Tomato is not a fruit:  True\n"
     ]
    }
   ],
   "source": [
    "# let's create some sets to play with\n",
    "fruit = set(['apple', 'banana', 'orange', 'grape'])\n",
    "\n",
    "# try various combination to test the set membership function\n",
    "print 'Apple is a fruit: ', 'apple' in fruit\n",
    "print 'Mango is a fruit: ' , 'mango' in fruit\n",
    "print 'Tomato is not a fruit: ', 'tomato' not in fruit"
   ]
  },
  {
   "cell_type": "code",
   "execution_count": 17,
   "metadata": {
    "collapsed": false,
    "slideshow": {
     "slide_type": "slide"
    }
   },
   "outputs": [
    {
     "name": "stdout",
     "output_type": "stream",
     "text": [
      "set(['mango', 'grape', 'apple', 'pineapple', 'orange', 'banana'])\n"
     ]
    }
   ],
   "source": [
    "# let's create some sets to play with\n",
    "fruit = set(['apple', 'banana', 'orange', 'grape'])\n",
    "more_fruit = set(['mango', 'pineapple', 'grape'])\n",
    "\n",
    "print fruit.union(more_fruit)"
   ]
  },
  {
   "cell_type": "code",
   "execution_count": 18,
   "metadata": {
    "collapsed": false
   },
   "outputs": [
    {
     "name": "stdout",
     "output_type": "stream",
     "text": [
      "set(['grape'])\n"
     ]
    }
   ],
   "source": [
    "# let's create some sets to play with\n",
    "fruit = set(['apple', 'banana', 'orange', 'grape'])\n",
    "more_fruit = set(['mango', 'pineapple', 'grape'])\n",
    "\n",
    "print fruit.intersection(more_fruit)"
   ]
  },
  {
   "cell_type": "code",
   "execution_count": 19,
   "metadata": {
    "collapsed": false
   },
   "outputs": [
    {
     "name": "stdout",
     "output_type": "stream",
     "text": [
      "set(['orange', 'apple', 'banana'])\n"
     ]
    }
   ],
   "source": [
    "# let's create some sets to play with\n",
    "fruit = set(['apple', 'banana', 'orange', 'grape'])\n",
    "more_fruit = set(['mango', 'pineapple', 'grape'])\n",
    "\n",
    "print fruit.difference(more_fruit)"
   ]
  },
  {
   "cell_type": "markdown",
   "metadata": {
    "slideshow": {
     "slide_type": "slide"
    }
   },
   "source": [
    "**Casting a list into a set of unique elements**"
   ]
  },
  {
   "cell_type": "code",
   "execution_count": 20,
   "metadata": {
    "collapsed": false
   },
   "outputs": [
    {
     "name": "stdout",
     "output_type": "stream",
     "text": [
      "The list =  [1, 1, 1, 2, 2, 2, 2, 2, 3, 3, 3, 3]\n",
      "The unique elements =  set([1, 2, 3])\n"
     ]
    }
   ],
   "source": [
    "# can use the set function to cast a list into a subset of unique elements\n",
    "l = [1,1,1,2,2,2,2,2,3,3,3,3]\n",
    "print 'The list = ', l\n",
    "\n",
    "unique = set(l)\n",
    "\n",
    "print 'The unique elements = ', unique"
   ]
  }
 ],
 "metadata": {
  "celltoolbar": "Slideshow",
  "kernelspec": {
   "display_name": "Python 2",
   "language": "python",
   "name": "python2"
  },
  "language_info": {
   "codemirror_mode": {
    "name": "ipython",
    "version": 2
   },
   "file_extension": ".py",
   "mimetype": "text/x-python",
   "name": "python",
   "nbconvert_exporter": "python",
   "pygments_lexer": "ipython2",
   "version": "2.7.11"
  }
 },
 "nbformat": 4,
 "nbformat_minor": 0
}
