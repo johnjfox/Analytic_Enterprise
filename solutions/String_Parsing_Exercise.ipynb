{
 "cells": [
  {
   "cell_type": "markdown",
   "metadata": {},
   "source": [
    "# Exercise:"
   ]
  },
  {
   "cell_type": "markdown",
   "metadata": {},
   "source": [
    "Take the following comma delimited strings:\n",
    "\n",
    "    str1 = 'John, Doe, 123 Main Street, New York City, NY, 01234'\n",
    "    str2 = 'Jane, Smith, 456 East Street, Philadelphia, PA, 67890'\n",
    "    str3 = 'Mike, Lee, 789 West Avenue, Los Angeles, CA, 24680'\n",
    "\n",
    "Use the tools we have just learned to decompose the string into distinct fields corresponding to the text between the commas. After you have this decomposition, create a sorted list containing all of the state abbrviations in these records. In this case, the states are all in the 4th field (in this case, NY, PA, and CA)"
   ]
  },
  {
   "cell_type": "markdown",
   "metadata": {},
   "source": [
    "## The plan...."
   ]
  },
  {
   "cell_type": "markdown",
   "metadata": {},
   "source": [
    "What we're going to do in this notebook is to walk through a simple Python exercise, step by step. The point of this is not to suggest that this is the most efficient way to build your code, nor to even suggest that the resulting code is especially beautiful or efficient. Rather, the point is to demonstrate one way in which we can very methodically think about decomposing a problem into very simple chunks."
   ]
  },
  {
   "cell_type": "markdown",
   "metadata": {},
   "source": [
    "## Create string objects in python as a starting point"
   ]
  },
  {
   "cell_type": "code",
   "execution_count": 1,
   "metadata": {
    "collapsed": true
   },
   "outputs": [],
   "source": [
    "str1 = 'John, Doe, 123 Main Street, New York City, NY, 01234'\n",
    "str2 = 'Jane, Smith, 456 East Street, Philadelphia, PA, 67890'\n",
    "str3 = 'Mike, Lee, 789 West Avenue, Los Angeles, CA, 24680'"
   ]
  },
  {
   "cell_type": "markdown",
   "metadata": {},
   "source": [
    "## Let's figure out how to parse the string, starting with splitting up using the ',' delimeter"
   ]
  },
  {
   "cell_type": "code",
   "execution_count": 2,
   "metadata": {
    "collapsed": false
   },
   "outputs": [
    {
     "data": {
      "text/plain": [
       "['John', ' Doe', ' 123 Main Street', ' New York City', ' NY', ' 01234']"
      ]
     },
     "execution_count": 2,
     "metadata": {},
     "output_type": "execute_result"
    }
   ],
   "source": [
    "str1 = 'John, Doe, 123 Main Street, New York City, NY, 01234'\n",
    "str2 = 'Jane, Smith, 456 East Street, Philadelphia, PA, 67890'\n",
    "str3 = 'Mike, Lee, 789 West Avenue, Los Angeles, CA, 24680'\n",
    "\n",
    "str1.split(',')"
   ]
  },
  {
   "cell_type": "markdown",
   "metadata": {},
   "source": [
    "## From that point, we can easily see that the `State` field is can be retried using list indexing"
   ]
  },
  {
   "cell_type": "code",
   "execution_count": 3,
   "metadata": {
    "collapsed": false
   },
   "outputs": [
    {
     "data": {
      "text/plain": [
       "' NY'"
      ]
     },
     "execution_count": 3,
     "metadata": {},
     "output_type": "execute_result"
    }
   ],
   "source": [
    "str1 = 'John, Doe, 123 Main Street, New York City, NY, 01234'\n",
    "str2 = 'Jane, Smith, 456 East Street, Philadelphia, PA, 67890'\n",
    "str3 = 'Mike, Lee, 789 West Avenue, Los Angeles, CA, 24680'\n",
    "\n",
    "str1.split(',')[4]"
   ]
  },
  {
   "cell_type": "markdown",
   "metadata": {},
   "source": [
    "## Unfortunately, the split left in some leading white space, so let's strip that off"
   ]
  },
  {
   "cell_type": "code",
   "execution_count": 4,
   "metadata": {
    "collapsed": false
   },
   "outputs": [
    {
     "data": {
      "text/plain": [
       "'NY'"
      ]
     },
     "execution_count": 4,
     "metadata": {},
     "output_type": "execute_result"
    }
   ],
   "source": [
    "str1 = 'John, Doe, 123 Main Street, New York City, NY, 01234'\n",
    "str2 = 'Jane, Smith, 456 East Street, Philadelphia, PA, 67890'\n",
    "str3 = 'Mike, Lee, 789 West Avenue, Los Angeles, CA, 24680'\n",
    "\n",
    "str1.split(',')[4].strip()"
   ]
  },
  {
   "cell_type": "markdown",
   "metadata": {},
   "source": [
    "## Now that we can pull out the field we want, let's simplify our lives by making it a function that we can reuse"
   ]
  },
  {
   "cell_type": "code",
   "execution_count": 5,
   "metadata": {
    "collapsed": false
   },
   "outputs": [
    {
     "data": {
      "text/plain": [
       "'NY'"
      ]
     },
     "execution_count": 5,
     "metadata": {},
     "output_type": "execute_result"
    }
   ],
   "source": [
    "def find_state(s):\n",
    "    return s.split(',')[4].strip()\n",
    "\n",
    "str1 = 'John, Doe, 123 Main Street, New York City, NY, 01234'\n",
    "str2 = 'Jane, Smith, 456 East Street, Philadelphia, PA, 67890'\n",
    "str3 = 'Mike, Lee, 789 West Avenue, Los Angeles, CA, 24680'\n",
    "\n",
    "find_state(str1)"
   ]
  },
  {
   "cell_type": "markdown",
   "metadata": {},
   "source": [
    "## Okay, so next step. We don't want to work with each of the strings individually so let's through them into a list, understanding that we'll eventually iterate over this list."
   ]
  },
  {
   "cell_type": "code",
   "execution_count": 6,
   "metadata": {
    "collapsed": false
   },
   "outputs": [
    {
     "data": {
      "text/plain": [
       "['John, Doe, 123 Main Street, New York City, NY, 01234',\n",
       " 'Jane, Smith, 456 East Street, Philadelphia, PA, 67890',\n",
       " 'Mike, Lee, 789 West Avenue, Los Angeles, CA, 24680']"
      ]
     },
     "execution_count": 6,
     "metadata": {},
     "output_type": "execute_result"
    }
   ],
   "source": [
    "def find_state(s):\n",
    "    return s.split(',')[4].strip()\n",
    "\n",
    "str = list()\n",
    "str.append('John, Doe, 123 Main Street, New York City, NY, 01234')\n",
    "str.append('Jane, Smith, 456 East Street, Philadelphia, PA, 67890')\n",
    "str.append('Mike, Lee, 789 West Avenue, Los Angeles, CA, 24680')\n",
    "\n",
    "str"
   ]
  },
  {
   "cell_type": "markdown",
   "metadata": {},
   "source": [
    "## ... and here's the iteration"
   ]
  },
  {
   "cell_type": "code",
   "execution_count": 7,
   "metadata": {
    "collapsed": false
   },
   "outputs": [
    {
     "name": "stdout",
     "output_type": "stream",
     "text": [
      "NY\n",
      "PA\n",
      "CA\n"
     ]
    }
   ],
   "source": [
    "def find_state(s):\n",
    "    return s.split(',')[4].strip()\n",
    "\n",
    "str = list()\n",
    "str.append('John, Doe, 123 Main Street, New York City, NY, 01234')\n",
    "str.append('Jane, Smith, 456 East Street, Philadelphia, PA, 67890')\n",
    "str.append('Mike, Lee, 789 West Avenue, Los Angeles, CA, 24680')\n",
    "\n",
    "for s in str:\n",
    "    print find_state(s)"
   ]
  },
  {
   "cell_type": "markdown",
   "metadata": {},
   "source": [
    "## Not quite there yet, because we need to keep track of all of the results as we iterate. Let's use a list to do so."
   ]
  },
  {
   "cell_type": "code",
   "execution_count": 8,
   "metadata": {
    "collapsed": false
   },
   "outputs": [
    {
     "data": {
      "text/plain": [
       "['NY', 'PA', 'CA']"
      ]
     },
     "execution_count": 8,
     "metadata": {},
     "output_type": "execute_result"
    }
   ],
   "source": [
    "def find_state(s):\n",
    "    return s.split(',')[4].strip()\n",
    "\n",
    "str = list()\n",
    "str.append('John, Doe, 123 Main Street, New York City, NY, 01234')\n",
    "str.append('Jane, Smith, 456 East Street, Philadelphia, PA, 67890')\n",
    "str.append('Mike, Lee, 789 West Avenue, Los Angeles, CA, 24680')\n",
    "\n",
    "results = list()\n",
    "for s in str:\n",
    "    results.append(find_state(s))\n",
    "    \n",
    "results"
   ]
  },
  {
   "cell_type": "markdown",
   "metadata": {},
   "source": [
    "## And finally, we just need to sort this list of results"
   ]
  },
  {
   "cell_type": "markdown",
   "metadata": {},
   "source": [
    "As it turns out, there are multiple ways to sort a list in python. Sorting a list using the builtin method `sort()` will sort the list in place (i.e. it will replace the original list by a sorted list), but it actually returns `None`. The upshot of this is that to actually see the results of the sort, we'll need to print out the `results` object after the sort."
   ]
  },
  {
   "cell_type": "code",
   "execution_count": 9,
   "metadata": {
    "collapsed": false
   },
   "outputs": [
    {
     "data": {
      "text/plain": [
       "['CA', 'NY', 'PA']"
      ]
     },
     "execution_count": 9,
     "metadata": {},
     "output_type": "execute_result"
    }
   ],
   "source": [
    "def find_state(s):\n",
    "    return s.split(',')[4].strip()\n",
    "\n",
    "str = list()\n",
    "str.append('John, Doe, 123 Main Street, New York City, NY, 01234')\n",
    "str.append('Jane, Smith, 456 East Street, Philadelphia, PA, 67890')\n",
    "str.append('Mike, Lee, 789 West Avenue, Los Angeles, CA, 24680')\n",
    "\n",
    "results = list()\n",
    "for s in str:\n",
    "    results.append(find_state(s))\n",
    "\n",
    "results.sort()\n",
    "\n",
    "results"
   ]
  }
 ],
 "metadata": {
  "kernelspec": {
   "display_name": "Python 2",
   "language": "python",
   "name": "python2"
  },
  "language_info": {
   "codemirror_mode": {
    "name": "ipython",
    "version": 2
   },
   "file_extension": ".py",
   "mimetype": "text/x-python",
   "name": "python",
   "nbconvert_exporter": "python",
   "pygments_lexer": "ipython2",
   "version": "2.7.11"
  }
 },
 "nbformat": 4,
 "nbformat_minor": 0
}
