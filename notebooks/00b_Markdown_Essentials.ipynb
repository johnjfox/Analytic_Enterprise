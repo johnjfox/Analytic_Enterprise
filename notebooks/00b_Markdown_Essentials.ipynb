{
 "cells": [
  {
   "cell_type": "markdown",
   "metadata": {},
   "source": [
    "# Markdown Essentials"
   ]
  },
  {
   "cell_type": "markdown",
   "metadata": {},
   "source": [
    "Markdown is a greatly simplified version of html (\"hypertext markup language\"), the language used to construct basic websites. There are two things that you should know about markdown. First: it's extremely simple. This means that it's extremely easy to learn. Second: it's extremely simple (see point #1). This means that if you're looking to write a document with relatively complex formatting requirements, you might want to look elsewhere for a solution. Having said that, markdown is ubiquitous within the modern analytics community for many reasons. One important reason stems from the fact that it is purely text so it can be embedded very easily in text based files, such as a Jupyter notebook. The implications of this are that we can create a single, readable document which contains both our documentation (in markdown) and our analyses (in python). Here are some things we can do with it:"
   ]
  },
  {
   "cell_type": "markdown",
   "metadata": {},
   "source": [
    "## The Basics\n",
    "* **Creating Text**: Just write it.\n",
    "* **Creating a New Paragraph**: You can create a new paragraph by leaving a blank line between lines of text.\n",
    "* **Modifying fonts**: Not happening unless you want to start messing with css\n",
    "* **Modifying font sizes**: The Henry Ford approach. You can have any size font that you'd like so long as it's regular text or a heading (see below). Other than that, you're back to messing with css.\n",
    "* **Headings**. Large bold headings are marked by hashes (#). One hash for first level (very large), two for second level (a little smaller), three for third level (smaller still), four for fourth (the smallest). Try these in a Markdown cell to see how they look:\n",
    "```\n",
    "# Level 1 Heading\n",
    "## Level 2 Heading\n",
    "###  Level 3 Heading\n",
    "####  Level 3 Heading\n",
    "```\n",
    "*  **Text Formatting**. \n",
    "\t* \\*\\*double asterisks\\*\\* displays as **bold**. \n",
    "\t* \\*single asterisks\\* get us *italics*\n",
    "* **Bullet lists**. If we want a list of items marked by bullets, we start with a blank line and mark each item with an asterisk on a new line, such as:\n",
    "```\n",
    "\t\tA bullet list:\n",
    "\t\t* something\n",
    "\t\t* something else\n",
    "``` \n",
    "* **Numbered lists**. If we want a numbered list of items, we start with a blank line and mark each item with an number on a new line, such as:\n",
    "``` \n",
    "\t\tA numbered list:\n",
    "\t\t1. something\n",
    "\t\t2. something else\n",
    "``` \n",
    "* **Links**. We construct a link with the text in square brackets and the url in parentheses immediately afterwards such as \n",
    "```\n",
    "\t[Text To Display](the URL to go to)\n",
    "```"
   ]
  },
  {
   "cell_type": "markdown",
   "metadata": {},
   "source": [
    "* **Inserting Images**: Markdown uses an image syntax that is intended to resemble the syntax for links, allowing for two styles: inline and reference. Inline image syntax looks like this:\n",
    "```\n",
    "\t![Alt text](/path/to/img.jpg), or \n",
    "\t![Alt text](/path/to/img.jpg \"Optional title\")\n",
    "```\n",
    "Reference-style image syntax looks like this:\n",
    "```\n",
    "\t![Alt text][id]\n",
    "```\n",
    "* **Math**: if you're so inclined, you can create extremely complex equations in many flavors of markdown by embedding LaTeX directly into the file. Either this means something to you already, or it doesn't. You probably don't want to try to learn LaTeX just for this class. Inline equations are denoted using pairs of \\$'s and reference style equations are denoted using double \\$'s, for instance:\n",
    "```\n",
    "\t\tThis is an example of inline math $y = mx + b$\n",
    "```\n",
    "which will render to:"
   ]
  },
  {
   "cell_type": "markdown",
   "metadata": {},
   "source": [
    "\t\t\tThis is an example of inline math $y = mx + b$"
   ]
  },
  {
   "cell_type": "markdown",
   "metadata": {},
   "source": [
    "\n",
    "\n",
    "## Getting Help in Jupyter\n",
    "We can find more information about Markdown under the Help menu in Jupyter notebook."
   ]
  },
  {
   "cell_type": "markdown",
   "metadata": {},
   "source": [
    "## References"
   ]
  },
  {
   "cell_type": "markdown",
   "metadata": {},
   "source": [
    "* [Markdown Spec](http://daringfireball.net/projects/markdown/) The original definition of markdown.\n",
    "* [GitHub Flavored Markdown](https://help.github.com/categories/writing-on-github/) The variant that we'll typically be using in this course."
   ]
  },
  {
   "cell_type": "markdown",
   "metadata": {},
   "source": [
    "## Exercises"
   ]
  },
  {
   "cell_type": "markdown",
   "metadata": {},
   "source": [
    "<div class=\"alert alert-success\">\n",
    "**Exercise**. Create a description cell in Markdown at the top of your notebook. It should include your name and a description of what you're doing in the notebook. For example: \"Joan Watson's notes on the Data Bootcamp Matplotlib notebook\" and a date. Bonus points: Add a link.\n",
    "</div>"
   ]
  },
  {
   "cell_type": "code",
   "execution_count": 1,
   "metadata": {
    "collapsed": true
   },
   "outputs": [],
   "source": [
    "# create your answer to the exercise here"
   ]
  },
  {
   "cell_type": "markdown",
   "metadata": {},
   "source": [
    "<div class=\"alert alert-success\">\n",
    "**Exercise**. Click on the + to add two new cells. In the first one, add the statement import pandas as pd, labelled as code. Run it. Use the second cell to find documentation for pd.read_csv.\n",
    "</div>"
   ]
  },
  {
   "cell_type": "code",
   "execution_count": 2,
   "metadata": {
    "collapsed": true
   },
   "outputs": [],
   "source": [
    "# create your answer to the exercise here"
   ]
  }
 ],
 "metadata": {
  "kernelspec": {
   "display_name": "Python 2",
   "language": "python",
   "name": "python2"
  },
  "language_info": {
   "codemirror_mode": {
    "name": "ipython",
    "version": 2
   },
   "file_extension": ".py",
   "mimetype": "text/x-python",
   "name": "python",
   "nbconvert_exporter": "python",
   "pygments_lexer": "ipython2",
   "version": "2.7.11"
  }
 },
 "nbformat": 4,
 "nbformat_minor": 0
}
