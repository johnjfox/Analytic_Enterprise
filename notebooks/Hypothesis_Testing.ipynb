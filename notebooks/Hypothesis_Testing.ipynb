{
  "cells": [
    {
      "cell_type": "markdown", 
      "metadata": {}, 
      "source": "## Hypothesis Testing"
    }, 
    {
      "cell_type": "code", 
      "execution_count": 1, 
      "metadata": {}, 
      "outputs": [], 
      "source": "# We're going to plot all of the figures within the notebook, so let's set up that option\n# Our standard set of imports for pandas, numpy and matplotlib\nimport pandas as pd\nimport numpy as np\nimport matplotlib as mpl\nimport matplotlib.pyplot as plt\nfrom ipywidgets import interact\n\n# in addition, it will be useful in general if we keep our plots \"inline\" within the notebook\n%matplotlib inline\n\nmpl.style.use('ggplot')"
    }, 
    {
      "cell_type": "markdown", 
      "metadata": {}, 
      "source": "### Probability Distributions"
    }, 
    {
      "cell_type": "markdown", 
      "metadata": {}, 
      "source": "I'm sure that this is entirely review for everyone, but let's take a moment to think about probability distributions. For most people, the distribution that may come to mind first is the Gaussian, or Normal, probability distribution."
    }, 
    {
      "cell_type": "markdown", 
      "metadata": {}, 
      "source": "### Gaussian Distributions"
    }, 
    {
      "cell_type": "code", 
      "execution_count": 2, 
      "metadata": {}, 
      "outputs": [], 
      "source": "import numpy as np\nimport matplotlib.pyplot as plt\nimport matplotlib.mlab as mlab\nimport math\n\nfrom ipywidgets import interact\n\n# set up the pdf for the standard distribution\nmean = 0\nvariance = 1\nsigma = math.sqrt(variance)\nx = np.linspace(-4,4,100);\n\n# compute the CDF\ny = mlab.normpdf(x,mean,sigma);\nyCum = y.cumsum();\nyCum /= yCum[-1];\n\ndef fillGaussian(t):\n    section = np.linspace(-4, t, 40)\n    yFill = mlab.normpdf(section,mean,sigma)\n\n    # determine the area that will be filled\n    # and now draw everything\n    fig, ax1 = plt.subplots(1, 1, sharex=True)\n    fig.set_size_inches(15,10)\n    ax1.plot(x, y, 'b', linewidth=1.5)\n    ax1.plot(x, yCum, 'r--', linewidth=1.5)\n    ax1.fill_between(section,0.0, yFill, color='Green', alpha=0.5)\n    plt.ylim(0, 1.05)\n    plt.grid(True)\n    plt.show()\n\n    return\n\ninteract(fillGaussian, t=(-4.0,4.0));"
    }, 
    {
      "cell_type": "markdown", 
      "metadata": {}, 
      "source": "### Empirical Distributions"
    }, 
    {
      "cell_type": "markdown", 
      "metadata": {}, 
      "source": "Before we talk about anything else, let's stop for a moment and consider probability distributions. More specifically, let's think about our ability to estimate a probability distribution given a sample of data."
    }, 
    {
      "cell_type": "code", 
      "execution_count": 3, 
      "metadata": {}, 
      "outputs": [], 
      "source": "import numpy as np\nimport matplotlib.pyplot as plt\nfrom   matplotlib import mlab\n\nmean = 200\nvariance = 25\nn_bins = 50\n\nsigma = math.sqrt(variance)\n\nx = mean + sigma*np.random.randn(25)\n\nn, bins, patches = plt.hist(x, n_bins, normed=1, histtype='step', cumulative=True)\n\n# Add a line showing the expected distribution.\ny = mlab.normpdf(bins, mean, sigma).cumsum()\ny /= y[-1]\n\n# Now plot out both the expected CDF and the actual CDF\nplt.plot(bins, y, 'k--', linewidth=1.5)\nplt.grid(True)\nplt.ylim(0, 1.05)\nplt.title('Cumulative Distribution')\n\nplt.show()"
    }, 
    {
      "cell_type": "code", 
      "execution_count": 4, 
      "metadata": {}, 
      "outputs": [], 
      "source": ""
    }, 
    {
      "cell_type": "markdown", 
      "metadata": {}, 
      "source": "### Empirical Distributions"
    }, 
    {
      "cell_type": "markdown", 
      "metadata": {}, 
      "source": "### The Normal Approximation"
    }, 
    {
      "cell_type": "markdown", 
      "metadata": {}, 
      "source": "## Visualizing this process"
    }, 
    {
      "cell_type": "code", 
      "execution_count": 5, 
      "metadata": {}, 
      "outputs": [], 
      "source": "import numpy as np\nimport matplotlib.pyplot as plt\nimport matplotlib.mlab as mlab\nimport math\n\nfrom ipywidgets import interact\n\n# set up the pdf for the standard distribution\nmean = 0\nvariance = 1\nsigma = math.sqrt(variance)\nx = np.linspace(-4,4,100);\n\n# compute the CDF\ny = mlab.normpdf(x,mean,sigma);\nyCum = y.cumsum();\nyCum /= yCum[-1];\n\ndef fillGaussian(t):\n    section = np.linspace(t, 4, 20)\n    yFill = mlab.normpdf(section,mean,sigma)\n\n    # determine the area that will be filled\n    # and now draw everything\n    fig, ax1 = plt.subplots(1, 1, sharex=True)\n    fig.set_size_inches(15,10)\n    ax1.plot(x, y, 'b', linewidth=1.5)\n    ax1.plot(x, yCum, 'r--', linewidth=1.5)\n    ax1.fill_between(section,0.0, yFill, color='Green', alpha=0.5)\n    plt.ylim(0, 1.05)\n    plt.grid(True)\n    plt.show()\n\n    return\n\ninteract(fillGaussian, t=(0.0,4.0));"
    }, 
    {
      "cell_type": "code", 
      "execution_count": 6, 
      "metadata": {}, 
      "outputs": [], 
      "source": ""
    }
  ], 
  "metadata": {}, 
  "nbformat": 4, 
  "nbformat_minor": 0
}