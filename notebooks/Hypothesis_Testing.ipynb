{
  "cells": [
    {
      "cell_type": "markdown", 
      "metadata": {}, 
      "source": "## Hypothesis Testing"
    }, 
    {
      "cell_type": "code", 
      "execution_count": 1, 
      "metadata": {}, 
      "outputs": [], 
      "source": "# We're going to plot all of the figures within the notebook, so let's set up that option\n%matplotlib inline"
    }, 
    {
      "cell_type": "markdown", 
      "metadata": {}, 
      "source": "### Probability Distributions"
    }, 
    {
      "cell_type": "markdown", 
      "metadata": {}, 
      "source": "I'm sure that this is entirely review for everyone, but let's take a moment to think about probability distributions. For most people, the distribution that may come to mind first is the Gaussian, or Normal, probability distribution."
    }, 
    {
      "cell_type": "markdown", 
      "metadata": {}, 
      "source": "### Gaussian Distributions"
    }, 
    {
      "cell_type": "code", 
      "execution_count": 2, 
      "metadata": {}, 
      "outputs": [], 
      "source": "import numpy as np\nimport matplotlib.pyplot as plt\nimport matplotlib.mlab as mlab\nimport math\n\nmean = 0\nvariance = 1\nsigma = math.sqrt(variance)\nx = np.linspace(-3,3,100)\n\ny = mlab.normpdf(x,mean,sigma)\nyCum = y.cumsum()\nyCum /= yCum[-1]\n\nplt.plot(x, y, 'b', linewidth=1.5)\nplt.plot(x, yCum, 'r--', linewidth=1.5)\nplt.ylim(0, 1.05)\nplt.grid(True)\nplt.show()"
    }, 
    {
      "cell_type": "markdown", 
      "metadata": {}, 
      "source": "### Empirical Distributions"
    }, 
    {
      "cell_type": "markdown", 
      "metadata": {}, 
      "source": "Before we talk about anything else, let's stop for a moment and consider probability distributions. More specifically, let's think about our ability to estimate a probability distribution given a sample of data."
    }, 
    {
      "cell_type": "code", 
      "execution_count": 3, 
      "metadata": {}, 
      "outputs": [], 
      "source": "import numpy as np\nimport matplotlib.pyplot as plt\nfrom   matplotlib import mlab\n\nmean = 200\nvariance = 25\nn_bins = 50\n\nsigma = math.sqrt(variance)\n\nx = mean + sigma*np.random.randn(25)\n\nn, bins, patches = plt.hist(x, n_bins, normed=1, histtype='step', cumulative=True)\n\n# Add a line showing the expected distribution.\ny = mlab.normpdf(bins, mean, sigma).cumsum()\ny /= y[-1]\n\n# Now plot out both the expected CDF and the actual CDF\nplt.plot(bins, y, 'k--', linewidth=1.5)\nplt.grid(True)\nplt.ylim(0, 1.05)\nplt.title('Cumulative Distribution')\n\nplt.show()"
    }, 
    {
      "cell_type": "markdown", 
      "metadata": {}, 
      "source": "### Empirical Distributions"
    }, 
    {
      "cell_type": "markdown", 
      "metadata": {}, 
      "source": "### The Normal Approximation"
    }
  ], 
  "metadata": {}, 
  "nbformat": 4, 
  "nbformat_minor": 0
}