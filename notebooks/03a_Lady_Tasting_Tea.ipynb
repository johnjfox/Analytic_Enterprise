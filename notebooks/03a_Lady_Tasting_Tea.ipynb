{
 "cells": [
  {
   "cell_type": "markdown",
   "metadata": {},
   "source": [
    "# Hypothesis Testing and Experimental Design: Part 1"
   ]
  },
  {
   "cell_type": "markdown",
   "metadata": {},
   "source": [
    "## The Lady Tasting Tea"
   ]
  },
  {
   "cell_type": "markdown",
   "metadata": {},
   "source": [
    "![Ronald Fisher in 1913](../images/ronaldfisher.jpg \"Ronald Fisher in 1913\")"
   ]
  },
  {
   "cell_type": "markdown",
   "metadata": {},
   "source": [
    "As the story goes, Sir Ronald Fisher met with a pair of friends in early 1920. He prepares a cup of tea and offers it to his friend, Dr. Muriel Bristol. Dr Bristol declines it, saying that she prefers tea into which the milk has been poured first. After Fisher hears this, he apparently responds with \"Nonsense. Surely it makes no difference.\" and his other guest, William Roach, immediately offers \"Let's test her.\" There is no record as to why Dr Bristol was spending her time with such charmers, but perhaps that's besides the point; not long after this she marries Mr Roach."
   ]
  },
  {
   "cell_type": "markdown",
   "metadata": {},
   "source": [
    "In any case, Fisher immediately creates an experiment to test Dr Bristol's claim. He arranges for several cups of tea to be prepared, with half having the milk poured first and the other half having the tea poured first. Logically, he reasons, if Dr Bristol was simply guessing then she would still correctly identify some number of the cups as being \"tea first\" or \"milk first\". However, if she really did have some form of expertise, then she should be able to correctly identify tea or milk first significantly more often than pure luck would allow. Using Fisher's logic and the vocabulary that he would later use to describe the experiment, the \"null\" hypothesis is that Dr Bristol has no special tea discriminating ability and is guessing. His test (later known as Fisher's exact test after Sir Ronald publishes this story and singlehandedly invents the field of Experimental Design) uses a simple test statistic: a simple count of the number of successes in selecting the cups of tea."
   ]
  },
  {
   "cell_type": "markdown",
   "metadata": {},
   "source": [
    "In the end, Dr Bristol correctly identifies all of the cups and Fisher accepts that she is not likely to be guessing. What was his logic?"
   ]
  },
  {
   "cell_type": "markdown",
   "metadata": {},
   "source": [
    "## The Binomial Distribution"
   ]
  },
  {
   "cell_type": "markdown",
   "metadata": {},
   "source": [
    "Before we get to come back to tea, let's take a moment to think about flipping coins. Flipping coins isn't terribly exciting, but it turns out to be a 'model' that we can use to develop insight into a **lot** of different real-world events that are much more interesting than coin flipping, for instance drinking tea."
   ]
  },
  {
   "cell_type": "markdown",
   "metadata": {},
   "source": [
    "Anyway, let's pretend for a moment that the government chose to mint unfair coins for some reason, perhaps as a practical joke or perhaps to provide validity to statistician's life choices. Either way, in this context 'unfair' means that the probability of flipping the coin and having it come up heads is not 50%, or 0.50. Instead it's so unfair that it could come up with any valid probability `p` between 0 and 1, inclusive."
   ]
  },
  {
   "cell_type": "markdown",
   "metadata": {},
   "source": [
    "If we were to start flipping this coin, the we know that the probability of it coming up heads is `p`. We also know that if we can assume that what happens on each coin flip is independent, then the probability of flipping it twice and having it come up heads twice is $p^{2}$. On the other hand if we obtained a HEAD and then a TAIL, using the same properties of probability, the probability of this sequence is $p (1-p)$. Why is that? Well, the probability of getting the head on the first flip is `p` and the probability of getting the tail on the second flip is $(1-p)$ since the coin can either come up heads or tails. Combining the two we get that the probability of HEAD-TAIL is $p (1-p)$."
   ]
  },
  {
   "cell_type": "markdown",
   "metadata": {},
   "source": [
    "Let's take a step back for a second and think about what that means. One way to think about probability is to interpret this result as meaning the following: I'm going to run a huge number of coin flipping experiments. In each of these experiments I'm going to flip the coin exactly twice. I'm going to keep track of how many of these experiments result in exactly the sequence HEAD-TAIL. When I'm done, $p (1-p)$ percent of these experiments will come up HEAD-TAIL."
   ]
  },
  {
   "cell_type": "markdown",
   "metadata": {},
   "source": [
    "Okay, so great. Does that help? Probably not because the probability of getting the specific sequence HEAD-TAIL may or may not be interesting. But what if we ask a slightly different question? Rather than asking about the probability of flipping the coin and getting HEAD-TAIL, what if we ask \"If I run a huge number of experiments where I flip this unfair coin twice, in how many of those experiments will it come up HEAD some exact number of times, say once?\" What's the difference between this question and our first question? If we pose our question in terms of the number of times a HEAD comes up, then the probability that we obtain exactly one HEAD is equal to the sum of the probabilitys for every sequence of coin flips that come up with exactly one head. In other words"
   ]
  },
  {
   "cell_type": "markdown",
   "metadata": {},
   "source": [
    "$$\n",
    "\\begin{aligned}\n",
    " P(\\# HEADS == 1) &= Prob(HEAD-TAIL) + Prob(TAIL-HEAD) \\\\\n",
    "                  &= p(1-p) + (1-p)p \\\\\n",
    "                  &= 2p(1-p)\n",
    "\\end{aligned}\n",
    "$$"
   ]
  },
  {
   "cell_type": "markdown",
   "metadata": {},
   "source": [
    "In fact, we can talk about this more generally. If we flip our unfair coin $N$ times, then the number of times our coin comes up HEADS exactly $k$ times is given by:"
   ]
  },
  {
   "cell_type": "markdown",
   "metadata": {},
   "source": [
    "$$\n",
    "P(\\# HEADS == k) = \\frac{N!}{k! (N-k)!} p^{k}(1-p)^{N-k}\n",
    "$$"
   ]
  },
  {
   "cell_type": "markdown",
   "metadata": {},
   "source": [
    "where the `!` represents the factorial function."
   ]
  },
  {
   "cell_type": "markdown",
   "metadata": {},
   "source": [
    "Examining this expression, you can see that the $p^k$ represents the $k$ flips that came up HEAD and that $(1-p)^(N-k)$ represents the remaining flips, which much have come up tails. The funny expression with the factorials is counting the number of sequences that have exactly $k$ HEAD."
   ]
  },
  {
   "cell_type": "markdown",
   "metadata": {},
   "source": [
    "The probability distribution we just derived by flipping coins is called the **Binomial Distribution** (because that thing involving the factorials comes up so frequently that it's been given a name, ie. the binomial coefficient). While coin flipping may not be terribly exciting by itself, we can think of that coin flipping process as being a surrogate for **any** process in which we want to keep track of some notion of success / failure. For instance, instead of thinking $N$ coin flips and $k$ heads, we can use it think of a baseball season with $N$ games and a team winning $k$ times. If we were so inclined, we could use it to model someone clicking on a button or not clicking on a button. Or, as it turns out, we could use it to model a tea drinking ninja, which is exactly what Sir Ronald Fisher did."
   ]
  },
  {
   "cell_type": "markdown",
   "metadata": {},
   "source": [
    "## The Boilerplate"
   ]
  },
  {
   "cell_type": "code",
   "execution_count": 1,
   "metadata": {},
   "outputs": [],
   "source": [
    "%matplotlib inline"
   ]
  },
  {
   "cell_type": "code",
   "execution_count": 2,
   "metadata": {},
   "outputs": [],
   "source": [
    "from math import factorial\n",
    "import pandas as pd\n",
    "import numpy as np\n",
    "import matplotlib.pyplot as plt"
   ]
  },
  {
   "cell_type": "markdown",
   "metadata": {},
   "source": [
    "## The Computation"
   ]
  },
  {
   "cell_type": "markdown",
   "metadata": {},
   "source": [
    "Although Fisher actually used eight cups of tea in his experiment, let's use 10 for ours just for simplicity. If we do so, then we can  use the Binomial Distribution to determine how many cups (out of 10) a random guesser would correctly identify. For the sake of argument, let's say that anyone who is randomly guessing would have a 50% probability of correctly identifying any individual cup."
   ]
  },
  {
   "cell_type": "markdown",
   "metadata": {},
   "source": [
    "Of her 10 opportunities, how many must Dr Bristol correctly identify before we say that she is legitimately skilled?"
   ]
  },
  {
   "cell_type": "code",
   "execution_count": 3,
   "metadata": {},
   "outputs": [],
   "source": [
    "# let's define the \"choose\" function, which represents how many times\n",
    "# we'll get r heads in n tosses\n",
    "def nCr(n,r):\n",
    "    return factorial(n) / (factorial(r) * factorial(n-r))\n",
    "\n",
    "#\n",
    "def binomialCDF(p,n,k):\n",
    "    return nCr(n,k)*(p**k)*((1-p)**(n-k))"
   ]
  },
  {
   "cell_type": "code",
   "execution_count": 4,
   "metadata": {},
   "outputs": [],
   "source": [
    "# let's set up out experiment\n",
    "prob_guessing = 0.5\n",
    "prob_skilled = 0.8\n",
    "num_flips  = 10"
   ]
  },
  {
   "cell_type": "code",
   "execution_count": 5,
   "metadata": {},
   "outputs": [
    {
     "name": "stdout",
     "output_type": "stream",
     "text": [
      "# CORRECT \tPROB\tCUM\n",
      "0\t\t0.0010\t0.0010\n",
      "1\t\t0.0098\t0.0107\n",
      "2\t\t0.0439\t0.0547\n",
      "3\t\t0.1172\t0.1719\n",
      "4\t\t0.2051\t0.3770\n",
      "5\t\t0.2461\t0.6230\n",
      "6\t\t0.2051\t0.8281\n",
      "7\t\t0.1172\t0.9453\n",
      "8\t\t0.0439\t0.9893\n",
      "9\t\t0.0098\t0.9990\n",
      "10\t\t0.0010\t1.0000\n"
     ]
    }
   ],
   "source": [
    "# let's create a few lists to collect our results\n",
    "guess = list()            # this will the probability of getting num_heads heads\n",
    "guess_cum = list()        # this will the probability of getting [1:num_heads] heads\n",
    "\n",
    "# print a header\n",
    "print '# CORRECT','\\tPROB\\tCUM'\n",
    "for num_heads in range(0,num_flips+1):\n",
    "\n",
    "    # collect up our data as we go\n",
    "    guess.append(binomialCDF(prob_guessing, num_flips, num_heads))\n",
    "\n",
    "    # accumulate the cumulative probabilities\n",
    "    if (num_heads == 0) :\n",
    "        guess_cum.append(guess[num_heads])\n",
    "\n",
    "    else:\n",
    "        guess_cum.append(guess_cum[num_heads-1] + guess[num_heads])\n",
    "\n",
    "    print '{}\\t\\t{:1.4f}\\t{:1.4f}'.format(num_heads, guess[num_heads], guess_cum[num_heads])"
   ]
  },
  {
   "cell_type": "markdown",
   "metadata": {},
   "source": [
    "## Thinking About The Results"
   ]
  },
  {
   "cell_type": "markdown",
   "metadata": {},
   "source": [
    "Let's stop at this point and think about these results."
   ]
  },
  {
   "cell_type": "markdown",
   "metadata": {},
   "source": [
    "* What is it saying that the cumulative probability for $ X \\le 7 $ is 94.5%?\n",
    "* What is it saying that the cumulative probability for $ X = 10 $ is 0.1%?"
   ]
  },
  {
   "cell_type": "code",
   "execution_count": 6,
   "metadata": {},
   "outputs": [
    {
     "data": {
      "text/plain": [
       "[<matplotlib.lines.Line2D at 0x10cff5fd0>]"
      ]
     },
     "execution_count": 6,
     "metadata": {},
     "output_type": "execute_result"
    },
    {
     "data": {
      "image/png": "[encoded data removed]",
      "text/plain": [
       "<matplotlib.figure.Figure at 0x10cff5790>"
      ]
     },
     "metadata": {},
     "output_type": "display_data"
    }
   ],
   "source": [
    "plt.figure(figsize=(8,6))\n",
    "plt.plot(guess)\n",
    "plt.plot(guess_cum)"
   ]
  },
  {
   "cell_type": "code",
   "execution_count": 7,
   "metadata": {},
   "outputs": [
    {
     "data": {
      "image/png": "[encoded data removed]",
      "text/plain": [
       "<matplotlib.figure.Figure at 0x10f3ffe10>"
      ]
     },
     "metadata": {},
     "output_type": "display_data"
    }
   ],
   "source": [
    "# plot the results\n",
    "plt.figure(figsize=(8,6))\n",
    "\n",
    "# this time, I also want the filled area corresponding to the p-value\n",
    "plt.fill_between(range(8,11),guess[-3:], color='r', alpha =0.25);\n",
    "plt.plot(guess);\n",
    "plt.plot(guess_cum);"
   ]
  },
  {
   "cell_type": "markdown",
   "metadata": {},
   "source": [
    "## Introducing the \"P-Value\""
   ]
  },
  {
   "cell_type": "code",
   "execution_count": 8,
   "metadata": {},
   "outputs": [
    {
     "name": "stdout",
     "output_type": "stream",
     "text": [
      "# CORRECT \tPROB\tCUM\tPVALUE\n",
      "0\t\t0.0010\t0.0010\t1.0000\n",
      "1\t\t0.0098\t0.0107\t0.9990\n",
      "2\t\t0.0439\t0.0547\t0.9893\n",
      "3\t\t0.1172\t0.1719\t0.9453\n",
      "4\t\t0.2051\t0.3770\t0.8281\n",
      "5\t\t0.2461\t0.6230\t0.6230\n",
      "6\t\t0.2051\t0.8281\t0.3770\n",
      "7\t\t0.1172\t0.9453\t0.1719\n",
      "8\t\t0.0439\t0.9893\t0.0547\n",
      "9\t\t0.0098\t0.9990\t0.0107\n",
      "10\t\t0.0010\t1.0000\t0.0010\n"
     ]
    }
   ],
   "source": [
    "# let's create a few lists to collect our results\n",
    "pvalue=list()\n",
    "\n",
    "print '# CORRECT','\\tPROB\\tCUM\\tPVALUE'\n",
    "\n",
    "for num_heads in range(0,num_flips+1):\n",
    "    if (num_heads == 0) :\n",
    "        pvalue.append(1)\n",
    "    else:\n",
    "        pvalue.append(1-guess_cum[num_heads-1])\n",
    "\n",
    "    print '{}\\t\\t{:1.4f}\\t{:1.4f}\\t{:1.4f}'.format(num_heads,guess[num_heads],guess_cum[num_heads],pvalue[num_heads])"
   ]
  },
  {
   "cell_type": "code",
   "execution_count": 9,
   "metadata": {},
   "outputs": [
    {
     "data": {
      "text/plain": [
       "[<matplotlib.lines.Line2D at 0x10fb80290>]"
      ]
     },
     "execution_count": 9,
     "metadata": {},
     "output_type": "execute_result"
    },
    {
     "data": {
      "image/png": "[encoded data removed]",
      "text/plain": [
       "<matplotlib.figure.Figure at 0x10fae0350>"
      ]
     },
     "metadata": {},
     "output_type": "display_data"
    }
   ],
   "source": [
    "# plot the results\n",
    "plt.figure(figsize=(8,6))\n",
    "\n",
    "# this time, I also want the filled area corresponding to the p-value\n",
    "plt.fill_between(range(8,11),guess[-3:], color='r', alpha =0.25);\n",
    "plt.plot(guess);\n",
    "# plt.plot(guess_cum);"
   ]
  }
 ],
 "metadata": {},
 "nbformat": 4,
 "nbformat_minor": 0
}