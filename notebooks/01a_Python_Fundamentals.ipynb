{
  "cells": [
    {
      "cell_type": "markdown", 
      "metadata": {}, 
      "source": "# Crash Course on Python for Data Analysis"
    }, 
    {
      "cell_type": "markdown", 
      "metadata": {}, 
      "source": "## Where We're Headed\n**Our End Goal:**"
    }, 
    {
      "cell_type": "markdown", 
      "metadata": {}, 
      "source": "* Input data\n* Manipulate data until it's in the form we want\n* Produce a compelling graphic"
    }, 
    {
      "cell_type": "markdown", 
      "metadata": {}, 
      "source": "**Jupyter Notebook Basics**"
    }, 
    {
      "cell_type": "markdown", 
      "metadata": {}, 
      "source": "* Entering and executing Python\n* Documenting what you've done"
    }, 
    {
      "cell_type": "markdown", 
      "metadata": {}, 
      "source": "**Python Basics Pt 1**"
    }, 
    {
      "cell_type": "markdown", 
      "metadata": {}, 
      "source": "* Numbers and Calculations\n* Comments\n* Assignments\n* Strings\n* Lists\n* Dictionaries, Tuples and Sets"
    }, 
    {
      "cell_type": "markdown", 
      "metadata": {}, 
      "source": "**Python Basics Pt 2**"
    }, 
    {
      "cell_type": "markdown", 
      "metadata": {}, 
      "source": "* Booleans\n* Flow of Control\n* Extending Python by Importing Packages\n* Objects and Methods"
    }, 
    {
      "cell_type": "markdown", 
      "metadata": {}, 
      "source": "\n**Python Basics Pt 3**"
    }, 
    {
      "cell_type": "markdown", 
      "metadata": {}, 
      "source": "* Input and Output"
    }, 
    {
      "cell_type": "markdown", 
      "metadata": {}, 
      "source": "==============================="
    }, 
    {
      "cell_type": "markdown", 
      "metadata": {}, 
      "source": "## Numbers"
    }, 
    {
      "cell_type": "markdown", 
      "metadata": {}, 
      "source": "Python has various \"types\" of numbers (numeric literals). We'll mainly focus on integers and floating point numbers."
    }, 
    {
      "cell_type": "markdown", 
      "metadata": {}, 
      "source": "* Integers are just whole numbers, positive or negative. For example: 2 and -2 are examples of integers."
    }, 
    {
      "cell_type": "markdown", 
      "metadata": {}, 
      "source": "* Floating point numbers in Python are notable because they have a decimal point in them, or use an exponential (e) to define the number. For example 2.0 and -2.1 are examples of floating point numbers. 4E2 (4 times 10 to the power of 2) is also an example of a floating point number in Python."
    }, 
    {
      "cell_type": "markdown", 
      "metadata": {}, 
      "source": "Numbers can represent the following kinds of data:"
    }, 
    {
      "cell_type": "markdown", 
      "metadata": {}, 
      "source": "* integer values\n* floating point values\n* complex values"
    }, 
    {
      "cell_type": "markdown", 
      "metadata": {}, 
      "source": "## Calculations"
    }, 
    {
      "cell_type": "markdown", 
      "metadata": {}, 
      "source": "The most basic functionality that I can imagine for using Python is to treat it as a calculator.\nAs a starting point, let's take a few minutes to run through the most basic arithmetic operations.\nIn each of the cells below, enter an expression that will return the requested results.\nRemember, after you type the expression, hit <CTL>-return to execute the cell."
    }, 
    {
      "cell_type": "markdown", 
      "metadata": {}, 
      "source": "To get you started, here are some of the most fundamental arithmetic operations:"
    }, 
    {
      "cell_type": "markdown", 
      "metadata": {}, 
      "source": "| Operator | Function |\n|:--------:|:--------:|\n| + | Addition |\n| - | Subtraction |\n| * | Multiplication |\n| / | Division |"
    }, 
    {
      "cell_type": "markdown", 
      "metadata": {}, 
      "source": "<div class=\"alert alert-info\" role=\"alert\">\nYou may have noticed that each of the cells in this notebook starts with a line that begins with a hashtag or \"#\". This hashtag tells Python that the line should be considered as a comment and shouldn't be executed.\n</div>"
    }, 
    {
      "cell_type": "markdown", 
      "metadata": {}, 
      "source": "As a quick example, let's imagine that we want to simply add two numbers, say 5 and 10. After execution, that would look like the following in Python:"
    }, 
    {
      "cell_type": "code", 
      "execution_count": 1, 
      "metadata": {}, 
      "outputs": [
        {
          "data": {
            "text/plain": "15"
          }, 
          "execution_count": 1, 
          "metadata": {}, 
          "output_type": "execute_result"
        }
      ], 
      "source": "5 + 10"
    }, 
    {
      "cell_type": "markdown", 
      "metadata": {}, 
      "source": "<div class=\"alert alert-success\">\nYour turn, please multiply 2 integers, say 2 and 3.\n</div>"
    }, 
    {
      "cell_type": "code", 
      "execution_count": 2, 
      "metadata": {}, 
      "outputs": [], 
      "source": "# create your answer to the exercise here"
    }, 
    {
      "cell_type": "markdown", 
      "metadata": {}, 
      "source": "<div class=\"alert alert-success\">\nNow try dividing 2 integers, say 3 by 2 as 3/2. Pay attention to what happens.\n</div>"
    }, 
    {
      "cell_type": "code", 
      "execution_count": 3, 
      "metadata": {}, 
      "outputs": [], 
      "source": "# create your answer to the exercise here"
    }, 
    {
      "cell_type": "markdown", 
      "metadata": {}, 
      "source": "In Python 2, when we divide two integers, we get what's called \"classic\" division within the Python community. We can avoid this \"classic\" division, by making sure that one of the numbers is a floating point number."
    }, 
    {
      "cell_type": "markdown", 
      "metadata": {}, 
      "source": "<div class=\"alert alert-success\">\nFor example, retry our division example as 3.0 / 2. \n</div>"
    }, 
    {
      "cell_type": "code", 
      "execution_count": 4, 
      "metadata": {}, 
      "outputs": [], 
      "source": "# create your answer to the exercise here"
    }, 
    {
      "cell_type": "markdown", 
      "metadata": {}, 
      "source": "And, just to be clear, the order in which we use the floating point number doesn't matter. Feel free to go back and try that in one of the cells. As it turns out we can use a builtin function to force the issue by using the \"float()\" function to \"cast\" one of the integers to be a floating point number."
    }, 
    {
      "cell_type": "markdown", 
      "metadata": {}, 
      "source": "<div class=\"alert alert-success\">\nWe'll talk more about functions in a little while, but for now convince yourself of what happens if you evaluate float(3)/2\n</div>"
    }, 
    {
      "cell_type": "code", 
      "execution_count": 5, 
      "metadata": {}, 
      "outputs": [], 
      "source": "# create your answer to the exercise here"
    }, 
    {
      "cell_type": "markdown", 
      "metadata": {}, 
      "source": "Finally, this is probably a good time to mention that Python has rules on the order in which it will evaluate the results of operations."
    }, 
    {
      "cell_type": "code", 
      "execution_count": 6, 
      "metadata": {}, 
      "outputs": [
        {
          "data": {
            "text/plain": "10"
          }, 
          "execution_count": 6, 
          "metadata": {}, 
          "output_type": "execute_result"
        }
      ], 
      "source": "2 * 3 + 4"
    }, 
    {
      "cell_type": "markdown", 
      "metadata": {}, 
      "source": "Make sure that you're comfortable with what just happened there. Generally, Python will follow the same rules that we learned a long time ago, however, to be fair some of the rules are esoteric enough that we might not remember them all. Whenever there's a doubt keep in mind that you can control the order in which operations are executed by judiciously using parentheses, for instance, try"
    }, 
    {
      "cell_type": "code", 
      "execution_count": 7, 
      "metadata": {}, 
      "outputs": [], 
      "source": "2 * ( 3 + 4 )"
    }, 
    {
      "cell_type": "markdown", 
      "metadata": {}, 
      "source": "So what happened here? By default, Python has a specific order in which it will execute operations. As a rule, it will perform multiplication before addition.\nIn these final examples, the parentheses are introduced to force the expression \"3 + 4\" to be executed first. If you are completely new to programming, this can be a bit confusing and I recommend that you take a look at the Python documentation for more detail on the order in which operations are executed."
    }, 
    {
      "cell_type": "markdown", 
      "metadata": {}, 
      "source": "## Using Built-In Functions To Create An Expression\nIf we want to use other mathematical functions, such as trigonometric functions or\nessentially anything more complex than arithmetic, then we'll need to import the functions from Python's **math** package."
    }, 
    {
      "cell_type": "markdown", 
      "metadata": {}, 
      "source": "By itself, the core Python language is pretty simple. Fortunately, however, there are an enormous number of packages which are available which incorporate additional functionality. We'll come back to this later in more detail, but for now let's just introduce this concept so that we can use"
    }, 
    {
      "cell_type": "markdown", 
      "metadata": {}, 
      "source": "\n## Assigning Variables"
    }, 
    {
      "cell_type": "markdown", 
      "metadata": {}, 
      "source": "If we could only use Python as a calculator to evaluate expressions, then we'd be pretty limited in terms of the types of problems that we could solve. As a first step in moving towards more interesting computations, We can store results by assigning a label, or a variable name, to our results as we move along. For example, let's say that we want to store the value \"10\" using a variable named \"a\"."
    }, 
    {
      "cell_type": "markdown", 
      "metadata": {}, 
      "source": "Python does this as:"
    }, 
    {
      "cell_type": "code", 
      "execution_count": 8, 
      "metadata": {}, 
      "outputs": [], 
      "source": "a = 10"
    }, 
    {
      "cell_type": "markdown", 
      "metadata": {}, 
      "source": "Try it in the cell below:"
    }, 
    {
      "cell_type": "code", 
      "execution_count": 9, 
      "metadata": {}, 
      "outputs": [], 
      "source": "# create your answer to the exercise here"
    }, 
    {
      "cell_type": "markdown", 
      "metadata": {}, 
      "source": "If you typed that in exactly as shown, then you shouldn't have gotten any type of output. There are a couple of ways in which we can test whether or not, the variable was actually set though."
    }, 
    {
      "cell_type": "markdown", 
      "metadata": {}, 
      "source": "First, you can simply evaluate a cell with the name of the variable:"
    }, 
    {
      "cell_type": "code", 
      "execution_count": 10, 
      "metadata": {}, 
      "outputs": [], 
      "source": " a"
    }, 
    {
      "cell_type": "markdown", 
      "metadata": {}, 
      "source": "Alternatively, you can use the \"print\" function in python which will evaluate an expression (in this case the variable) and print the results to the screen. In Python 2, the syntax for this is:"
    }, 
    {
      "cell_type": "code", 
      "execution_count": 11, 
      "metadata": {}, 
      "outputs": [], 
      "source": " print a"
    }, 
    {
      "cell_type": "markdown", 
      "metadata": {}, 
      "source": "Try both techniques here so you can verify that the variable **a** was set to 10:"
    }, 
    {
      "cell_type": "code", 
      "execution_count": 12, 
      "metadata": {}, 
      "outputs": [], 
      "source": "# create your answer to the exercise here"
    }, 
    {
      "cell_type": "markdown", 
      "metadata": {}, 
      "source": "In terms of creating variable names, there are some rules on what's allowable:"
    }, 
    {
      "cell_type": "markdown", 
      "metadata": {}, 
      "source": "    1. Names can not start with a number.\n    2. There can be no spaces in the name\n    3. Can't use any of these symbols :'\",<>/?|\\()!@#$%^&*~-+"
    }, 
    {
      "cell_type": "markdown", 
      "metadata": {}, 
      "source": "Using variable names can be a very useful way to keep track of different variables in Python. For example:"
    }, 
    {
      "cell_type": "markdown", 
      "metadata": {}, 
      "source": "    1. It's considered best practice that the names are lowercase.\n    2. Also, if you need to create a long name, maybe comprised of several words strung together, Python best practice is to connect these words using underscores. e.g. `this_is_johns_variable`"
    }, 
    {
      "cell_type": "markdown", 
      "metadata": {}, 
      "source": "<div class=\"alert alert-success\">\nConstruct a series of expressions to compute the taxes you would need to pay on a typical data scientists salary. Assume the following:\n<li>My income is $ 20,000,000</li>\n<li>My tax rate is 30%</li>\nAs a simple exercise, please set up variables called my_income and my_tax_rate compute the taxes you owe using simple multiplication. Finally, print out the taxes you owe.\n</div>"
    }, 
    {
      "cell_type": "code", 
      "execution_count": 13, 
      "metadata": {}, 
      "outputs": [], 
      "source": "# create your answer to the exercise here"
    }, 
    {
      "cell_type": "markdown", 
      "metadata": {}, 
      "source": "When you evaluate your results, you should get a result of 6000000.0."
    }, 
    {
      "cell_type": "markdown", 
      "metadata": {}, 
      "source": "## Strings"
    }, 
    {
      "cell_type": "markdown", 
      "metadata": {}, 
      "source": "* Double quotes or single quotes\n* Index from 0\n* Slicing\n* Does not include the right index \"up to but not including\"\n* Include everything\n* Negative indexing\n* frequency / step size / reversing a sting using a -1 step size"
    }, 
    {
      "cell_type": "markdown", 
      "metadata": {}, 
      "source": "### String Properties\nStrings are immutable, i.e. once they are created, they can't be changed or replaced.\nConcatenation using +\nDuplication using *"
    }, 
    {
      "cell_type": "markdown", 
      "metadata": {}, 
      "source": "### String methods\nActions on the objects themselves"
    }, 
    {
      "cell_type": "code", 
      "execution_count": 14, 
      "metadata": {}, 
      "outputs": [
        {
          "data": {
            "text/plain": "12"
          }, 
          "execution_count": 14, 
          "metadata": {}, 
          "output_type": "execute_result"
        }
      ], 
      "source": "len('Hello world!')"
    }, 
    {
      "cell_type": "code", 
      "execution_count": 15, 
      "metadata": {}, 
      "outputs": [], 
      "source": "s = 'Hello world'"
    }, 
    {
      "cell_type": "code", 
      "execution_count": 16, 
      "metadata": {}, 
      "outputs": [
        {
          "data": {
            "text/plain": "'dlrow olleH'"
          }, 
          "execution_count": 16, 
          "metadata": {}, 
          "output_type": "execute_result"
        }
      ], 
      "source": "s[::-1]"
    }, 
    {
      "cell_type": "code", 
      "execution_count": 17, 
      "metadata": {}, 
      "outputs": [
        {
          "data": {
            "text/plain": "'Hello world there'"
          }, 
          "execution_count": 17, 
          "metadata": {}, 
          "output_type": "execute_result"
        }
      ], 
      "source": "s + ' there'"
    }, 
    {
      "cell_type": "code", 
      "execution_count": 18, 
      "metadata": {}, 
      "outputs": [
        {
          "data": {
            "text/plain": "'Hello worldHello world'"
          }, 
          "execution_count": 18, 
          "metadata": {}, 
          "output_type": "execute_result"
        }
      ], 
      "source": "s*2"
    }, 
    {
      "cell_type": "code", 
      "execution_count": 19, 
      "metadata": {}, 
      "outputs": [], 
      "source": "s = 'hello'"
    }, 
    {
      "cell_type": "code", 
      "execution_count": 20, 
      "metadata": {}, 
      "outputs": [
        {
          "data": {
            "text/plain": "'HELLO'"
          }, 
          "execution_count": 20, 
          "metadata": {}, 
          "output_type": "execute_result"
        }
      ], 
      "source": "s.upper()"
    }, 
    {
      "cell_type": "code", 
      "execution_count": 21, 
      "metadata": {}, 
      "outputs": [
        {
          "data": {
            "text/plain": "'Hello'"
          }, 
          "execution_count": 21, 
          "metadata": {}, 
          "output_type": "execute_result"
        }
      ], 
      "source": "s.capitalize()"
    }, 
    {
      "cell_type": "code", 
      "execution_count": 22, 
      "metadata": {}, 
      "outputs": [
        {
          "data": {
            "text/plain": "2"
          }, 
          "execution_count": 22, 
          "metadata": {}, 
          "output_type": "execute_result"
        }
      ], 
      "source": "s.find('l')"
    }, 
    {
      "cell_type": "code", 
      "execution_count": 23, 
      "metadata": {}, 
      "outputs": [
        {
          "data": {
            "text/plain": "['h', 'llo']"
          }, 
          "execution_count": 23, 
          "metadata": {}, 
          "output_type": "execute_result"
        }
      ], 
      "source": "s.split('e')"
    }, 
    {
      "cell_type": "markdown", 
      "metadata": {}, 
      "source": "## Lists"
    }, 
    {
      "cell_type": "code", 
      "execution_count": 24, 
      "metadata": {}, 
      "outputs": [], 
      "source": "my_list = [1,2,3]"
    }, 
    {
      "cell_type": "code", 
      "execution_count": 25, 
      "metadata": {}, 
      "outputs": [
        {
          "data": {
            "text/plain": "[1, 2, 3]"
          }, 
          "execution_count": 25, 
          "metadata": {}, 
          "output_type": "execute_result"
        }
      ], 
      "source": "my_list"
    }, 
    {
      "cell_type": "code", 
      "execution_count": 26, 
      "metadata": {}, 
      "outputs": [], 
      "source": "my_list = ['string', 23, 1.234, '0']"
    }, 
    {
      "cell_type": "code", 
      "execution_count": 27, 
      "metadata": {}, 
      "outputs": [
        {
          "data": {
            "text/plain": "4"
          }, 
          "execution_count": 27, 
          "metadata": {}, 
          "output_type": "execute_result"
        }
      ], 
      "source": "len(my_list)"
    }, 
    {
      "cell_type": "markdown", 
      "metadata": {}, 
      "source": "### Index and Slicing"
    }, 
    {
      "cell_type": "markdown", 
      "metadata": {}, 
      "source": "* Works just like strings\n* can do list concatenation"
    }, 
    {
      "cell_type": "markdown", 
      "metadata": {}, 
      "source": "* no fixed sizes in list\n* no type constraints on contents"
    }, 
    {
      "cell_type": "markdown", 
      "metadata": {}, 
      "source": "### Methods"
    }, 
    {
      "cell_type": "code", 
      "execution_count": 28, 
      "metadata": {}, 
      "outputs": [], 
      "source": "l = [1,2,3]"
    }, 
    {
      "cell_type": "code", 
      "execution_count": 29, 
      "metadata": {}, 
      "outputs": [], 
      "source": "l.append('append me')"
    }, 
    {
      "cell_type": "code", 
      "execution_count": 30, 
      "metadata": {}, 
      "outputs": [
        {
          "data": {
            "text/plain": "[1, 2, 3, 'append me']"
          }, 
          "execution_count": 30, 
          "metadata": {}, 
          "output_type": "execute_result"
        }
      ], 
      "source": "l"
    }, 
    {
      "cell_type": "code", 
      "execution_count": 31, 
      "metadata": {}, 
      "outputs": [
        {
          "data": {
            "text/plain": "'append me'"
          }, 
          "execution_count": 31, 
          "metadata": {}, 
          "output_type": "execute_result"
        }
      ], 
      "source": "l.pop()"
    }, 
    {
      "cell_type": "code", 
      "execution_count": 32, 
      "metadata": {}, 
      "outputs": [
        {
          "data": {
            "text/plain": "[1, 2, 3]"
          }, 
          "execution_count": 32, 
          "metadata": {}, 
          "output_type": "execute_result"
        }
      ], 
      "source": "l"
    }, 
    {
      "cell_type": "code", 
      "execution_count": 33, 
      "metadata": {}, 
      "outputs": [
        {
          "data": {
            "text/plain": "1"
          }, 
          "execution_count": 33, 
          "metadata": {}, 
          "output_type": "execute_result"
        }
      ], 
      "source": "l.pop(0)"
    }, 
    {
      "cell_type": "code", 
      "execution_count": 34, 
      "metadata": {}, 
      "outputs": [
        {
          "data": {
            "text/plain": "[2, 3]"
          }, 
          "execution_count": 34, 
          "metadata": {}, 
          "output_type": "execute_result"
        }
      ], 
      "source": "l"
    }, 
    {
      "cell_type": "code", 
      "execution_count": 35, 
      "metadata": {}, 
      "outputs": [], 
      "source": "x = l.pop(0)"
    }, 
    {
      "cell_type": "code", 
      "execution_count": 36, 
      "metadata": {}, 
      "outputs": [
        {
          "data": {
            "text/plain": "2"
          }, 
          "execution_count": 36, 
          "metadata": {}, 
          "output_type": "execute_result"
        }
      ], 
      "source": "x"
    }, 
    {
      "cell_type": "code", 
      "execution_count": 37, 
      "metadata": {}, 
      "outputs": [
        {
          "data": {
            "text/plain": "[3]"
          }, 
          "execution_count": 37, 
          "metadata": {}, 
          "output_type": "execute_result"
        }
      ], 
      "source": "l"
    }, 
    {
      "cell_type": "code", 
      "execution_count": 38, 
      "metadata": {}, 
      "outputs": [], 
      "source": "l[99]"
    }, 
    {
      "cell_type": "code", 
      "execution_count": 39, 
      "metadata": {}, 
      "outputs": [], 
      "source": "new_list = ['a', 'e', 'x', 'b', 'c']"
    }, 
    {
      "cell_type": "code", 
      "execution_count": 40, 
      "metadata": {}, 
      "outputs": [], 
      "source": "new_list"
    }, 
    {
      "cell_type": "code", 
      "execution_count": 41, 
      "metadata": {}, 
      "outputs": [], 
      "source": "new_list.reverse()"
    }, 
    {
      "cell_type": "code", 
      "execution_count": 42, 
      "metadata": {}, 
      "outputs": [], 
      "source": "new_list"
    }, 
    {
      "cell_type": "code", 
      "execution_count": 43, 
      "metadata": {}, 
      "outputs": [], 
      "source": "new_list.sort()"
    }, 
    {
      "cell_type": "code", 
      "execution_count": 44, 
      "metadata": {}, 
      "outputs": [], 
      "source": "new_list"
    }, 
    {
      "cell_type": "code", 
      "execution_count": 45, 
      "metadata": {}, 
      "outputs": [], 
      "source": "l_1 = [1,2,3]\nl_2 = [4,5,6]\nl_3 = [7,8,9]"
    }, 
    {
      "cell_type": "code", 
      "execution_count": 46, 
      "metadata": {}, 
      "outputs": [], 
      "source": "matrix = [l_1, l_2, l_3]"
    }, 
    {
      "cell_type": "code", 
      "execution_count": 47, 
      "metadata": {}, 
      "outputs": [], 
      "source": "matrix # nested data structures"
    }, 
    {
      "cell_type": "code", 
      "execution_count": 48, 
      "metadata": {}, 
      "outputs": [], 
      "source": "matrix[0]"
    }, 
    {
      "cell_type": "code", 
      "execution_count": 49, 
      "metadata": {}, 
      "outputs": [], 
      "source": "matrix[1][2]"
    }, 
    {
      "cell_type": "markdown", 
      "metadata": {}, 
      "source": "### List Comprehensions"
    }, 
    {
      "cell_type": "code", 
      "execution_count": 50, 
      "metadata": {}, 
      "outputs": [], 
      "source": "first_column = [row[0] for row in matrix]"
    }, 
    {
      "cell_type": "code", 
      "execution_count": 51, 
      "metadata": {}, 
      "outputs": [], 
      "source": "first_column"
    }, 
    {
      "cell_type": "markdown", 
      "metadata": {}, 
      "source": "## Dictionaries"
    }, 
    {
      "cell_type": "markdown", 
      "metadata": {}, 
      "source": "A dictionary is basically a mapping between objects. What we've seen so far are sequences, objects where we can index them based on their position. keys must be unique"
    }, 
    {
      "cell_type": "code", 
      "execution_count": 52, 
      "metadata": {}, 
      "outputs": [], 
      "source": "my_dict = {'key1': 'value', 'key2': 'value2'}"
    }, 
    {
      "cell_type": "code", 
      "execution_count": 53, 
      "metadata": {}, 
      "outputs": [
        {
          "data": {
            "text/plain": "{'key1': 'value', 'key2': 'value2'}"
          }, 
          "execution_count": 53, 
          "metadata": {}, 
          "output_type": "execute_result"
        }
      ], 
      "source": "my_dict"
    }, 
    {
      "cell_type": "code", 
      "execution_count": 54, 
      "metadata": {}, 
      "outputs": [], 
      "source": "my_dict['key1']"
    }, 
    {
      "cell_type": "code", 
      "execution_count": 55, 
      "metadata": {}, 
      "outputs": [], 
      "source": "my_dict = {'key1': 'value', 'key2': 123, 'key3': [1,2,3]}"
    }, 
    {
      "cell_type": "code", 
      "execution_count": 56, 
      "metadata": {}, 
      "outputs": [], 
      "source": "my_dict['key1']"
    }, 
    {
      "cell_type": "code", 
      "execution_count": 57, 
      "metadata": {}, 
      "outputs": [], 
      "source": "my_dict['key3']"
    }, 
    {
      "cell_type": "code", 
      "execution_count": 58, 
      "metadata": {}, 
      "outputs": [], 
      "source": "my_dict['key3'].pop()"
    }, 
    {
      "cell_type": "code", 
      "execution_count": 59, 
      "metadata": {}, 
      "outputs": [], 
      "source": "my_dict"
    }, 
    {
      "cell_type": "code", 
      "execution_count": 60, 
      "metadata": {}, 
      "outputs": [], 
      "source": "my_dict['key1'].upper()"
    }, 
    {
      "cell_type": "code", 
      "execution_count": 61, 
      "metadata": {}, 
      "outputs": [], 
      "source": "my_dict"
    }, 
    {
      "cell_type": "code", 
      "execution_count": 62, 
      "metadata": {}, 
      "outputs": [], 
      "source": "my_dict['key2'] *= 2"
    }, 
    {
      "cell_type": "code", 
      "execution_count": 63, 
      "metadata": {}, 
      "outputs": [], 
      "source": "my_dict"
    }, 
    {
      "cell_type": "code", 
      "execution_count": 64, 
      "metadata": {}, 
      "outputs": [], 
      "source": "d = {}\nd"
    }, 
    {
      "cell_type": "code", 
      "execution_count": 65, 
      "metadata": {}, 
      "outputs": [], 
      "source": "d['animal'] = 'Dog'\nd['answer'] = 42"
    }, 
    {
      "cell_type": "code", 
      "execution_count": 66, 
      "metadata": {}, 
      "outputs": [], 
      "source": "d"
    }, 
    {
      "cell_type": "code", 
      "execution_count": 67, 
      "metadata": {}, 
      "outputs": [], 
      "source": "d = {'k1': {'nestKey': {'subnest': 'value'}}}"
    }, 
    {
      "cell_type": "code", 
      "execution_count": 68, 
      "metadata": {}, 
      "outputs": [], 
      "source": "d"
    }, 
    {
      "cell_type": "code", 
      "execution_count": 69, 
      "metadata": {}, 
      "outputs": [], 
      "source": "d['k1']"
    }, 
    {
      "cell_type": "code", 
      "execution_count": 70, 
      "metadata": {}, 
      "outputs": [], 
      "source": "d['k1']['nestKey']['subnest'].upper()"
    }, 
    {
      "cell_type": "code", 
      "execution_count": 71, 
      "metadata": {}, 
      "outputs": [], 
      "source": "d = {}"
    }, 
    {
      "cell_type": "code", 
      "execution_count": 72, 
      "metadata": {}, 
      "outputs": [], 
      "source": "d['k1'] = 1\nd['k2'] = 2\nd['k3'] = 3"
    }, 
    {
      "cell_type": "code", 
      "execution_count": 73, 
      "metadata": {}, 
      "outputs": [], 
      "source": "d"
    }, 
    {
      "cell_type": "code", 
      "execution_count": 74, 
      "metadata": {}, 
      "outputs": [], 
      "source": "d.keys()       # note the order. Dictionaries do not guarantee any order"
    }, 
    {
      "cell_type": "code", 
      "execution_count": 75, 
      "metadata": {}, 
      "outputs": [], 
      "source": "d.values()"
    }, 
    {
      "cell_type": "code", 
      "execution_count": 76, 
      "metadata": {}, 
      "outputs": [], 
      "source": "d.items()       # this returns tuples of all of the dictionary key-value pairs"
    }, 
    {
      "cell_type": "markdown", 
      "metadata": {}, 
      "source": "## Tuples"
    }, 
    {
      "cell_type": "markdown", 
      "metadata": {}, 
      "source": "Similar to lists but immutable"
    }, 
    {
      "cell_type": "code", 
      "execution_count": 77, 
      "metadata": {}, 
      "outputs": [], 
      "source": "t = (1,2,3)"
    }, 
    {
      "cell_type": "code", 
      "execution_count": 78, 
      "metadata": {}, 
      "outputs": [
        {
          "data": {
            "text/plain": "(1, 2, 3)"
          }, 
          "execution_count": 78, 
          "metadata": {}, 
          "output_type": "execute_result"
        }
      ], 
      "source": "t"
    }, 
    {
      "cell_type": "code", 
      "execution_count": 79, 
      "metadata": {}, 
      "outputs": [
        {
          "data": {
            "text/plain": "3"
          }, 
          "execution_count": 79, 
          "metadata": {}, 
          "output_type": "execute_result"
        }
      ], 
      "source": "len(t)"
    }, 
    {
      "cell_type": "code", 
      "execution_count": 80, 
      "metadata": {}, 
      "outputs": [
        {
          "data": {
            "text/plain": "2"
          }, 
          "execution_count": 80, 
          "metadata": {}, 
          "output_type": "execute_result"
        }
      ], 
      "source": "t[1]"
    }, 
    {
      "cell_type": "code", 
      "execution_count": 81, 
      "metadata": {}, 
      "outputs": [], 
      "source": "t = ('one', 2)"
    }, 
    {
      "cell_type": "code", 
      "execution_count": 82, 
      "metadata": {}, 
      "outputs": [
        {
          "data": {
            "text/plain": "'one'"
          }, 
          "execution_count": 82, 
          "metadata": {}, 
          "output_type": "execute_result"
        }
      ], 
      "source": "t[0]"
    }, 
    {
      "cell_type": "code", 
      "execution_count": 83, 
      "metadata": {}, 
      "outputs": [
        {
          "data": {
            "text/plain": "2"
          }, 
          "execution_count": 83, 
          "metadata": {}, 
          "output_type": "execute_result"
        }
      ], 
      "source": "t[1]"
    }, 
    {
      "cell_type": "code", 
      "execution_count": 84, 
      "metadata": {}, 
      "outputs": [
        {
          "data": {
            "text/plain": "2"
          }, 
          "execution_count": 84, 
          "metadata": {}, 
          "output_type": "execute_result"
        }
      ], 
      "source": "t[-1]"
    }, 
    {
      "cell_type": "code", 
      "execution_count": 85, 
      "metadata": {}, 
      "outputs": [
        {
          "data": {
            "text/plain": "0"
          }, 
          "execution_count": 85, 
          "metadata": {}, 
          "output_type": "execute_result"
        }
      ], 
      "source": "t.index('one')"
    }, 
    {
      "cell_type": "code", 
      "execution_count": 86, 
      "metadata": {}, 
      "outputs": [
        {
          "data": {
            "text/plain": "1"
          }, 
          "execution_count": 86, 
          "metadata": {}, 
          "output_type": "execute_result"
        }
      ], 
      "source": "t.count('one')"
    }, 
    {
      "cell_type": "code", 
      "execution_count": 87, 
      "metadata": {}, 
      "outputs": [], 
      "source": "t = (1,1,2,3)"
    }, 
    {
      "cell_type": "code", 
      "execution_count": 88, 
      "metadata": {}, 
      "outputs": [
        {
          "data": {
            "text/plain": "2"
          }, 
          "execution_count": 88, 
          "metadata": {}, 
          "output_type": "execute_result"
        }
      ], 
      "source": "t.count(1)"
    }, 
    {
      "cell_type": "markdown", 
      "metadata": {}, 
      "source": "Tuples are immutable"
    }, 
    {
      "cell_type": "code", 
      "execution_count": 89, 
      "metadata": {}, 
      "outputs": [], 
      "source": "l = [1,2,3]"
    }, 
    {
      "cell_type": "code", 
      "execution_count": 90, 
      "metadata": {}, 
      "outputs": [
        {
          "data": {
            "text/plain": "[1, 2, 3]"
          }, 
          "execution_count": 90, 
          "metadata": {}, 
          "output_type": "execute_result"
        }
      ], 
      "source": "l"
    }, 
    {
      "cell_type": "code", 
      "execution_count": 91, 
      "metadata": {}, 
      "outputs": [], 
      "source": "t = (1,2,3)"
    }, 
    {
      "cell_type": "code", 
      "execution_count": 92, 
      "metadata": {}, 
      "outputs": [], 
      "source": "l[0] = 'string'"
    }, 
    {
      "cell_type": "code", 
      "execution_count": 93, 
      "metadata": {}, 
      "outputs": [
        {
          "data": {
            "text/plain": "['string', 2, 3]"
          }, 
          "execution_count": 93, 
          "metadata": {}, 
          "output_type": "execute_result"
        }
      ], 
      "source": "l"
    }, 
    {
      "cell_type": "code", 
      "execution_count": 94, 
      "metadata": {}, 
      "outputs": [], 
      "source": "t[0] = 'string'"
    }, 
    {
      "cell_type": "markdown", 
      "metadata": {}, 
      "source": "## Sets"
    }, 
    {
      "cell_type": "markdown", 
      "metadata": {}, 
      "source": "An unordered collection of *unique* objects"
    }, 
    {
      "cell_type": "code", 
      "execution_count": 95, 
      "metadata": {}, 
      "outputs": [], 
      "source": "x = set()"
    }, 
    {
      "cell_type": "code", 
      "execution_count": 96, 
      "metadata": {}, 
      "outputs": [
        {
          "data": {
            "text/plain": "{1}"
          }, 
          "execution_count": 96, 
          "metadata": {}, 
          "output_type": "execute_result"
        }
      ], 
      "source": "x.add(1)\nx"
    }, 
    {
      "cell_type": "code", 
      "execution_count": 97, 
      "metadata": {}, 
      "outputs": [
        {
          "data": {
            "text/plain": "{1, 2}"
          }, 
          "execution_count": 97, 
          "metadata": {}, 
          "output_type": "execute_result"
        }
      ], 
      "source": "x.add(2)\nx"
    }, 
    {
      "cell_type": "code", 
      "execution_count": 98, 
      "metadata": {}, 
      "outputs": [
        {
          "data": {
            "text/plain": "{1, 2}"
          }, 
          "execution_count": 98, 
          "metadata": {}, 
          "output_type": "execute_result"
        }
      ], 
      "source": "x.add(1)\nx"
    }, 
    {
      "cell_type": "code", 
      "execution_count": 99, 
      "metadata": {}, 
      "outputs": [
        {
          "data": {
            "text/plain": "[1, 1, 1, 2, 2, 2, 2, 2, 3, 3, 3, 3]"
          }, 
          "execution_count": 99, 
          "metadata": {}, 
          "output_type": "execute_result"
        }
      ], 
      "source": "# can use the set function to cast a list into a subset of unique elements\nl = [1,1,1,2,2,2,2,2,3,3,3,3]\nprint l"
    }, 
    {
      "cell_type": "code", 
      "execution_count": 100, 
      "metadata": {}, 
      "outputs": [
        {
          "data": {
            "text/plain": "{1, 2, 3}"
          }, 
          "execution_count": 100, 
          "metadata": {}, 
          "output_type": "execute_result"
        }
      ], 
      "source": "set(l)"
    }
  ], 
  "metadata": {}, 
  "nbformat": 4, 
  "nbformat_minor": 0
}