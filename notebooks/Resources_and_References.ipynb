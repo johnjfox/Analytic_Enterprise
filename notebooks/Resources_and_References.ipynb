{
 "cells": [
  {
   "cell_type": "markdown",
   "metadata": {},
   "source": [
    "# Resources and References"
   ]
  },
  {
   "cell_type": "markdown",
   "metadata": {},
   "source": [
    "## Visualization Techniques"
   ]
  },
  {
   "cell_type": "markdown",
   "metadata": {},
   "source": [
    "* [Constructing Box and Whisker Plots](http://www.statcan.gc.ca/edu/power-pouvoir/ch12/5214889-eng.htm)\n",
    "* [Randy Olson, \"How to make beautiful data visualizations in Python with matplotlib\"](http://www.randalolson.com/2014/06/28/how-to-make-beautiful-data-visualizations-in-python-with-matplotlib/)"
   ]
  },
  {
   "cell_type": "markdown",
   "metadata": {
    "ipymd": {
     "empty_meta": true
    }
   },
   "source": [
    "##### Distributions\n",
    "* [Anaconda Distribution][anaconda]"
   ]
  },
  {
   "cell_type": "markdown",
   "metadata": {
    "ipymd": {
     "empty_meta": true
    }
   },
   "source": [
    "## Data Science Libraries and Tools\n",
    "* [numpy][numpy]: Python package offering N-dimensional array objects, tools for integrating C/C++ and Fortran code, and useful linear algebra, Fourier transform, and random number capabilities\n",
    "* [pandas][pandas]: High-performance, easy-to-use data structures and data analysis tools for data analysis, built on numpy\n",
    "* [scipy][scipy]: efficient numerical routines such as routines for numerical integration and optimization\n",
    "* [statsmodels][statsmodels]: Python package for exploring data, estimating statistical models, and perform statistical tests, including extensive lists of descriptive statistics, statistical tests, plotting functions, and result statistics are available for different types of data and each estimator.\n",
    "* [scikit-learn][scikit-learn]: A Python package for machine learning, including capabilities for preprocessing, model selection, clustering, regression, classification, and dimensionality reduction"
   ]
  },
  {
   "cell_type": "markdown",
   "metadata": {
    "ipymd": {
     "empty_meta": true
    }
   },
   "source": [
    "## Python Visualization Libraries and Tools"
   ]
  },
  {
   "cell_type": "markdown",
   "metadata": {},
   "source": [
    "* **bokeh**: [Homepage](http://bokeh.pydata.org/en/latest/), [QuickStart](http://bokeh.pydata.org/en/latest/docs/user_guide/quickstart.html), [Gallery](http://bokeh.pydata.org/en/latest/docs/gallery.html) and [API](http://bokeh.pydata.org/en/latest/docs/reference.html#refguide). Python interactive visualization library that targets modern web browsers for presentation ... graphics in the style of D3.js ... with high-performance interactivity over very large or streaming datasets\n",
    "* **ggplot**: [Homepage](http://ggplot.yhathq.com), [Quickstart](http://ggplot.yhathq.com/how-it-works.html), [Gallery](http://ggplot.yhathq.com/docs/index.html), and *NO API URL* A port of the graphics of Grammar into Python. ggplot is extremely popular on the R platform but relatively new for Python.\n",
    "* **mpl3d**: [Homepage](http://mpld3.github.io), [Quickstart](http://mpld3.github.io/quickstart.html), [Gallery](http://mpld3.github.io/examples/index.html), and [API](http://mpld3.github.io/modules/API.html) interactive D3js-based viewer which brings matplotlib graphics to the browser.\n",
    "* **Plot.ly for Python**: [Homepage](https://plot.ly/python/), [Quickstart](https://plot.ly/python/getting-started/), [Gallery](https://plot.ly/python/#basic-charts), [API](https://plot.ly/python/)simple approach for creating interactive visualizations."
   ]
  },
  {
   "cell_type": "markdown",
   "metadata": {},
   "source": [
    "* [matplotlib][matplotlib]: 2D plotting with support for both high level interfaces (a la MATLAB if you happen to know that) or detailed low level control of figure properties\n",
    "* [seaborn][seaborn]: a 2D plotting library built on matplotlib, with an API that tends to abstract away some of the detailed control over the plotting in order to simplify the creation of plots using a minimal set of arguments."
   ]
  },
  {
   "cell_type": "markdown",
   "metadata": {
    "ipymd": {
     "empty_meta": true
    }
   },
   "source": [
    "## Other Python Resources For Data Science \n",
    "This is by no means an exhaustive list of tools or resources for working with Python for data science, however, if you get serious either about Python development in general or about working on data science in particular, then you may want to look into one of these tools. Please note, though, that"
   ]
  },
  {
   "cell_type": "markdown",
   "metadata": {},
   "source": [
    "* [Spyder][spyder]: an IDE focused on data science. **Included with Anaconda**\n",
    "* [Pycharm][pycharm]: a very nice general purpose IDE for Python developed by JetBrains (the makers of IDEA). **Not included with Anaconda**\n",
    "* [Rodeo][rodeo]: another IDE for Python development, in this case specifically focused on data science applications. Very feature light, but rapidly evolving **Not included with Anaconda**\n",
    "* [PyDev][pydev]: IDE for Python development built on Eclipse. **Not included with Anaconda**"
   ]
  },
  {
   "cell_type": "markdown",
   "metadata": {
    "ipymd": {
     "empty_meta": true
    }
   },
   "source": [
    "[anaconda]: https://www.continuum.io/downloads\n",
    "[jupyter]: http://nbviewer.jupyter.org\n",
    "[numpy]: http://www.numpy.org\n",
    "[pandas]: http://pandas.pydata.org\n",
    "[scipy]: http://scipy.org/scipylib/index.html\n",
    "[statsmodels]: http://statsmodels.sourceforge.net\n",
    "[scikit-learn]: http://scikit-learn.org/stable/\n",
    "[matplotlib]: http://matplotlib.org\n",
    "[seaborn]: http://stanford.edu/~mwaskom/software/seaborn/"
   ]
  },
  {
   "cell_type": "markdown",
   "metadata": {},
   "source": [
    "[rodeo]: https://www.yhat.com/products/rodeo\n",
    "[spyder]: https://pythonhosted.org/spyder/\n",
    "[pycharm]: https://www.jetbrains.com/pycharm/\n",
    "[pydev]: http://www.pydev.org"
   ]
  },
  {
   "cell_type": "markdown",
   "metadata": {},
   "source": [
    "\n",
    "<!---\n",
    "* **<NAME>**: [Homepage](), [Quickstart](), [Gallery](), and [API]() <description>.\n",
    "-->"
   ]
  }
 ],
 "metadata": {},
 "nbformat": 4,
 "nbformat_minor": 0
}