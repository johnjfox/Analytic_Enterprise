{
  "cells": [
    {
      "cell_type": "markdown", 
      "metadata": {}, 
      "source": "# Analysis of Categorical Data"
    }, 
    {
      "cell_type": "markdown", 
      "metadata": {}, 
      "source": "<div class=\"alert alert-danger\">\nYou'll need to have an internet connection for portions of this notebook.\n</div>"
    }, 
    {
      "cell_type": "markdown", 
      "metadata": {}, 
      "source": "## What is Categorical Data?"
    }, 
    {
      "cell_type": "markdown", 
      "metadata": {}, 
      "source": "* definitions of categorical data"
    }, 
    {
      "cell_type": "markdown", 
      "metadata": {}, 
      "source": "## Contingency Table Analysis"
    }, 
    {
      "cell_type": "code", 
      "execution_count": 1, 
      "metadata": {}, 
      "outputs": [], 
      "source": ""
    }, 
    {
      "cell_type": "markdown", 
      "metadata": {}, 
      "source": "## Graphical Analysis"
    }, 
    {
      "cell_type": "markdown", 
      "metadata": {}, 
      "source": "* stripplots\n* swarmplots\n* boxplots\n* violinplots\n* barplot\n* countplot\n* point plot"
    }, 
    {
      "cell_type": "code", 
      "execution_count": 2, 
      "metadata": {}, 
      "outputs": [], 
      "source": ""
    }, 
    {
      "cell_type": "code", 
      "execution_count": 3, 
      "metadata": {}, 
      "outputs": [], 
      "source": ""
    }
  ], 
  "metadata": {}, 
  "nbformat": 4, 
  "nbformat_minor": 0
}