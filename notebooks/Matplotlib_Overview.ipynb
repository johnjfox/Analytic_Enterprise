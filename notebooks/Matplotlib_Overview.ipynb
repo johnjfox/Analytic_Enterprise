{
  "cells": [
    {
      "cell_type": "markdown", 
      "metadata": {}, 
      "source": "# matplotlib Overview"
    }, 
    {
      "cell_type": "markdown", 
      "metadata": {}, 
      "source": "<div class=\"alert alert-info\">\nThis notebook is intended only to provide an overview of the matplotlib package. More complete documentation can be found at\n<ul>\n<li><a href=\"http://matplotlib.org/contents.html\">matplotlib Documentation</a></li>\n<li><a href=\"http://matplotlib.org/users/beginner.html\">matplotlib beginners guide</a></li>\n</ul>\n</div>"
    }, 
    {
      "cell_type": "markdown", 
      "metadata": {}, 
      "source": "<div class=\"alert alert-danger\">\nYou'll need to have an internet connection for portions of this notebook.\n</div>"
    }, 
    {
      "cell_type": "markdown", 
      "metadata": {}, 
      "source": "## Introduction"
    }, 
    {
      "cell_type": "markdown", 
      "metadata": {}, 
      "source": "Some of the leading packages for numerical (\"scientific\") computation in Python are"
    }, 
    {
      "cell_type": "markdown", 
      "metadata": {}, 
      "source": "* NumPy. Tools for numerical computing. In Excel the basic unit is a cell, a single number. In NumPy the basic unit is a vector (a column) or matrix (a table or worksheet), which allows us to do things with an entire column or table in one line. This facility carries over to Pandas since Pandas is built on NumPy.\n* Pandas. The leading package for managing data.\n* Matplotlib. The leading graphics package and our focus in this notebook."
    }, 
    {
      "cell_type": "markdown", 
      "metadata": {}, 
      "source": "All of these packages come with the Anaconda distribution, which means we already have them installed and ready to use."
    }, 
    {
      "cell_type": "markdown", 
      "metadata": {}, 
      "source": "matplotlib is a python 2D plotting library which, according to its developers, \"produces publication quality figures in a variety of hardcopy formats and interactive environments across platforms\". You can generate plots, histograms, power spectra, bar charts, error charts, scatterplots, etc, with just a few lines of code. Perhaps the best way to get a sense for its capabilities is to look at the [screenshots](http://matplotlib.org/users/screenshots.html), [thumbnails](http://matplotlib.org/gallery.html), and [samples](http://matplotlib.org/examples/index.html) provided at the matplotlib website"
    }, 
    {
      "cell_type": "markdown", 
      "metadata": {}, 
      "source": "### Overview. \nIn this notebook, we'll introduce matplotlib, the Python package devoted to 2D visualizations. Typically, we'll use use Pandas to read spreadsheet data into Python, perform some form of processing, and then visualize the results in matplotlib."
    }, 
    {
      "cell_type": "markdown", 
      "metadata": {}, 
      "source": "### Reminders"
    }, 
    {
      "cell_type": "markdown", 
      "metadata": {}, 
      "source": "**Objects and methods**. Recall that we apply the method *justdoit* to the object *x* with *x.justdoit*."
    }, 
    {
      "cell_type": "markdown", 
      "metadata": {}, 
      "source": "**Help**. We can get help in the Jupyter console. For the hypothetical *x.justdoit*, we would type \n*x.justdoit?* in the Jupyter console."
    }, 
    {
      "cell_type": "markdown", 
      "metadata": {}, 
      "source": "**Data structures**. That's the term we use for specific organizations of data. Examples are lists, tuples, and dictionaries. Each has a specific structure and a set of methods that can be applied. Lists are (ordered) collections of objects between square brackets: *numberlist = [1, -5, 2]*. Dictionaries are (unordered) pairs of items between curly brackets: *namedict = {'Brady': 12, 'Gronk': 87}*. The first item in each pair is the \"key,\" the second is the \"value.\"\""
    }, 
    {
      "cell_type": "markdown", 
      "metadata": {}, 
      "source": "**Integers, floats, and strings.** Three common types of data."
    }, 
    {
      "cell_type": "markdown", 
      "metadata": {}, 
      "source": "**Function returns** We refer to the output of a function as its return. We would say, for example, that the function type(x) returns the type of the input object x. We capture the return with an assignment: *xtype = type(x)*."
    }, 
    {
      "cell_type": "markdown", 
      "metadata": {}, 
      "source": "## Importing the libraries that we'll use"
    }, 
    {
      "cell_type": "code", 
      "execution_count": 1, 
      "metadata": {}, 
      "outputs": [], 
      "source": "# Our standard set of imports for pandas, numpy and matplotlib\nimport pandas as pd\nimport numpy as np\nimport matplotlib as mpl\nimport matplotlib.pyplot as plt\nimport datetime as dt\n\n# in addition, it will be useful in general if we keep our plots \"inline\" within the notebook\n%matplotlib inline"
    }, 
    {
      "cell_type": "markdown", 
      "metadata": {}, 
      "source": "## Creating Our Sample DataFrame"
    }, 
    {
      "cell_type": "markdown", 
      "metadata": {}, 
      "source": "A DataFrame in pandas is a tabular representation of data. You can sort of think of it as being the equivalent to a worksheet in Microsoft Excel. As always, the easiest way to get a handle on this is to actually grab some data."
    }, 
    {
      "cell_type": "markdown", 
      "metadata": {}, 
      "source": "Now, let's write a little python to read a file in and create a DataFrame. We'll use the same *iris* data that we used with the DataFrame notebook."
    }, 
    {
      "cell_type": "code", 
      "execution_count": 2, 
      "metadata": {}, 
      "outputs": [
        {
          "data": {
            "text/plain": "   Sepal_Length  Sepal_Width  Petal_Length  Petal_Width        Class\n0           5.1          3.5           1.4          0.2  Iris-setosa\n1           4.9          3.0           1.4          0.2  Iris-setosa\n2           4.7          3.2           1.3          0.2  Iris-setosa\n3           4.6          3.1           1.5          0.2  Iris-setosa\n4           5.0          3.6           1.4          0.2  Iris-setosa\n5           5.4          3.9           1.7          0.4  Iris-setosa\n6           4.6          3.4           1.4          0.3  Iris-setosa\n7           5.0          3.4           1.5          0.2  Iris-setosa\n8           4.4          2.9           1.4          0.2  Iris-setosa\n9           4.9          3.1           1.5          0.1  Iris-setosa"
          }, 
          "execution_count": 2, 
          "metadata": {}, 
          "output_type": "execute_result"
        }
      ], 
      "source": "# Let's import the pandas library\nimport pandas as pd\n\n# Let's set up a URL to the file, which in this case is hosted on github\nbase_url = 'https://raw.githubusercontent.com/johnjfox/Analytic_Enterprise/master/data/'\ndata_url = 'iris/iris.data.csv'\nurl = base_url + data_url\n\n# Now let's read the file\ndf = pd.read_csv(url)\n\n# just for simplicity, I'm going to drop the ID column\ndf = df.drop(['ID'], axis=1)\n\n# Finally, let's print the first few lines\nprint df.head(10)"
    }, 
    {
      "cell_type": "markdown", 
      "metadata": {}, 
      "source": "## Basic Plotting Using The Built-In Methods on DataFrames"
    }, 
    {
      "cell_type": "markdown", 
      "metadata": {}, 
      "source": "Let's start off with the absolutely simplest possible plot"
    }, 
    {
      "cell_type": "code", 
      "execution_count": 3, 
      "metadata": {}, 
      "outputs": [], 
      "source": "ax = df.plot();\nax.set_title('TITLE')\nax.set_xlabel('XLABEL')\nax.set_ylabel('YLABEL')"
    }, 
    {
      "cell_type": "markdown", 
      "metadata": {}, 
      "source": "### Plotting a Single Line"
    }, 
    {
      "cell_type": "code", 
      "execution_count": 4, 
      "metadata": {}, 
      "outputs": [], 
      "source": "df['Petal_Width'].plot();"
    }, 
    {
      "cell_type": "markdown", 
      "metadata": {}, 
      "source": "### Plotting Multiple Lines"
    }, 
    {
      "cell_type": "code", 
      "execution_count": 5, 
      "metadata": {}, 
      "outputs": [], 
      "source": "df[['Petal_Width', 'Petal_Length']].plot();"
    }, 
    {
      "cell_type": "markdown", 
      "metadata": {}, 
      "source": "### Plotting Other Types of Graphs"
    }, 
    {
      "cell_type": "markdown", 
      "metadata": {}, 
      "source": "**Bar Plots**"
    }, 
    {
      "cell_type": "code", 
      "execution_count": 6, 
      "metadata": {}, 
      "outputs": [], 
      "source": "df['Petal_Length'].plot.bar();"
    }, 
    {
      "cell_type": "code", 
      "execution_count": 7, 
      "metadata": {}, 
      "outputs": [], 
      "source": "df['Petal_Length'].plot(kind='bar');"
    }, 
    {
      "cell_type": "markdown", 
      "metadata": {}, 
      "source": "**Scatter Plots**"
    }, 
    {
      "cell_type": "code", 
      "execution_count": 8, 
      "metadata": {}, 
      "outputs": [], 
      "source": "df.plot.scatter('Petal_Length', 'Petal_Width', figsize=(8,8));"
    }, 
    {
      "cell_type": "code", 
      "execution_count": 9, 
      "metadata": {}, 
      "outputs": [], 
      "source": "df.plot(kind='area', subplots=True, sharey='True', figsize=(10,10), xlim=(0,80));"
    }, 
    {
      "cell_type": "markdown", 
      "metadata": {}, 
      "source": "### Using the pyplot module"
    }, 
    {
      "cell_type": "code", 
      "execution_count": 10, 
      "metadata": {}, 
      "outputs": [], 
      "source": "df.plot(kind='scatter', x='Sepal_Length', y='Sepal_Width');"
    }, 
    {
      "cell_type": "markdown", 
      "metadata": {}, 
      "source": "**Scatter Matrix Plot**"
    }, 
    {
      "cell_type": "code", 
      "execution_count": 11, 
      "metadata": {}, 
      "outputs": [], 
      "source": "from pandas.tools.plotting import scatter_matrix\nscatter_matrix(df, alpha=0.2,s=100,figsize=(15,15), diagonal='kde');"
    }, 
    {
      "cell_type": "code", 
      "execution_count": 12, 
      "metadata": {}, 
      "outputs": [], 
      "source": "df.plot.hist(bins=20, subplots=True, alpha=0.5, figsize=(10,10));"
    }, 
    {
      "cell_type": "code", 
      "execution_count": 13, 
      "metadata": {}, 
      "outputs": [], 
      "source": "df.plot.hist(bins=20, stacked=True, alpha=0.5, figsize=(10,7));"
    }, 
    {
      "cell_type": "code", 
      "execution_count": 14, 
      "metadata": {}, 
      "outputs": [], 
      "source": "from pandas.tools.plotting import parallel_coordinates\nplt.figure(figsize=(10,10))\nparallel_coordinates(df, 'Class', colormap='gist_rainbow');"
    }, 
    {
      "cell_type": "code", 
      "execution_count": 15, 
      "metadata": {}, 
      "outputs": [], 
      "source": "from pandas.tools.plotting import andrews_curves\nplt.figure(figsize=(10,10))\nandrews_curves(df, 'Class', colormap='winter');"
    }, 
    {
      "cell_type": "code", 
      "execution_count": 16, 
      "metadata": {}, 
      "outputs": [], 
      "source": "import seaborn as sns\nsns.distplot(df.Petal_Width, rug=True, bins=10);"
    }, 
    {
      "cell_type": "markdown", 
      "metadata": {}, 
      "source": "### Plotting Categorical Data"
    }, 
    {
      "cell_type": "code", 
      "execution_count": 17, 
      "metadata": {}, 
      "outputs": [], 
      "source": "sns.stripplot(x=\"Class\", y=\"Petal_Width\", data=df);"
    }, 
    {
      "cell_type": "code", 
      "execution_count": 18, 
      "metadata": {}, 
      "outputs": [], 
      "source": "sns.stripplot(x=\"Class\", y=\"Petal_Width\", data=df, jitter= True);"
    }, 
    {
      "cell_type": "code", 
      "execution_count": 19, 
      "metadata": {}, 
      "outputs": [], 
      "source": "df_melt = pd.melt(df,'Class', var_name='measurement')\nplt.figure(figsize=(10,8))\nsns.stripplot(x='measurement', y='value', hue='Class', data=df_melt, jitter= True);"
    }, 
    {
      "cell_type": "code", 
      "execution_count": 20, 
      "metadata": {}, 
      "outputs": [], 
      "source": "df_melt = pd.melt(df,'Class', var_name='measurement')\nplt.figure(figsize=(10,10))\nsns.factorplot(x='measurement', y='value', hue=\"Class\", data=df_melt, kind=\"bar\");"
    }, 
    {
      "cell_type": "code", 
      "execution_count": 21, 
      "metadata": {}, 
      "outputs": [], 
      "source": "df_melt = pd.melt(df,'Class', var_name='measurement')\nplt.figure(figsize=(12,8))\nsns.swarmplot(x='measurement', y='value', hue='Class', data=df_melt);"
    }, 
    {
      "cell_type": "code", 
      "execution_count": 22, 
      "metadata": {}, 
      "outputs": [], 
      "source": "sns.pairplot(df, hue='Class');"
    }, 
    {
      "cell_type": "markdown", 
      "metadata": {}, 
      "source": "### Using styles"
    }, 
    {
      "cell_type": "code", 
      "execution_count": 23, 
      "metadata": {}, 
      "outputs": [
        {
          "data": {
            "text/plain": "[u'seaborn-darkgrid',\n u'seaborn-notebook',\n u'classic',\n u'seaborn-ticks',\n u'grayscale',\n u'bmh',\n u'seaborn-talk',\n u'dark_background',\n u'ggplot',\n u'fivethirtyeight',\n u'seaborn-colorblind',\n u'seaborn-deep',\n u'seaborn-whitegrid',\n u'seaborn-bright',\n u'seaborn-poster',\n u'seaborn-muted',\n u'seaborn-paper',\n u'seaborn-white',\n u'seaborn-pastel',\n u'seaborn-dark',\n u'seaborn-dark-palette']"
          }, 
          "execution_count": 23, 
          "metadata": {}, 
          "output_type": "execute_result"
        }
      ], 
      "source": "plt.style.available"
    }, 
    {
      "cell_type": "code", 
      "execution_count": 24, 
      "metadata": {}, 
      "outputs": [], 
      "source": "with plt.style.context(('ggplot')):\n    df.plot(kind='kde', subplots=True, figsize=(10,10));"
    }, 
    {
      "cell_type": "markdown", 
      "metadata": {}, 
      "source": "### Box Plots"
    }, 
    {
      "cell_type": "code", 
      "execution_count": 25, 
      "metadata": {}, 
      "outputs": [], 
      "source": "df.boxplot(return_type='axes');"
    }, 
    {
      "cell_type": "code", 
      "execution_count": 26, 
      "metadata": {}, 
      "outputs": [], 
      "source": "df.boxplot(return_type='axes',\n           by='Class',\n           figsize=(10,10));"
    }, 
    {
      "cell_type": "code", 
      "execution_count": 27, 
      "metadata": {}, 
      "outputs": [], 
      "source": ""
    }, 
    {
      "cell_type": "markdown", 
      "metadata": {}, 
      "source": "### Regression Plots Functions"
    }, 
    {
      "cell_type": "markdown", 
      "metadata": {}, 
      "source": "### An Alternative Approach"
    }, 
    {
      "cell_type": "code", 
      "execution_count": 28, 
      "metadata": {}, 
      "outputs": [], 
      "source": ""
    }, 
    {
      "cell_type": "code", 
      "execution_count": 29, 
      "metadata": {}, 
      "outputs": [], 
      "source": "fig, ax = plt.subplots()\n\nus.plot(ax=ax)\nax.set_title('US GDP and Consumption', fontsize=14, loc='left')\nax.set_ylabel('Billions of 2013 USD')\nax.legend(['GDP', 'Consumption'])           # more descriptive variable names\nax.set_xlim(2002.5, 2013.5)                 # shrink x axis limits\nax.tick_params(labelcolor='red')            # change tick labels to red"
    }
  ], 
  "metadata": {}, 
  "nbformat": 4, 
  "nbformat_minor": 0
}