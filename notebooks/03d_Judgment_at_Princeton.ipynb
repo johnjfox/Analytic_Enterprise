{
 "cells": [
  {
   "cell_type": "code",
   "execution_count": 1,
   "metadata": {},
   "outputs": [],
   "source": [
    "%matplotlib inline"
   ]
  },
  {
   "cell_type": "code",
   "execution_count": 2,
   "metadata": {},
   "outputs": [],
   "source": [
    "# Our standard set of imports for pandas, numpy and matplotlib\n",
    "import pandas as pd\n",
    "import numpy as np\n",
    "import matplotlib as mpl\n",
    "import matplotlib.pyplot as plt\n",
    "import seaborn as sns\n",
    "import scipy.stats as stats\n",
    "\n",
    "from math import sqrt\n",
    "\n",
    "# some imports to handle HTML requests and parsing the results\n",
    "from StringIO import StringIO\n",
    "import requests\n",
    "\n",
    "mpl.style.use('fivethirtyeight')"
   ]
  },
  {
   "cell_type": "code",
   "execution_count": 3,
   "metadata": {},
   "outputs": [
    {
     "data": {
      "text/html": [
       "<div>\n",
       "<table border=\"1\" class=\"dataframe\">\n",
       "  <thead>\n",
       "    <tr style=\"text-align: right;\">\n",
       "      <th></th>\n",
       "      <th>Judge</th>\n",
       "      <th>Wine</th>\n",
       "      <th>Variety</th>\n",
       "      <th>Rating</th>\n",
       "    </tr>\n",
       "  </thead>\n",
       "  <tbody>\n",
       "    <tr>\n",
       "      <th>38</th>\n",
       "      <td>John Foy</td>\n",
       "      <td>C</td>\n",
       "      <td>White</td>\n",
       "      <td>16.0</td>\n",
       "    </tr>\n",
       "    <tr>\n",
       "      <th>52</th>\n",
       "      <td>Jamal Rayyis</td>\n",
       "      <td>M</td>\n",
       "      <td>Red</td>\n",
       "      <td>14.0</td>\n",
       "    </tr>\n",
       "    <tr>\n",
       "      <th>61</th>\n",
       "      <td>Jamal Rayyis</td>\n",
       "      <td>D</td>\n",
       "      <td>White</td>\n",
       "      <td>17.5</td>\n",
       "    </tr>\n",
       "    <tr>\n",
       "      <th>10</th>\n",
       "      <td>Tyler Colman</td>\n",
       "      <td>K</td>\n",
       "      <td>Red</td>\n",
       "      <td>14.0</td>\n",
       "    </tr>\n",
       "    <tr>\n",
       "      <th>1</th>\n",
       "      <td>Tyler Colman</td>\n",
       "      <td>A</td>\n",
       "      <td>White</td>\n",
       "      <td>16.0</td>\n",
       "    </tr>\n",
       "  </tbody>\n",
       "</table>\n",
       "</div>"
      ],
      "text/plain": [
       "           Judge Wine Variety  Rating\n",
       "38      John Foy    C   White    16.0\n",
       "52  Jamal Rayyis    M     Red    14.0\n",
       "61  Jamal Rayyis    D   White    17.5\n",
       "10  Tyler Colman    K     Red    14.0\n",
       "1   Tyler Colman    A   White    16.0"
      ]
     },
     "execution_count": 3,
     "metadata": {},
     "output_type": "execute_result"
    }
   ],
   "source": [
    "# Let's import the pandas library\n",
    "import pandas as pd\n",
    "\n",
    "# Let's set up a URL to the file, which in this case is hosted on Github\n",
    "base_url = 'https://raw.githubusercontent.com/johnjfox/Analytic_Enterprise/master/data/'\n",
    "score_data = 'judgment/scores.csv'\n",
    "wine_data  = 'judgment/wines.csv'\n",
    "\n",
    "# Now let's read the file\n",
    "scores = pd.read_csv(base_url + score_data)\n",
    "wines = pd.read_csv(base_url + wine_data)\n",
    "\n",
    "# Finally, let's print the first few lines\n",
    "scores.sample(5)"
   ]
  },
  {
   "cell_type": "code",
   "execution_count": 4,
   "metadata": {},
   "outputs": [
    {
     "data": {
      "text/html": [
       "<div>\n",
       "<table border=\"1\" class=\"dataframe\">\n",
       "  <thead>\n",
       "    <tr style=\"text-align: right;\">\n",
       "      <th></th>\n",
       "      <th>Wine</th>\n",
       "      <th>Type/Vineyard</th>\n",
       "      <th>Year</th>\n",
       "      <th>Location</th>\n",
       "      <th>Variety</th>\n",
       "    </tr>\n",
       "  </thead>\n",
       "  <tbody>\n",
       "    <tr>\n",
       "      <th>8</th>\n",
       "      <td>I</td>\n",
       "      <td>Amalthea Cellars Europa VI Chardonnay</td>\n",
       "      <td>2008</td>\n",
       "      <td>New Jersey</td>\n",
       "      <td>White</td>\n",
       "    </tr>\n",
       "    <tr>\n",
       "      <th>6</th>\n",
       "      <td>G</td>\n",
       "      <td>Ventimiglia Chardonnay</td>\n",
       "      <td>2010</td>\n",
       "      <td>New Jersey</td>\n",
       "      <td>White</td>\n",
       "    </tr>\n",
       "    <tr>\n",
       "      <th>15</th>\n",
       "      <td>P</td>\n",
       "      <td>Tomasello Winery Oak Reserve Cabernet Sauvignon</td>\n",
       "      <td>2007</td>\n",
       "      <td>New Jersey</td>\n",
       "      <td>Red</td>\n",
       "    </tr>\n",
       "    <tr>\n",
       "      <th>12</th>\n",
       "      <td>M</td>\n",
       "      <td>Silver Decoy Winery Cabernet Franc</td>\n",
       "      <td>2008</td>\n",
       "      <td>New Jersey</td>\n",
       "      <td>Red</td>\n",
       "    </tr>\n",
       "    <tr>\n",
       "      <th>7</th>\n",
       "      <td>H</td>\n",
       "      <td>Domaine Jean Latour-Labille Meursault-Charmes ...</td>\n",
       "      <td>2008</td>\n",
       "      <td>France</td>\n",
       "      <td>White</td>\n",
       "    </tr>\n",
       "  </tbody>\n",
       "</table>\n",
       "</div>"
      ],
      "text/plain": [
       "   Wine                                      Type/Vineyard  Year    Location  \\\n",
       "8     I              Amalthea Cellars Europa VI Chardonnay  2008  New Jersey   \n",
       "6     G                             Ventimiglia Chardonnay  2010  New Jersey   \n",
       "15    P    Tomasello Winery Oak Reserve Cabernet Sauvignon  2007  New Jersey   \n",
       "12    M                 Silver Decoy Winery Cabernet Franc  2008  New Jersey   \n",
       "7     H  Domaine Jean Latour-Labille Meursault-Charmes ...  2008      France   \n",
       "\n",
       "   Variety  \n",
       "8    White  \n",
       "6    White  \n",
       "15     Red  \n",
       "12     Red  \n",
       "7    White  "
      ]
     },
     "execution_count": 4,
     "metadata": {},
     "output_type": "execute_result"
    }
   ],
   "source": [
    "wines.sample(5)"
   ]
  },
  {
   "cell_type": "markdown",
   "metadata": {},
   "source": [
    "### What's Our Plan?"
   ]
  },
  {
   "cell_type": "markdown",
   "metadata": {},
   "source": [
    "### Where Do We Start?"
   ]
  },
  {
   "cell_type": "markdown",
   "metadata": {},
   "source": [
    "### Let's Start With Some Wrangling"
   ]
  },
  {
   "cell_type": "code",
   "execution_count": 5,
   "metadata": {},
   "outputs": [
    {
     "data": {
      "text/html": [
       "<div>\n",
       "<table border=\"1\" class=\"dataframe\">\n",
       "  <thead>\n",
       "    <tr style=\"text-align: right;\">\n",
       "      <th></th>\n",
       "      <th>Judge</th>\n",
       "      <th>Wine</th>\n",
       "      <th>Variety_x</th>\n",
       "      <th>Rating</th>\n",
       "      <th>Type/Vineyard</th>\n",
       "      <th>Year</th>\n",
       "      <th>Location</th>\n",
       "      <th>Variety_y</th>\n",
       "    </tr>\n",
       "  </thead>\n",
       "  <tbody>\n",
       "    <tr>\n",
       "      <th>45</th>\n",
       "      <td>Jean-Marie Cardebat</td>\n",
       "      <td>M</td>\n",
       "      <td>Red</td>\n",
       "      <td>12</td>\n",
       "      <td>Silver Decoy Winery Cabernet Franc</td>\n",
       "      <td>2008</td>\n",
       "      <td>New Jersey</td>\n",
       "      <td>Red</td>\n",
       "    </tr>\n",
       "    <tr>\n",
       "      <th>51</th>\n",
       "      <td>Daniele Meulders</td>\n",
       "      <td>M</td>\n",
       "      <td>Red</td>\n",
       "      <td>11</td>\n",
       "      <td>Silver Decoy Winery Cabernet Franc</td>\n",
       "      <td>2008</td>\n",
       "      <td>New Jersey</td>\n",
       "      <td>Red</td>\n",
       "    </tr>\n",
       "    <tr>\n",
       "      <th>80</th>\n",
       "      <td>Francis Schott</td>\n",
       "      <td>E</td>\n",
       "      <td>White</td>\n",
       "      <td>15</td>\n",
       "      <td>Silver Decoy Winery Black Feather Chardonnay</td>\n",
       "      <td>2010</td>\n",
       "      <td>New Jersey</td>\n",
       "      <td>White</td>\n",
       "    </tr>\n",
       "    <tr>\n",
       "      <th>16</th>\n",
       "      <td>Jamal Rayyis</td>\n",
       "      <td>K</td>\n",
       "      <td>Red</td>\n",
       "      <td>15</td>\n",
       "      <td>Chateau Montrose</td>\n",
       "      <td>2004</td>\n",
       "      <td>France</td>\n",
       "      <td>Red</td>\n",
       "    </tr>\n",
       "    <tr>\n",
       "      <th>157</th>\n",
       "      <td>Robert Hodgson</td>\n",
       "      <td>S</td>\n",
       "      <td>Red</td>\n",
       "      <td>8</td>\n",
       "      <td>Four JGs Vineyard Cabernet Franc</td>\n",
       "      <td>2008</td>\n",
       "      <td>New Jersey</td>\n",
       "      <td>Red</td>\n",
       "    </tr>\n",
       "  </tbody>\n",
       "</table>\n",
       "</div>"
      ],
      "text/plain": [
       "                   Judge Wine Variety_x  Rating  \\\n",
       "45   Jean-Marie Cardebat    M       Red      12   \n",
       "51      Daniele Meulders    M       Red      11   \n",
       "80        Francis Schott    E     White      15   \n",
       "16          Jamal Rayyis    K       Red      15   \n",
       "157       Robert Hodgson    S       Red       8   \n",
       "\n",
       "                                    Type/Vineyard  Year    Location Variety_y  \n",
       "45             Silver Decoy Winery Cabernet Franc  2008  New Jersey       Red  \n",
       "51             Silver Decoy Winery Cabernet Franc  2008  New Jersey       Red  \n",
       "80   Silver Decoy Winery Black Feather Chardonnay  2010  New Jersey     White  \n",
       "16                               Chateau Montrose  2004      France       Red  \n",
       "157              Four JGs Vineyard Cabernet Franc  2008  New Jersey       Red  "
      ]
     },
     "execution_count": 5,
     "metadata": {},
     "output_type": "execute_result"
    }
   ],
   "source": [
    "df = pd.merge(scores, wines, how='inner', on='Wine')\n",
    "df.sample(5)"
   ]
  },
  {
   "cell_type": "markdown",
   "metadata": {},
   "source": [
    "### Let's Do Some Quick Analyses"
   ]
  },
  {
   "cell_type": "code",
   "execution_count": 6,
   "metadata": {},
   "outputs": [
    {
     "data": {
      "text/html": [
       "<div>\n",
       "<table border=\"1\" class=\"dataframe\">\n",
       "  <thead>\n",
       "    <tr style=\"text-align: right;\">\n",
       "      <th>Variety_x</th>\n",
       "      <th>Red</th>\n",
       "      <th>White</th>\n",
       "    </tr>\n",
       "    <tr>\n",
       "      <th>Location</th>\n",
       "      <th></th>\n",
       "      <th></th>\n",
       "    </tr>\n",
       "  </thead>\n",
       "  <tbody>\n",
       "    <tr>\n",
       "      <th>France</th>\n",
       "      <td>14.972222</td>\n",
       "      <td>14.041667</td>\n",
       "    </tr>\n",
       "    <tr>\n",
       "      <th>New Jersey</th>\n",
       "      <td>13.712963</td>\n",
       "      <td>14.314815</td>\n",
       "    </tr>\n",
       "  </tbody>\n",
       "</table>\n",
       "</div>"
      ],
      "text/plain": [
       "Variety_x         Red      White\n",
       "Location                        \n",
       "France      14.972222  14.041667\n",
       "New Jersey  13.712963  14.314815"
      ]
     },
     "execution_count": 6,
     "metadata": {},
     "output_type": "execute_result"
    }
   ],
   "source": [
    "pivot = pd.pivot_table(df, index='Location', columns = 'Variety_x', values = 'Rating', aggfunc = 'mean')\n",
    "pivot"
   ]
  },
  {
   "cell_type": "code",
   "execution_count": 7,
   "metadata": {},
   "outputs": [
    {
     "data": {
      "text/html": [
       "<div>\n",
       "<table border=\"1\" class=\"dataframe\">\n",
       "  <thead>\n",
       "    <tr style=\"text-align: right;\">\n",
       "      <th></th>\n",
       "      <th>Wine</th>\n",
       "      <th>Variety</th>\n",
       "      <th>Location</th>\n",
       "      <th>Rating</th>\n",
       "    </tr>\n",
       "  </thead>\n",
       "  <tbody>\n",
       "    <tr>\n",
       "      <th>71</th>\n",
       "      <td>N</td>\n",
       "      <td>Red</td>\n",
       "      <td>New Jersey</td>\n",
       "      <td>15</td>\n",
       "    </tr>\n",
       "    <tr>\n",
       "      <th>68</th>\n",
       "      <td>N</td>\n",
       "      <td>Red</td>\n",
       "      <td>New Jersey</td>\n",
       "      <td>16</td>\n",
       "    </tr>\n",
       "    <tr>\n",
       "      <th>62</th>\n",
       "      <td>D</td>\n",
       "      <td>White</td>\n",
       "      <td>France</td>\n",
       "      <td>18</td>\n",
       "    </tr>\n",
       "    <tr>\n",
       "      <th>50</th>\n",
       "      <td>M</td>\n",
       "      <td>Red</td>\n",
       "      <td>New Jersey</td>\n",
       "      <td>17</td>\n",
       "    </tr>\n",
       "    <tr>\n",
       "      <th>143</th>\n",
       "      <td>R</td>\n",
       "      <td>Red</td>\n",
       "      <td>New Jersey</td>\n",
       "      <td>16</td>\n",
       "    </tr>\n",
       "  </tbody>\n",
       "</table>\n",
       "</div>"
      ],
      "text/plain": [
       "    Wine Variety    Location  Rating\n",
       "71     N     Red  New Jersey      15\n",
       "68     N     Red  New Jersey      16\n",
       "62     D   White      France      18\n",
       "50     M     Red  New Jersey      17\n",
       "143    R     Red  New Jersey      16"
      ]
     },
     "execution_count": 7,
     "metadata": {},
     "output_type": "execute_result"
    }
   ],
   "source": [
    "df_select = df[['Wine', 'Variety_x', 'Location','Rating']]\n",
    "df_select = df_select.rename(columns={'Variety_x': 'Variety'})\n",
    "df_select.sample(5)"
   ]
  },
  {
   "cell_type": "code",
   "execution_count": 8,
   "metadata": {},
   "outputs": [
    {
     "data": {
      "text/plain": [
       "<matplotlib.axes._subplots.AxesSubplot at 0x10eb25550>"
      ]
     },
     "execution_count": 8,
     "metadata": {},
     "output_type": "execute_result"
    },
    {
     "data": {
      "image/png": "[encoded data removed]",
      "text/plain": [
       "<matplotlib.figure.Figure at 0x10eb25cd0>"
      ]
     },
     "metadata": {},
     "output_type": "display_data"
    }
   ],
   "source": [
    "sns.boxplot(data=df_select, x='Rating', y='Variety', hue='Location', orient='h')"
   ]
  },
  {
   "cell_type": "markdown",
   "metadata": {},
   "source": [
    "## Hypothesis Tests"
   ]
  },
  {
   "cell_type": "code",
   "execution_count": 9,
   "metadata": {},
   "outputs": [],
   "source": [
    "# I can do Boolean indexing with multiple criteria, but look at what I need to do\n",
    "# I need to use the & to combine the tests (| would be an OR, ~ is a NOT)\n",
    "# I also need the parentheses to force the order of operations\n",
    "french_white = df_select[(df_select.Location=='France') & (df_select.Variety =='White')]\n",
    "french_red   = df_select[(df_select.Location=='France') & (df_select.Variety =='Red')]\n",
    "\n",
    "nj_white = df_select[(df_select.Location=='New Jersey') & (df_select.Variety =='White')]\n",
    "nj_red   = df_select[(df_select.Location=='New Jersey') & (df_select.Variety =='Red')]"
   ]
  },
  {
   "cell_type": "code",
   "execution_count": 10,
   "metadata": {},
   "outputs": [
    {
     "name": "stdout",
     "output_type": "stream",
     "text": [
      "TEST_STAT -0.506926443404\n",
      "PVALUE:  0.613586017009\n"
     ]
    }
   ],
   "source": [
    "test_stat, pvalue = stats.ttest_ind(french_white.Rating, nj_white.Rating, equal_var=False)\n",
    "\n",
    "print 'TEST_STAT', test_stat\n",
    "print 'PVALUE: ', pvalue"
   ]
  },
  {
   "cell_type": "code",
   "execution_count": 11,
   "metadata": {},
   "outputs": [
    {
     "name": "stdout",
     "output_type": "stream",
     "text": [
      "TEST_STAT 2.1849464097\n",
      "PVALUE:  0.0319606007853\n"
     ]
    }
   ],
   "source": [
    "test_stat, pvalue = stats.ttest_ind(french_red.Rating, nj_red.Rating, equal_var=False)\n",
    "\n",
    "print 'TEST_STAT', test_stat\n",
    "print 'PVALUE: ', pvalue"
   ]
  }
 ],
 "metadata": {},
 "nbformat": 4,
 "nbformat_minor": 0
}