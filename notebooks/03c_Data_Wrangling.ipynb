{
 "cells": [
  {
   "cell_type": "markdown",
   "metadata": {},
   "source": [
    "# Data Wrangling Fundamentals in Python"
   ]
  },
  {
   "cell_type": "markdown",
   "metadata": {},
   "source": [
    "<div class=\"alert alert-info\">\n",
    "This notebook is intended only to provide an overview of the capabilities of the pandas package. More complete documentation can be found at\n",
    "<ul>\n",
    "<li><a href=\"http://pandas.pydata.org/pandas-docs/stable/merging.html\">Pandas Data Merging</a></li>\n",
    "</ul>\n",
    "</div>"
   ]
  },
  {
   "cell_type": "markdown",
   "metadata": {},
   "source": [
    "<div class=\"alert alert-danger\">\n",
    "You'll need to have an internet connection for portions of this notebook.\n",
    "</div>"
   ]
  },
  {
   "cell_type": "markdown",
   "metadata": {},
   "source": [
    "## Introduction"
   ]
  },
  {
   "cell_type": "markdown",
   "metadata": {},
   "source": [
    "Data wrangling is a loosely defined process for manually converting or mapping data from one \"raw\" form into another format. The purpose of this wrangling is to recast the data into a format which either simplifies our processing chain or enables us to use tools which require a certain layout of the data. Typically data wrangling is one of the first steps in  the processing once we extract the data from the data source."
   ]
  },
  {
   "cell_type": "markdown",
   "metadata": {},
   "source": [
    "The process of wrangling can involve a broad variety of operations, such as sorting, filtering, or other operations. Many of these are covered elsewhere in our materials, so for the purposes of this chapter, we'll emphasize wrangling operations which involve reshaping data or combining multiple sets of data."
   ]
  },
  {
   "cell_type": "markdown",
   "metadata": {},
   "source": [
    "### Initialization of Notebook"
   ]
  },
  {
   "cell_type": "code",
   "execution_count": 1,
   "metadata": {},
   "outputs": [],
   "source": [
    "# Our standard set of imports for pandas, numpy and matplotlib\n",
    "import pandas as pd\n",
    "import numpy as np\n",
    "import matplotlib as mpl\n",
    "import matplotlib.pyplot as plt\n",
    "import seaborn as sns\n",
    "\n",
    "# in addition, it will be useful in general if we keep our plots \"inline\" within the notebook\n",
    "%matplotlib inline\n",
    "\n",
    "# finally, let's use a style that's a bit pretty than the default\n",
    "mpl.style.use('ggplot')"
   ]
  },
  {
   "cell_type": "markdown",
   "metadata": {},
   "source": [
    "## Reshaping Data"
   ]
  },
  {
   "cell_type": "markdown",
   "metadata": {},
   "source": [
    "The data that we have in the iris.data.csv file is what's called \"wide-format\" data, meaning that each line in the file contains a column for each variable. Wide-format data is almost certainly what you're most familiar with, since it's the format most commonly used to organize tabular data in Excel and, frankly, the notion of arranging all of the variable into a single row to represent a single observation feels pretty natural."
   ]
  },
  {
   "cell_type": "markdown",
   "metadata": {},
   "source": [
    "In contrast, \"long-format\" data has a column for possible variable types and a column for the values of those variables. If you're like most people, then that description is probably pretty hard to get a handle on. To be honest, you're not alone. Frankly, it's much easier to actually see what long-format data looks like than it is to describe it, so why don't we work through a simple example."
   ]
  },
  {
   "cell_type": "markdown",
   "metadata": {},
   "source": [
    "Before we get started, let's make sure that we have a copy of our favorite DataFrame, the iris data set and remind ourselves of the layout of the data."
   ]
  },
  {
   "cell_type": "code",
   "execution_count": 2,
   "metadata": {},
   "outputs": [
    {
     "name": "stdout",
     "output_type": "stream",
     "text": [
      "   ID  Sepal_Length  Sepal_Width  Petal_Length  Petal_Width        Class\n",
      "0   1           5.1          3.5           1.4          0.2  Iris-setosa\n",
      "1   2           4.9          3.0           1.4          0.2  Iris-setosa\n",
      "2   3           4.7          3.2           1.3          0.2  Iris-setosa\n",
      "3   4           4.6          3.1           1.5          0.2  Iris-setosa\n",
      "4   5           5.0          3.6           1.4          0.2  Iris-setosa\n",
      "5   6           5.4          3.9           1.7          0.4  Iris-setosa\n",
      "6   7           4.6          3.4           1.4          0.3  Iris-setosa\n",
      "7   8           5.0          3.4           1.5          0.2  Iris-setosa\n",
      "8   9           4.4          2.9           1.4          0.2  Iris-setosa\n",
      "9  10           4.9          3.1           1.5          0.1  Iris-setosa\n"
     ]
    }
   ],
   "source": [
    "# Let's set up a URL to the file, which in this case is hosted on github\n",
    "base_url = 'https://raw.githubusercontent.com/johnjfox/Analytic_Enterprise/master/data/'\n",
    "data_url = 'iris/iris.data.csv'\n",
    "url = base_url + data_url\n",
    "\n",
    "# Now let's read the file\n",
    "df = pd.read_csv(url)\n",
    "\n",
    "# Finally, let's print the first few lines\n",
    "print df.head(10)"
   ]
  },
  {
   "cell_type": "markdown",
   "metadata": {},
   "source": [
    "As you can see (and probably remember), each row has **all** of the data associated with our measurements for any one of the irises. Now, let's look at what happens if we convert this to long-format. In python, we do this using the *melt()* method."
   ]
  },
  {
   "cell_type": "code",
   "execution_count": 3,
   "metadata": {},
   "outputs": [
    {
     "name": "stdout",
     "output_type": "stream",
     "text": [
      "         Class   measurement  value\n",
      "0  Iris-setosa  Sepal_Length    5.1\n",
      "1  Iris-setosa  Sepal_Length    4.9\n",
      "2  Iris-setosa  Sepal_Length    4.7\n",
      "3  Iris-setosa  Sepal_Length    4.6\n",
      "4  Iris-setosa  Sepal_Length    5.0\n",
      "5  Iris-setosa  Sepal_Length    5.4\n",
      "6  Iris-setosa  Sepal_Length    4.6\n",
      "7  Iris-setosa  Sepal_Length    5.0\n",
      "8  Iris-setosa  Sepal_Length    4.4\n",
      "9  Iris-setosa  Sepal_Length    4.9\n"
     ]
    }
   ],
   "source": [
    "# first, let's drop the ID column\n",
    "df_noID = df.drop(['ID'],axis=1)\n",
    "\n",
    "df_melt = pd.melt(df_noID,'Class', var_name='measurement')\n",
    "print df_melt.head(10)"
   ]
  },
  {
   "cell_type": "markdown",
   "metadata": {},
   "source": [
    "So, what just happened there? First, we dropped the ID variable. You'll probably be able to tell why in a moment, but just trust me on this for now. The more interesting operation was the *melt()*. The process of \"melting\" the original DataFrame essentially pulled apart the data and created a new representation. After the melt, we have a format where one or more columns are identifier variables (in this case the contents of the \"Class\" variable). The only other columns in the new DataFrame are columns containing “variable names” and “values”. If you're familiar with MS Excel pivot tables, this might feel like we did the inverse of a pivot table operation.  In this representation, each of the values in the table now appears on a separate row, whereas before all of the related variable were collected into a"
   ]
  },
  {
   "cell_type": "markdown",
   "metadata": {},
   "source": [
    "So, why did we do this? First off, we'll often receive data in a format that doesn't lend itself to analysis. This can happen in a lot of ways, for instance:"
   ]
  },
  {
   "cell_type": "markdown",
   "metadata": {},
   "source": [
    "* Column headers are values, not variable names.\n",
    "* Multiple variables are stored in one column.\n",
    "* Variables are stored in both rows and columns.\n",
    "* Multiple types of observational units are stored in the same table.   \n",
    "* A single observational unit is stored in multiple tables."
   ]
  },
  {
   "cell_type": "markdown",
   "metadata": {},
   "source": [
    "Melting the data is often the first step in reshaping the data into a format that is more amenable to analysis. Either we'll melt the data as an end unto itself, or we might use some of the other pandas operations (e.g. pivot or groupby) to reshape into a different form."
   ]
  },
  {
   "cell_type": "markdown",
   "metadata": {},
   "source": [
    "#### Wide-format versus long-format representations"
   ]
  },
  {
   "cell_type": "markdown",
   "metadata": {},
   "source": [
    "So what kinds of analyses are particularly appropriate for wide format data. Well, as it turns out, most of the analyses that we've seen to this point work quite well with wide-format data. For instance, if we want to perform any form of visual or descriptive analysis of a single variable, wide-format data is extremely convenient since we have convenience methods that allow us to extract the data. For instance:"
   ]
  },
  {
   "cell_type": "code",
   "execution_count": 4,
   "metadata": {},
   "outputs": [
    {
     "name": "stdout",
     "output_type": "stream",
     "text": [
      "\n",
      "\n",
      "MEAN =  count    150.000000\n",
      "mean       1.198667\n",
      "std        0.763161\n",
      "min        0.100000\n",
      "25%        0.300000\n",
      "50%        1.300000\n",
      "75%        1.800000\n",
      "max        2.500000\n",
      "Name: Petal_Width, dtype: float64\n",
      "\n",
      "\n",
      "===============================\n",
      "\n",
      "\n"
     ]
    },
    {
     "data": {
      "image/png": "[encoded data removed]",
      "text/plain": [
       "<matplotlib.figure.Figure at 0x105cf9210>"
      ]
     },
     "metadata": {},
     "output_type": "display_data"
    }
   ],
   "source": [
    "print \"\\n\\nMEAN = \", df.Petal_Width.describe()\n",
    "\n",
    "print \"\\n\\n===============================\\n\\n\"\n",
    "\n",
    "fig, axes = plt.subplots(nrows=1, ncols=1, sharex=True, figsize=(6,4.5))\n",
    "\n",
    "sns.distplot(df.Petal_Width, rug=True, bins=10);"
   ]
  },
  {
   "cell_type": "markdown",
   "metadata": {},
   "source": [
    "Similarly, having columns representing distinct variables, all of which are taken from the same observation, makes it very easy to compare or manipulate those variables. For instance, we can easily create a scatter plot or measure the correlation of the variables:"
   ]
  },
  {
   "cell_type": "code",
   "execution_count": 5,
   "metadata": {},
   "outputs": [
    {
     "data": {
      "image/png": "[encoded data removed]",
      "text/plain": [
       "<matplotlib.figure.Figure at 0x112254a10>"
      ]
     },
     "metadata": {},
     "output_type": "display_data"
    }
   ],
   "source": [
    "df.plot.scatter('Petal_Width', 'Petal_Length', figsize=(6,4.5));"
   ]
  },
  {
   "cell_type": "code",
   "execution_count": 6,
   "metadata": {},
   "outputs": [
    {
     "data": {
      "text/html": [
       "<div>\n",
       "<table border=\"1\" class=\"dataframe\">\n",
       "  <thead>\n",
       "    <tr style=\"text-align: right;\">\n",
       "      <th></th>\n",
       "      <th>ID</th>\n",
       "      <th>Sepal_Length</th>\n",
       "      <th>Sepal_Width</th>\n",
       "      <th>Petal_Length</th>\n",
       "      <th>Petal_Width</th>\n",
       "    </tr>\n",
       "  </thead>\n",
       "  <tbody>\n",
       "    <tr>\n",
       "      <th>ID</th>\n",
       "      <td>1.000000</td>\n",
       "      <td>0.716676</td>\n",
       "      <td>-0.397729</td>\n",
       "      <td>0.882747</td>\n",
       "      <td>0.899759</td>\n",
       "    </tr>\n",
       "    <tr>\n",
       "      <th>Sepal_Length</th>\n",
       "      <td>0.716676</td>\n",
       "      <td>1.000000</td>\n",
       "      <td>-0.109369</td>\n",
       "      <td>0.871754</td>\n",
       "      <td>0.817954</td>\n",
       "    </tr>\n",
       "    <tr>\n",
       "      <th>Sepal_Width</th>\n",
       "      <td>-0.397729</td>\n",
       "      <td>-0.109369</td>\n",
       "      <td>1.000000</td>\n",
       "      <td>-0.420516</td>\n",
       "      <td>-0.356544</td>\n",
       "    </tr>\n",
       "    <tr>\n",
       "      <th>Petal_Length</th>\n",
       "      <td>0.882747</td>\n",
       "      <td>0.871754</td>\n",
       "      <td>-0.420516</td>\n",
       "      <td>1.000000</td>\n",
       "      <td>0.962757</td>\n",
       "    </tr>\n",
       "    <tr>\n",
       "      <th>Petal_Width</th>\n",
       "      <td>0.899759</td>\n",
       "      <td>0.817954</td>\n",
       "      <td>-0.356544</td>\n",
       "      <td>0.962757</td>\n",
       "      <td>1.000000</td>\n",
       "    </tr>\n",
       "  </tbody>\n",
       "</table>\n",
       "</div>"
      ],
      "text/plain": [
       "                    ID  Sepal_Length  Sepal_Width  Petal_Length  Petal_Width\n",
       "ID            1.000000      0.716676    -0.397729      0.882747     0.899759\n",
       "Sepal_Length  0.716676      1.000000    -0.109369      0.871754     0.817954\n",
       "Sepal_Width  -0.397729     -0.109369     1.000000     -0.420516    -0.356544\n",
       "Petal_Length  0.882747      0.871754    -0.420516      1.000000     0.962757\n",
       "Petal_Width   0.899759      0.817954    -0.356544      0.962757     1.000000"
      ]
     },
     "execution_count": 6,
     "metadata": {},
     "output_type": "execute_result"
    }
   ],
   "source": [
    "# the pairwise correlation of each variable in the table\n",
    "df.corr()"
   ]
  },
  {
   "cell_type": "markdown",
   "metadata": {},
   "source": [
    "Now, consider this application of using the melted data. Notice one thing that happened as a result of the *melt()*: The variable names are now being treated as categorical variables in the new DataFrame. This can be exceptionally useful for exploratory analysis where we'd like to get a holistic view of all of the data in a single plot. For instance, consider a stripplot of all of the iris data as shown below;"
   ]
  },
  {
   "cell_type": "markdown",
   "metadata": {},
   "source": [
    "Long-format data isn’t necessarily only two columns. For example, we might have ozone measurements for each day of the year. In that case, we could have another column for day. In other words, there are different levels of “longness”. The ultimate shape you want to get your data into will depend on what you are doing with it."
   ]
  },
  {
   "cell_type": "markdown",
   "metadata": {},
   "source": [
    "It turns out that you need wide-format data for some types of data analysis and long-format data for others. In reality, you need long-format data much more commonly than wide-format data."
   ]
  },
  {
   "cell_type": "markdown",
   "metadata": {},
   "source": [
    "Here, the process of melting the iris data has ended up with a DataFrame where we can use the original variable names to partition the measurements. By using the categorical identifier variable (\"Class\") to determine the hue of each datapoint, we can easily see that the Petal_Length and Petal_Width are separable for one of the classes of irises."
   ]
  },
  {
   "cell_type": "code",
   "execution_count": 7,
   "metadata": {},
   "outputs": [
    {
     "data": {
      "image/png": "[encoded data removed]",
      "text/plain": [
       "<matplotlib.figure.Figure at 0x115a43090>"
      ]
     },
     "metadata": {},
     "output_type": "display_data"
    }
   ],
   "source": [
    "plt.figure(figsize=(6,6))\n",
    "sns.stripplot(y='value', x='measurement', hue='Class', data=df_melt, jitter= True);"
   ]
  },
  {
   "cell_type": "markdown",
   "metadata": {},
   "source": [
    "## Data Merging"
   ]
  },
  {
   "cell_type": "markdown",
   "metadata": {},
   "source": [
    "We already saw how to"
   ]
  },
  {
   "cell_type": "markdown",
   "metadata": {},
   "source": [
    "Let's recall the contents of our original wide-format DataFrame:"
   ]
  },
  {
   "cell_type": "code",
   "execution_count": 8,
   "metadata": {},
   "outputs": [
    {
     "data": {
      "text/html": [
       "<div>\n",
       "<table border=\"1\" class=\"dataframe\">\n",
       "  <thead>\n",
       "    <tr style=\"text-align: right;\">\n",
       "      <th></th>\n",
       "      <th>ID</th>\n",
       "      <th>Sepal_Length</th>\n",
       "      <th>Sepal_Width</th>\n",
       "      <th>Petal_Length</th>\n",
       "      <th>Petal_Width</th>\n",
       "      <th>Class</th>\n",
       "    </tr>\n",
       "  </thead>\n",
       "  <tbody>\n",
       "    <tr>\n",
       "      <th>0</th>\n",
       "      <td>1</td>\n",
       "      <td>5.1</td>\n",
       "      <td>3.5</td>\n",
       "      <td>1.4</td>\n",
       "      <td>0.2</td>\n",
       "      <td>Iris-setosa</td>\n",
       "    </tr>\n",
       "    <tr>\n",
       "      <th>1</th>\n",
       "      <td>2</td>\n",
       "      <td>4.9</td>\n",
       "      <td>3.0</td>\n",
       "      <td>1.4</td>\n",
       "      <td>0.2</td>\n",
       "      <td>Iris-setosa</td>\n",
       "    </tr>\n",
       "    <tr>\n",
       "      <th>2</th>\n",
       "      <td>3</td>\n",
       "      <td>4.7</td>\n",
       "      <td>3.2</td>\n",
       "      <td>1.3</td>\n",
       "      <td>0.2</td>\n",
       "      <td>Iris-setosa</td>\n",
       "    </tr>\n",
       "    <tr>\n",
       "      <th>3</th>\n",
       "      <td>4</td>\n",
       "      <td>4.6</td>\n",
       "      <td>3.1</td>\n",
       "      <td>1.5</td>\n",
       "      <td>0.2</td>\n",
       "      <td>Iris-setosa</td>\n",
       "    </tr>\n",
       "    <tr>\n",
       "      <th>4</th>\n",
       "      <td>5</td>\n",
       "      <td>5.0</td>\n",
       "      <td>3.6</td>\n",
       "      <td>1.4</td>\n",
       "      <td>0.2</td>\n",
       "      <td>Iris-setosa</td>\n",
       "    </tr>\n",
       "    <tr>\n",
       "      <th>5</th>\n",
       "      <td>6</td>\n",
       "      <td>5.4</td>\n",
       "      <td>3.9</td>\n",
       "      <td>1.7</td>\n",
       "      <td>0.4</td>\n",
       "      <td>Iris-setosa</td>\n",
       "    </tr>\n",
       "    <tr>\n",
       "      <th>6</th>\n",
       "      <td>7</td>\n",
       "      <td>4.6</td>\n",
       "      <td>3.4</td>\n",
       "      <td>1.4</td>\n",
       "      <td>0.3</td>\n",
       "      <td>Iris-setosa</td>\n",
       "    </tr>\n",
       "    <tr>\n",
       "      <th>7</th>\n",
       "      <td>8</td>\n",
       "      <td>5.0</td>\n",
       "      <td>3.4</td>\n",
       "      <td>1.5</td>\n",
       "      <td>0.2</td>\n",
       "      <td>Iris-setosa</td>\n",
       "    </tr>\n",
       "    <tr>\n",
       "      <th>8</th>\n",
       "      <td>9</td>\n",
       "      <td>4.4</td>\n",
       "      <td>2.9</td>\n",
       "      <td>1.4</td>\n",
       "      <td>0.2</td>\n",
       "      <td>Iris-setosa</td>\n",
       "    </tr>\n",
       "    <tr>\n",
       "      <th>9</th>\n",
       "      <td>10</td>\n",
       "      <td>4.9</td>\n",
       "      <td>3.1</td>\n",
       "      <td>1.5</td>\n",
       "      <td>0.1</td>\n",
       "      <td>Iris-setosa</td>\n",
       "    </tr>\n",
       "  </tbody>\n",
       "</table>\n",
       "</div>"
      ],
      "text/plain": [
       "   ID  Sepal_Length  Sepal_Width  Petal_Length  Petal_Width        Class\n",
       "0   1           5.1          3.5           1.4          0.2  Iris-setosa\n",
       "1   2           4.9          3.0           1.4          0.2  Iris-setosa\n",
       "2   3           4.7          3.2           1.3          0.2  Iris-setosa\n",
       "3   4           4.6          3.1           1.5          0.2  Iris-setosa\n",
       "4   5           5.0          3.6           1.4          0.2  Iris-setosa\n",
       "5   6           5.4          3.9           1.7          0.4  Iris-setosa\n",
       "6   7           4.6          3.4           1.4          0.3  Iris-setosa\n",
       "7   8           5.0          3.4           1.5          0.2  Iris-setosa\n",
       "8   9           4.4          2.9           1.4          0.2  Iris-setosa\n",
       "9  10           4.9          3.1           1.5          0.1  Iris-setosa"
      ]
     },
     "execution_count": 8,
     "metadata": {},
     "output_type": "execute_result"
    }
   ],
   "source": [
    "df.head(10)"
   ]
  },
  {
   "cell_type": "markdown",
   "metadata": {},
   "source": [
    "Now, what if we wanted to merge this data with some other data set, say a table that contained the prices for each class of iris. You could imagine that such a table might look like the following (although we wouldn't be generating the data randomly):"
   ]
  },
  {
   "cell_type": "code",
   "execution_count": 9,
   "metadata": {},
   "outputs": [
    {
     "data": {
      "text/html": [
       "<div>\n",
       "<table border=\"1\" class=\"dataframe\">\n",
       "  <thead>\n",
       "    <tr style=\"text-align: right;\">\n",
       "      <th></th>\n",
       "      <th>Class</th>\n",
       "      <th>price</th>\n",
       "    </tr>\n",
       "  </thead>\n",
       "  <tbody>\n",
       "    <tr>\n",
       "      <th>0</th>\n",
       "      <td>Iris-setosa</td>\n",
       "      <td>9.430220</td>\n",
       "    </tr>\n",
       "    <tr>\n",
       "      <th>1</th>\n",
       "      <td>Iris-versicolor</td>\n",
       "      <td>8.680122</td>\n",
       "    </tr>\n",
       "    <tr>\n",
       "      <th>2</th>\n",
       "      <td>Iris-virginica</td>\n",
       "      <td>4.694480</td>\n",
       "    </tr>\n",
       "    <tr>\n",
       "      <th>3</th>\n",
       "      <td>iris-fakosa</td>\n",
       "      <td>7.726809</td>\n",
       "    </tr>\n",
       "  </tbody>\n",
       "</table>\n",
       "</div>"
      ],
      "text/plain": [
       "             Class     price\n",
       "0      Iris-setosa  9.430220\n",
       "1  Iris-versicolor  8.680122\n",
       "2   Iris-virginica  4.694480\n",
       "3      iris-fakosa  7.726809"
      ]
     },
     "execution_count": 9,
     "metadata": {},
     "output_type": "execute_result"
    }
   ],
   "source": [
    "# some random price data\n",
    "data = {'Class' : ['Iris-setosa', 'Iris-versicolor', 'Iris-virginica', 'iris-fakosa'],\n",
    "        'price' : np.random.uniform(0,10,4)}\n",
    "price_df = pd.DataFrame(data, columns=['Class', 'price'])\n",
    "price_df"
   ]
  },
  {
   "cell_type": "markdown",
   "metadata": {},
   "source": [
    "### Merging Via a Join"
   ]
  },
  {
   "cell_type": "markdown",
   "metadata": {},
   "source": [
    "Users of relational databases will be familiar with the terminology used to describe join operations between two table like structures, in our case DataFrame objects. There are several cases to consider which are very important to understand:"
   ]
  },
  {
   "cell_type": "markdown",
   "metadata": {},
   "source": [
    "* one-to-one joins: for example when joining two DataFrame objects on their indexes (which must contain unique values)\n",
    "* many-to-one joins: for example when joining an index (unique) to one or more columns in a DataFrame\n",
    "* many-to-many joins: joining columns on columns."
   ]
  },
  {
   "cell_type": "markdown",
   "metadata": {},
   "source": [
    "pandas supports the combination of DataFrames through the \"join\" operations that most people are familiar with from relational databases. One common type of join operation is the \"inner join\". The most general purpose method for performing this is the *merge()* operator, which supports the following types of operations"
   ]
  },
  {
   "cell_type": "markdown",
   "metadata": {},
   "source": [
    "| merge method | SQL Join Name | Description | \n",
    "| :---: | :--- | :--- |\n",
    "| left\t| LEFT OUTER JOIN | \tUse keys from left frame only |\n",
    "| right\t| RIGHT OUTER JOIN | Use keys from right frame only | \n",
    "| outer\t| FULL OUTER JOIN | Use union of keys from both frames | \n",
    "| inner\t| INNER JOIN | Use intersection of keys from both frames |"
   ]
  },
  {
   "cell_type": "code",
   "execution_count": 10,
   "metadata": {},
   "outputs": [
    {
     "data": {
      "text/html": [
       "<div>\n",
       "<table border=\"1\" class=\"dataframe\">\n",
       "  <thead>\n",
       "    <tr style=\"text-align: right;\">\n",
       "      <th></th>\n",
       "      <th>ID</th>\n",
       "      <th>Sepal_Length</th>\n",
       "      <th>Sepal_Width</th>\n",
       "      <th>Petal_Length</th>\n",
       "      <th>Petal_Width</th>\n",
       "      <th>Class</th>\n",
       "    </tr>\n",
       "  </thead>\n",
       "  <tbody>\n",
       "    <tr>\n",
       "      <th>105</th>\n",
       "      <td>106</td>\n",
       "      <td>7.6</td>\n",
       "      <td>3.0</td>\n",
       "      <td>6.6</td>\n",
       "      <td>2.1</td>\n",
       "      <td>Iris-virginica</td>\n",
       "    </tr>\n",
       "    <tr>\n",
       "      <th>12</th>\n",
       "      <td>13</td>\n",
       "      <td>4.8</td>\n",
       "      <td>3.0</td>\n",
       "      <td>1.4</td>\n",
       "      <td>0.1</td>\n",
       "      <td>Iris-setosa</td>\n",
       "    </tr>\n",
       "    <tr>\n",
       "      <th>81</th>\n",
       "      <td>82</td>\n",
       "      <td>5.5</td>\n",
       "      <td>2.4</td>\n",
       "      <td>3.7</td>\n",
       "      <td>1.0</td>\n",
       "      <td>Iris-versicolor</td>\n",
       "    </tr>\n",
       "    <tr>\n",
       "      <th>140</th>\n",
       "      <td>141</td>\n",
       "      <td>6.7</td>\n",
       "      <td>3.1</td>\n",
       "      <td>5.6</td>\n",
       "      <td>2.4</td>\n",
       "      <td>Iris-virginica</td>\n",
       "    </tr>\n",
       "    <tr>\n",
       "      <th>62</th>\n",
       "      <td>63</td>\n",
       "      <td>6.0</td>\n",
       "      <td>2.2</td>\n",
       "      <td>4.0</td>\n",
       "      <td>1.0</td>\n",
       "      <td>Iris-versicolor</td>\n",
       "    </tr>\n",
       "    <tr>\n",
       "      <th>147</th>\n",
       "      <td>148</td>\n",
       "      <td>6.5</td>\n",
       "      <td>3.0</td>\n",
       "      <td>5.2</td>\n",
       "      <td>2.0</td>\n",
       "      <td>Iris-virginica</td>\n",
       "    </tr>\n",
       "    <tr>\n",
       "      <th>91</th>\n",
       "      <td>92</td>\n",
       "      <td>6.1</td>\n",
       "      <td>3.0</td>\n",
       "      <td>4.6</td>\n",
       "      <td>1.4</td>\n",
       "      <td>Iris-versicolor</td>\n",
       "    </tr>\n",
       "    <tr>\n",
       "      <th>98</th>\n",
       "      <td>99</td>\n",
       "      <td>5.1</td>\n",
       "      <td>2.5</td>\n",
       "      <td>3.0</td>\n",
       "      <td>1.1</td>\n",
       "      <td>Iris-versicolor</td>\n",
       "    </tr>\n",
       "    <tr>\n",
       "      <th>132</th>\n",
       "      <td>133</td>\n",
       "      <td>6.4</td>\n",
       "      <td>2.8</td>\n",
       "      <td>5.6</td>\n",
       "      <td>2.2</td>\n",
       "      <td>Iris-virginica</td>\n",
       "    </tr>\n",
       "    <tr>\n",
       "      <th>34</th>\n",
       "      <td>35</td>\n",
       "      <td>4.9</td>\n",
       "      <td>3.1</td>\n",
       "      <td>1.5</td>\n",
       "      <td>0.1</td>\n",
       "      <td>Iris-setosa</td>\n",
       "    </tr>\n",
       "  </tbody>\n",
       "</table>\n",
       "</div>"
      ],
      "text/plain": [
       "      ID  Sepal_Length  Sepal_Width  Petal_Length  Petal_Width  \\\n",
       "105  106           7.6          3.0           6.6          2.1   \n",
       "12    13           4.8          3.0           1.4          0.1   \n",
       "81    82           5.5          2.4           3.7          1.0   \n",
       "140  141           6.7          3.1           5.6          2.4   \n",
       "62    63           6.0          2.2           4.0          1.0   \n",
       "147  148           6.5          3.0           5.2          2.0   \n",
       "91    92           6.1          3.0           4.6          1.4   \n",
       "98    99           5.1          2.5           3.0          1.1   \n",
       "132  133           6.4          2.8           5.6          2.2   \n",
       "34    35           4.9          3.1           1.5          0.1   \n",
       "\n",
       "               Class  \n",
       "105   Iris-virginica  \n",
       "12       Iris-setosa  \n",
       "81   Iris-versicolor  \n",
       "140   Iris-virginica  \n",
       "62   Iris-versicolor  \n",
       "147   Iris-virginica  \n",
       "91   Iris-versicolor  \n",
       "98   Iris-versicolor  \n",
       "132   Iris-virginica  \n",
       "34       Iris-setosa  "
      ]
     },
     "execution_count": 10,
     "metadata": {},
     "output_type": "execute_result"
    }
   ],
   "source": [
    "# let's start by taking a random sample of the iris data so we can see a bit of diversity in the 'Class' variable\n",
    "random_df = df.sample(n=10)\n",
    "random_df"
   ]
  },
  {
   "cell_type": "markdown",
   "metadata": {},
   "source": [
    "Now, using this sample of the data, let's join the price data to each row using the Class variable."
   ]
  },
  {
   "cell_type": "code",
   "execution_count": 11,
   "metadata": {},
   "outputs": [
    {
     "data": {
      "text/html": [
       "<div>\n",
       "<table border=\"1\" class=\"dataframe\">\n",
       "  <thead>\n",
       "    <tr style=\"text-align: right;\">\n",
       "      <th></th>\n",
       "      <th>ID</th>\n",
       "      <th>Sepal_Length</th>\n",
       "      <th>Sepal_Width</th>\n",
       "      <th>Petal_Length</th>\n",
       "      <th>Petal_Width</th>\n",
       "      <th>Class</th>\n",
       "      <th>price</th>\n",
       "    </tr>\n",
       "  </thead>\n",
       "  <tbody>\n",
       "    <tr>\n",
       "      <th>0</th>\n",
       "      <td>106</td>\n",
       "      <td>7.6</td>\n",
       "      <td>3.0</td>\n",
       "      <td>6.6</td>\n",
       "      <td>2.1</td>\n",
       "      <td>Iris-virginica</td>\n",
       "      <td>4.694480</td>\n",
       "    </tr>\n",
       "    <tr>\n",
       "      <th>1</th>\n",
       "      <td>141</td>\n",
       "      <td>6.7</td>\n",
       "      <td>3.1</td>\n",
       "      <td>5.6</td>\n",
       "      <td>2.4</td>\n",
       "      <td>Iris-virginica</td>\n",
       "      <td>4.694480</td>\n",
       "    </tr>\n",
       "    <tr>\n",
       "      <th>2</th>\n",
       "      <td>148</td>\n",
       "      <td>6.5</td>\n",
       "      <td>3.0</td>\n",
       "      <td>5.2</td>\n",
       "      <td>2.0</td>\n",
       "      <td>Iris-virginica</td>\n",
       "      <td>4.694480</td>\n",
       "    </tr>\n",
       "    <tr>\n",
       "      <th>3</th>\n",
       "      <td>133</td>\n",
       "      <td>6.4</td>\n",
       "      <td>2.8</td>\n",
       "      <td>5.6</td>\n",
       "      <td>2.2</td>\n",
       "      <td>Iris-virginica</td>\n",
       "      <td>4.694480</td>\n",
       "    </tr>\n",
       "    <tr>\n",
       "      <th>4</th>\n",
       "      <td>13</td>\n",
       "      <td>4.8</td>\n",
       "      <td>3.0</td>\n",
       "      <td>1.4</td>\n",
       "      <td>0.1</td>\n",
       "      <td>Iris-setosa</td>\n",
       "      <td>9.430220</td>\n",
       "    </tr>\n",
       "    <tr>\n",
       "      <th>5</th>\n",
       "      <td>35</td>\n",
       "      <td>4.9</td>\n",
       "      <td>3.1</td>\n",
       "      <td>1.5</td>\n",
       "      <td>0.1</td>\n",
       "      <td>Iris-setosa</td>\n",
       "      <td>9.430220</td>\n",
       "    </tr>\n",
       "    <tr>\n",
       "      <th>6</th>\n",
       "      <td>82</td>\n",
       "      <td>5.5</td>\n",
       "      <td>2.4</td>\n",
       "      <td>3.7</td>\n",
       "      <td>1.0</td>\n",
       "      <td>Iris-versicolor</td>\n",
       "      <td>8.680122</td>\n",
       "    </tr>\n",
       "    <tr>\n",
       "      <th>7</th>\n",
       "      <td>63</td>\n",
       "      <td>6.0</td>\n",
       "      <td>2.2</td>\n",
       "      <td>4.0</td>\n",
       "      <td>1.0</td>\n",
       "      <td>Iris-versicolor</td>\n",
       "      <td>8.680122</td>\n",
       "    </tr>\n",
       "    <tr>\n",
       "      <th>8</th>\n",
       "      <td>92</td>\n",
       "      <td>6.1</td>\n",
       "      <td>3.0</td>\n",
       "      <td>4.6</td>\n",
       "      <td>1.4</td>\n",
       "      <td>Iris-versicolor</td>\n",
       "      <td>8.680122</td>\n",
       "    </tr>\n",
       "    <tr>\n",
       "      <th>9</th>\n",
       "      <td>99</td>\n",
       "      <td>5.1</td>\n",
       "      <td>2.5</td>\n",
       "      <td>3.0</td>\n",
       "      <td>1.1</td>\n",
       "      <td>Iris-versicolor</td>\n",
       "      <td>8.680122</td>\n",
       "    </tr>\n",
       "  </tbody>\n",
       "</table>\n",
       "</div>"
      ],
      "text/plain": [
       "    ID  Sepal_Length  Sepal_Width  Petal_Length  Petal_Width            Class  \\\n",
       "0  106           7.6          3.0           6.6          2.1   Iris-virginica   \n",
       "1  141           6.7          3.1           5.6          2.4   Iris-virginica   \n",
       "2  148           6.5          3.0           5.2          2.0   Iris-virginica   \n",
       "3  133           6.4          2.8           5.6          2.2   Iris-virginica   \n",
       "4   13           4.8          3.0           1.4          0.1      Iris-setosa   \n",
       "5   35           4.9          3.1           1.5          0.1      Iris-setosa   \n",
       "6   82           5.5          2.4           3.7          1.0  Iris-versicolor   \n",
       "7   63           6.0          2.2           4.0          1.0  Iris-versicolor   \n",
       "8   92           6.1          3.0           4.6          1.4  Iris-versicolor   \n",
       "9   99           5.1          2.5           3.0          1.1  Iris-versicolor   \n",
       "\n",
       "      price  \n",
       "0  4.694480  \n",
       "1  4.694480  \n",
       "2  4.694480  \n",
       "3  4.694480  \n",
       "4  9.430220  \n",
       "5  9.430220  \n",
       "6  8.680122  \n",
       "7  8.680122  \n",
       "8  8.680122  \n",
       "9  8.680122  "
      ]
     },
     "execution_count": 11,
     "metadata": {},
     "output_type": "execute_result"
    }
   ],
   "source": [
    "pd.merge(random_df, price_df, how='inner', on='Class').head(10)"
   ]
  },
  {
   "cell_type": "markdown",
   "metadata": {},
   "source": [
    "### Concatenating Additional Samples"
   ]
  },
  {
   "cell_type": "markdown",
   "metadata": {},
   "source": [
    "Another very common way of combining datasets comes up when we obtain additional observations, or rows, which we want to append onto our existing dataset. To start, let's create a random set of observations."
   ]
  },
  {
   "cell_type": "markdown",
   "metadata": {},
   "source": [
    "As we do this, notice that although we have most of the same variables in our new data set, they're not exactly the same as the variables in our original dataset. For instance, our new data includes a new variable called *Petal_Color* but does not include *Sepal_Length*"
   ]
  },
  {
   "cell_type": "code",
   "execution_count": 12,
   "metadata": {},
   "outputs": [
    {
     "data": {
      "text/html": [
       "<div>\n",
       "<table border=\"1\" class=\"dataframe\">\n",
       "  <thead>\n",
       "    <tr style=\"text-align: right;\">\n",
       "      <th></th>\n",
       "      <th>Class</th>\n",
       "      <th>ID</th>\n",
       "      <th>Sepal_Width</th>\n",
       "      <th>Petal_Length</th>\n",
       "      <th>Petal_Width</th>\n",
       "      <th>Petal_Color</th>\n",
       "    </tr>\n",
       "  </thead>\n",
       "  <tbody>\n",
       "    <tr>\n",
       "      <th>0</th>\n",
       "      <td>Iris-fakosa</td>\n",
       "      <td>200</td>\n",
       "      <td>2.049693</td>\n",
       "      <td>3.866827</td>\n",
       "      <td>3.650578</td>\n",
       "      <td>purple</td>\n",
       "    </tr>\n",
       "    <tr>\n",
       "      <th>1</th>\n",
       "      <td>Iris-fakosa</td>\n",
       "      <td>201</td>\n",
       "      <td>8.781162</td>\n",
       "      <td>1.286581</td>\n",
       "      <td>6.775192</td>\n",
       "      <td>green</td>\n",
       "    </tr>\n",
       "    <tr>\n",
       "      <th>2</th>\n",
       "      <td>Iris-fakosa</td>\n",
       "      <td>202</td>\n",
       "      <td>7.722588</td>\n",
       "      <td>6.826253</td>\n",
       "      <td>3.227119</td>\n",
       "      <td>red</td>\n",
       "    </tr>\n",
       "    <tr>\n",
       "      <th>3</th>\n",
       "      <td>Iris-fakosa</td>\n",
       "      <td>203</td>\n",
       "      <td>9.407294</td>\n",
       "      <td>9.231862</td>\n",
       "      <td>5.714933</td>\n",
       "      <td>yellow</td>\n",
       "    </tr>\n",
       "    <tr>\n",
       "      <th>4</th>\n",
       "      <td>Iris-fakosa</td>\n",
       "      <td>204</td>\n",
       "      <td>2.207152</td>\n",
       "      <td>7.373353</td>\n",
       "      <td>9.291080</td>\n",
       "      <td>yellow</td>\n",
       "    </tr>\n",
       "  </tbody>\n",
       "</table>\n",
       "</div>"
      ],
      "text/plain": [
       "         Class   ID  Sepal_Width  Petal_Length  Petal_Width Petal_Color\n",
       "0  Iris-fakosa  200     2.049693      3.866827     3.650578      purple\n",
       "1  Iris-fakosa  201     8.781162      1.286581     6.775192       green\n",
       "2  Iris-fakosa  202     7.722588      6.826253     3.227119         red\n",
       "3  Iris-fakosa  203     9.407294      9.231862     5.714933      yellow\n",
       "4  Iris-fakosa  204     2.207152      7.373353     9.291080      yellow"
      ]
     },
     "execution_count": 12,
     "metadata": {},
     "output_type": "execute_result"
    }
   ],
   "source": [
    "# sample randomly generated samples of our new class of iris\n",
    "data = {'Class' : ['Iris-fakosa'] * 5,\n",
    "        'ID': range(200,205),\n",
    "        'Sepal_Length' : np.random.uniform(0,10,5),\n",
    "        'Sepal_Width' : np.random.uniform(0,10,5),\n",
    "        'Petal_Length' : np.random.uniform(0,10,5),\n",
    "        'Petal_Width' : np.random.uniform(0,10,5),\n",
    "        'Petal_Color' : ['purple', 'green', 'red', 'yellow', 'yellow']}\n",
    "\n",
    "more_samples_df = pd.DataFrame(data,columns=['Class',\n",
    "                                             'ID',\n",
    "                                            'Sepal_Width',\n",
    "                                            'Petal_Length',\n",
    "                                            'Petal_Width',\n",
    "                                            'Petal_Color'])\n",
    "\n",
    "more_samples_df"
   ]
  },
  {
   "cell_type": "markdown",
   "metadata": {},
   "source": [
    "Now, let's actually append the new data to the bottom of the original data."
   ]
  },
  {
   "cell_type": "code",
   "execution_count": 13,
   "metadata": {},
   "outputs": [
    {
     "data": {
      "text/html": [
       "<div>\n",
       "<table border=\"1\" class=\"dataframe\">\n",
       "  <thead>\n",
       "    <tr style=\"text-align: right;\">\n",
       "      <th></th>\n",
       "      <th>Class</th>\n",
       "      <th>ID</th>\n",
       "      <th>Petal_Color</th>\n",
       "      <th>Petal_Length</th>\n",
       "      <th>Petal_Width</th>\n",
       "      <th>Sepal_Length</th>\n",
       "      <th>Sepal_Width</th>\n",
       "    </tr>\n",
       "  </thead>\n",
       "  <tbody>\n",
       "    <tr>\n",
       "      <th>105</th>\n",
       "      <td>Iris-virginica</td>\n",
       "      <td>106</td>\n",
       "      <td>NaN</td>\n",
       "      <td>6.600000</td>\n",
       "      <td>2.100000</td>\n",
       "      <td>7.6</td>\n",
       "      <td>3.000000</td>\n",
       "    </tr>\n",
       "    <tr>\n",
       "      <th>12</th>\n",
       "      <td>Iris-setosa</td>\n",
       "      <td>13</td>\n",
       "      <td>NaN</td>\n",
       "      <td>1.400000</td>\n",
       "      <td>0.100000</td>\n",
       "      <td>4.8</td>\n",
       "      <td>3.000000</td>\n",
       "    </tr>\n",
       "    <tr>\n",
       "      <th>81</th>\n",
       "      <td>Iris-versicolor</td>\n",
       "      <td>82</td>\n",
       "      <td>NaN</td>\n",
       "      <td>3.700000</td>\n",
       "      <td>1.000000</td>\n",
       "      <td>5.5</td>\n",
       "      <td>2.400000</td>\n",
       "    </tr>\n",
       "    <tr>\n",
       "      <th>140</th>\n",
       "      <td>Iris-virginica</td>\n",
       "      <td>141</td>\n",
       "      <td>NaN</td>\n",
       "      <td>5.600000</td>\n",
       "      <td>2.400000</td>\n",
       "      <td>6.7</td>\n",
       "      <td>3.100000</td>\n",
       "    </tr>\n",
       "    <tr>\n",
       "      <th>62</th>\n",
       "      <td>Iris-versicolor</td>\n",
       "      <td>63</td>\n",
       "      <td>NaN</td>\n",
       "      <td>4.000000</td>\n",
       "      <td>1.000000</td>\n",
       "      <td>6.0</td>\n",
       "      <td>2.200000</td>\n",
       "    </tr>\n",
       "    <tr>\n",
       "      <th>147</th>\n",
       "      <td>Iris-virginica</td>\n",
       "      <td>148</td>\n",
       "      <td>NaN</td>\n",
       "      <td>5.200000</td>\n",
       "      <td>2.000000</td>\n",
       "      <td>6.5</td>\n",
       "      <td>3.000000</td>\n",
       "    </tr>\n",
       "    <tr>\n",
       "      <th>91</th>\n",
       "      <td>Iris-versicolor</td>\n",
       "      <td>92</td>\n",
       "      <td>NaN</td>\n",
       "      <td>4.600000</td>\n",
       "      <td>1.400000</td>\n",
       "      <td>6.1</td>\n",
       "      <td>3.000000</td>\n",
       "    </tr>\n",
       "    <tr>\n",
       "      <th>98</th>\n",
       "      <td>Iris-versicolor</td>\n",
       "      <td>99</td>\n",
       "      <td>NaN</td>\n",
       "      <td>3.000000</td>\n",
       "      <td>1.100000</td>\n",
       "      <td>5.1</td>\n",
       "      <td>2.500000</td>\n",
       "    </tr>\n",
       "    <tr>\n",
       "      <th>132</th>\n",
       "      <td>Iris-virginica</td>\n",
       "      <td>133</td>\n",
       "      <td>NaN</td>\n",
       "      <td>5.600000</td>\n",
       "      <td>2.200000</td>\n",
       "      <td>6.4</td>\n",
       "      <td>2.800000</td>\n",
       "    </tr>\n",
       "    <tr>\n",
       "      <th>34</th>\n",
       "      <td>Iris-setosa</td>\n",
       "      <td>35</td>\n",
       "      <td>NaN</td>\n",
       "      <td>1.500000</td>\n",
       "      <td>0.100000</td>\n",
       "      <td>4.9</td>\n",
       "      <td>3.100000</td>\n",
       "    </tr>\n",
       "    <tr>\n",
       "      <th>0</th>\n",
       "      <td>Iris-fakosa</td>\n",
       "      <td>200</td>\n",
       "      <td>purple</td>\n",
       "      <td>3.866827</td>\n",
       "      <td>3.650578</td>\n",
       "      <td>NaN</td>\n",
       "      <td>2.049693</td>\n",
       "    </tr>\n",
       "    <tr>\n",
       "      <th>1</th>\n",
       "      <td>Iris-fakosa</td>\n",
       "      <td>201</td>\n",
       "      <td>green</td>\n",
       "      <td>1.286581</td>\n",
       "      <td>6.775192</td>\n",
       "      <td>NaN</td>\n",
       "      <td>8.781162</td>\n",
       "    </tr>\n",
       "    <tr>\n",
       "      <th>2</th>\n",
       "      <td>Iris-fakosa</td>\n",
       "      <td>202</td>\n",
       "      <td>red</td>\n",
       "      <td>6.826253</td>\n",
       "      <td>3.227119</td>\n",
       "      <td>NaN</td>\n",
       "      <td>7.722588</td>\n",
       "    </tr>\n",
       "    <tr>\n",
       "      <th>3</th>\n",
       "      <td>Iris-fakosa</td>\n",
       "      <td>203</td>\n",
       "      <td>yellow</td>\n",
       "      <td>9.231862</td>\n",
       "      <td>5.714933</td>\n",
       "      <td>NaN</td>\n",
       "      <td>9.407294</td>\n",
       "    </tr>\n",
       "    <tr>\n",
       "      <th>4</th>\n",
       "      <td>Iris-fakosa</td>\n",
       "      <td>204</td>\n",
       "      <td>yellow</td>\n",
       "      <td>7.373353</td>\n",
       "      <td>9.291080</td>\n",
       "      <td>NaN</td>\n",
       "      <td>2.207152</td>\n",
       "    </tr>\n",
       "  </tbody>\n",
       "</table>\n",
       "</div>"
      ],
      "text/plain": [
       "               Class   ID Petal_Color  Petal_Length  Petal_Width  \\\n",
       "105   Iris-virginica  106         NaN      6.600000     2.100000   \n",
       "12       Iris-setosa   13         NaN      1.400000     0.100000   \n",
       "81   Iris-versicolor   82         NaN      3.700000     1.000000   \n",
       "140   Iris-virginica  141         NaN      5.600000     2.400000   \n",
       "62   Iris-versicolor   63         NaN      4.000000     1.000000   \n",
       "147   Iris-virginica  148         NaN      5.200000     2.000000   \n",
       "91   Iris-versicolor   92         NaN      4.600000     1.400000   \n",
       "98   Iris-versicolor   99         NaN      3.000000     1.100000   \n",
       "132   Iris-virginica  133         NaN      5.600000     2.200000   \n",
       "34       Iris-setosa   35         NaN      1.500000     0.100000   \n",
       "0        Iris-fakosa  200      purple      3.866827     3.650578   \n",
       "1        Iris-fakosa  201       green      1.286581     6.775192   \n",
       "2        Iris-fakosa  202         red      6.826253     3.227119   \n",
       "3        Iris-fakosa  203      yellow      9.231862     5.714933   \n",
       "4        Iris-fakosa  204      yellow      7.373353     9.291080   \n",
       "\n",
       "     Sepal_Length  Sepal_Width  \n",
       "105           7.6     3.000000  \n",
       "12            4.8     3.000000  \n",
       "81            5.5     2.400000  \n",
       "140           6.7     3.100000  \n",
       "62            6.0     2.200000  \n",
       "147           6.5     3.000000  \n",
       "91            6.1     3.000000  \n",
       "98            5.1     2.500000  \n",
       "132           6.4     2.800000  \n",
       "34            4.9     3.100000  \n",
       "0             NaN     2.049693  \n",
       "1             NaN     8.781162  \n",
       "2             NaN     7.722588  \n",
       "3             NaN     9.407294  \n",
       "4             NaN     2.207152  "
      ]
     },
     "execution_count": 13,
     "metadata": {},
     "output_type": "execute_result"
    }
   ],
   "source": [
    "random_df.append(more_samples_df).tail(20)"
   ]
  },
  {
   "cell_type": "markdown",
   "metadata": {},
   "source": [
    "As you can see, the *append()* was smart! It recognized the observations did not all include the same variables and left room appropriately in the table to represent that there was missing data. Furthermore, it used the NaN to represent the missing data so that any subsequent functions would recognize that the data was missing."
   ]
  }
 ],
 "metadata": {},
 "nbformat": 4,
 "nbformat_minor": 0
}