{
 "cells": [
  {
   "cell_type": "markdown",
   "metadata": {},
   "source": [
    "# Crash Course on Python for Data Analysis"
   ]
  },
  {
   "cell_type": "markdown",
   "metadata": {},
   "source": [
    "**Where We're Headed**"
   ]
  },
  {
   "cell_type": "markdown",
   "metadata": {},
   "source": [
    "* Input data\n",
    "* Manipulate data until it's in the form we want\n",
    "* Produce a compelling graphic"
   ]
  },
  {
   "cell_type": "markdown",
   "metadata": {},
   "source": [
    "**Jupyter Notebook Basics**"
   ]
  },
  {
   "cell_type": "markdown",
   "metadata": {},
   "source": [
    "* Entering and executing Python\n",
    "* Documenting what you've done"
   ]
  },
  {
   "cell_type": "markdown",
   "metadata": {},
   "source": [
    "**Python Basics Pt 1**"
   ]
  },
  {
   "cell_type": "markdown",
   "metadata": {},
   "source": [
    "* Numbers and Calculations\n",
    "* Comments\n",
    "* Assignments\n",
    "* Extending Python by Importing Packages\n",
    "* Strings, Lists, and Tuples\n",
    "* Dictionaries and Sets"
   ]
  },
  {
   "cell_type": "markdown",
   "metadata": {},
   "source": [
    "**Python Basics Pt 2**"
   ]
  },
  {
   "cell_type": "markdown",
   "metadata": {},
   "source": [
    "* Booleans\n",
    "* Flow of Control"
   ]
  },
  {
   "cell_type": "markdown",
   "metadata": {},
   "source": [
    "**Python Basics: Other Items**"
   ]
  },
  {
   "cell_type": "markdown",
   "metadata": {},
   "source": [
    "* Input and Output"
   ]
  },
  {
   "cell_type": "markdown",
   "metadata": {},
   "source": [
    "===============================\n",
    "## Strings"
   ]
  },
  {
   "cell_type": "markdown",
   "metadata": {},
   "source": [
    "A string is basically a collection of characters with some special methods that perform operations which we tend to expect, like capitalization."
   ]
  },
  {
   "cell_type": "markdown",
   "metadata": {},
   "source": [
    "**String Creation**"
   ]
  },
  {
   "cell_type": "code",
   "execution_count": 1,
   "metadata": {
    "collapsed": false
   },
   "outputs": [
    {
     "name": "stdout",
     "output_type": "stream",
     "text": [
      "Hello world\n"
     ]
    }
   ],
   "source": [
    "# We can create a string using single quotes\n",
    "s = 'Hello world'\n",
    "print s"
   ]
  },
  {
   "cell_type": "code",
   "execution_count": 2,
   "metadata": {
    "collapsed": false
   },
   "outputs": [
    {
     "name": "stdout",
     "output_type": "stream",
     "text": [
      "Hello world\n"
     ]
    }
   ],
   "source": [
    "# We can create a string using double quotes\n",
    "s = \"Hello world\"\n",
    "print s"
   ]
  },
  {
   "cell_type": "code",
   "execution_count": 3,
   "metadata": {
    "collapsed": false
   },
   "outputs": [
    {
     "name": "stdout",
     "output_type": "stream",
     "text": [
      "This is John's world\n"
     ]
    }
   ],
   "source": [
    "# This is convenient for instances where we might want to mix the two\n",
    "s = \"This is John's world\"\n",
    "print s"
   ]
  },
  {
   "cell_type": "markdown",
   "metadata": {},
   "source": [
    "**String Concatenation**"
   ]
  },
  {
   "cell_type": "code",
   "execution_count": 4,
   "metadata": {
    "collapsed": false
   },
   "outputs": [
    {
     "name": "stdout",
     "output_type": "stream",
     "text": [
      "This is John's world there\n"
     ]
    }
   ],
   "source": [
    "# We can concatenate two strings using the `+` operator\n",
    "print s + ' there'"
   ]
  },
  {
   "cell_type": "markdown",
   "metadata": {},
   "source": [
    "**String Duplication**"
   ]
  },
  {
   "cell_type": "code",
   "execution_count": 5,
   "metadata": {
    "collapsed": false
   },
   "outputs": [
    {
     "name": "stdout",
     "output_type": "stream",
     "text": [
      "This is John's worldThis is John's world\n"
     ]
    }
   ],
   "source": [
    "# We can duplicate a string using the `*` operator\n",
    "print s*2"
   ]
  },
  {
   "cell_type": "markdown",
   "metadata": {},
   "source": [
    "**Indexing**"
   ]
  },
  {
   "cell_type": "markdown",
   "metadata": {},
   "source": [
    "We can access the contents of a string by directly refering to the location of a character within a string uing indices. Take some time to understand what we can do with indices, since Python is consistent in its use of indexing across all of the objects that can be indexed and, by extension, many of the libraries we'll be using. In general, indexing is used as follows:"
   ]
  },
  {
   "cell_type": "markdown",
   "metadata": {},
   "source": [
    "    string[lowerIndex : upperIndex]"
   ]
  },
  {
   "cell_type": "markdown",
   "metadata": {},
   "source": [
    "    \n",
    "will return all of the characters from `lowerIndex` up to but not including `upperIndex`. Optionally, we can add a third indexing argument which determines the step size"
   ]
  },
  {
   "cell_type": "markdown",
   "metadata": {},
   "source": [
    "    string[lowerIndex : upperIndex : step]"
   ]
  },
  {
   "cell_type": "code",
   "execution_count": 6,
   "metadata": {
    "collapsed": false
   },
   "outputs": [
    {
     "data": {
      "text/plain": [
       "'T'"
      ]
     },
     "execution_count": 6,
     "metadata": {},
     "output_type": "execute_result"
    }
   ],
   "source": [
    "# First thing to note is that the index of the first character in the string is considered to have index `0`\n",
    "s = \"This is John's world\"\n",
    "s[0]"
   ]
  },
  {
   "cell_type": "code",
   "execution_count": 7,
   "metadata": {
    "collapsed": false
   },
   "outputs": [
    {
     "data": {
      "text/plain": [
       "'This is'"
      ]
     },
     "execution_count": 7,
     "metadata": {},
     "output_type": "execute_result"
    }
   ],
   "source": [
    "# We can use a colon `:` to create a range of indices.\n",
    "# In this example, we'll get all of the characters beginning with the lower index up to, but not including, the\n",
    "# higher index\n",
    "s[0:7]"
   ]
  },
  {
   "cell_type": "code",
   "execution_count": 8,
   "metadata": {
    "collapsed": false
   },
   "outputs": [
    {
     "data": {
      "text/plain": [
       "'This is'"
      ]
     },
     "execution_count": 8,
     "metadata": {},
     "output_type": "execute_result"
    }
   ],
   "source": [
    "# We can use the optional step size, which by default is 1\n",
    "s[0:7:1]"
   ]
  },
  {
   "cell_type": "code",
   "execution_count": 9,
   "metadata": {
    "collapsed": false
   },
   "outputs": [
    {
     "data": {
      "text/plain": [
       "'Ti s'"
      ]
     },
     "execution_count": 9,
     "metadata": {},
     "output_type": "execute_result"
    }
   ],
   "source": [
    "# We can use the optional step size, which by default is 1\n",
    "s[0:7:2]"
   ]
  },
  {
   "cell_type": "code",
   "execution_count": 10,
   "metadata": {
    "collapsed": false
   },
   "outputs": [
    {
     "data": {
      "text/plain": [
       "'rld'"
      ]
     },
     "execution_count": 10,
     "metadata": {},
     "output_type": "execute_result"
    }
   ],
   "source": [
    "# By using a negative index, we count from the end of the string\n",
    "s[-3:]"
   ]
  },
  {
   "cell_type": "code",
   "execution_count": 11,
   "metadata": {
    "collapsed": false
   },
   "outputs": [
    {
     "data": {
      "text/plain": [
       "\"dlrow s'nhoJ si sihT\""
      ]
     },
     "execution_count": 11,
     "metadata": {},
     "output_type": "execute_result"
    }
   ],
   "source": [
    "# finally, we can use a negative step size to iterate backwards through the string\n",
    "s[::-1]"
   ]
  },
  {
   "cell_type": "markdown",
   "metadata": {},
   "source": [
    "### Methods and Recipes\n",
    "There are far too many methods available for manipulating strings to capture them all here. I strongly suggest that you ook at the Python documentation to get a quick sense for everything that you can do. In the meantime, here are some methods and recipes that you'll run into frequently."
   ]
  },
  {
   "cell_type": "markdown",
   "metadata": {},
   "source": [
    "**Determine The Length Of A String**"
   ]
  },
  {
   "cell_type": "code",
   "execution_count": 12,
   "metadata": {
    "collapsed": false
   },
   "outputs": [
    {
     "data": {
      "text/plain": [
       "12"
      ]
     },
     "execution_count": 12,
     "metadata": {},
     "output_type": "execute_result"
    }
   ],
   "source": [
    "len('Hello world!')"
   ]
  },
  {
   "cell_type": "markdown",
   "metadata": {},
   "source": [
    "**Manipulate the String**"
   ]
  },
  {
   "cell_type": "code",
   "execution_count": 13,
   "metadata": {
    "collapsed": false
   },
   "outputs": [
    {
     "data": {
      "text/plain": [
       "'HELLO'"
      ]
     },
     "execution_count": 13,
     "metadata": {},
     "output_type": "execute_result"
    }
   ],
   "source": [
    "'hello'.upper()"
   ]
  },
  {
   "cell_type": "code",
   "execution_count": 14,
   "metadata": {
    "collapsed": false
   },
   "outputs": [
    {
     "data": {
      "text/plain": [
       "'Hello'"
      ]
     },
     "execution_count": 14,
     "metadata": {},
     "output_type": "execute_result"
    }
   ],
   "source": [
    "'hello'.capitalize()"
   ]
  },
  {
   "cell_type": "markdown",
   "metadata": {},
   "source": [
    "**Search for the first occurence of a substring**"
   ]
  },
  {
   "cell_type": "code",
   "execution_count": 15,
   "metadata": {
    "collapsed": false
   },
   "outputs": [
    {
     "data": {
      "text/plain": [
       "7"
      ]
     },
     "execution_count": 15,
     "metadata": {},
     "output_type": "execute_result"
    }
   ],
   "source": [
    "# as a general rule, it will find the first occurence of any substring\n",
    "s = 'Now is the winter of our discontent, made glorious summer by this son of York'\n",
    "s.find('th')"
   ]
  },
  {
   "cell_type": "code",
   "execution_count": 16,
   "metadata": {
    "collapsed": false
   },
   "outputs": [
    {
     "data": {
      "text/plain": [
       "35"
      ]
     },
     "execution_count": 16,
     "metadata": {},
     "output_type": "execute_result"
    }
   ],
   "source": [
    "# You'll often find that it's convenient to use `find()` to find an occurence of a specific character\n",
    "s = 'Now is the winter of our discontent, made glorious summer by this son of York'\n",
    "s.find(',')"
   ]
  },
  {
   "cell_type": "code",
   "execution_count": 17,
   "metadata": {
    "collapsed": false
   },
   "outputs": [
    {
     "name": "stdout",
     "output_type": "stream",
     "text": [
      "Now is the winter of our discontent\n"
     ]
    }
   ],
   "source": [
    "# knowing the location of the character can allow us to do other things, such as extract a component of the string\n",
    "s = 'Now is the winter of our discontent, made glorious summer by this son of York'\n",
    "ch = s.find(',')\n",
    "print s[:ch]"
   ]
  },
  {
   "cell_type": "markdown",
   "metadata": {},
   "source": [
    "**Split a string at each occurence of a substring**"
   ]
  },
  {
   "cell_type": "markdown",
   "metadata": {},
   "source": [
    "Although the `find()` function is handy, oftentimes we'll find that we want to split a string up and capture all of the pieces that result. We can certainly do this with `find()`, but a more convenient approach is to use `split()`."
   ]
  },
  {
   "cell_type": "code",
   "execution_count": 18,
   "metadata": {
    "collapsed": false
   },
   "outputs": [
    {
     "data": {
      "text/plain": [
       "['Now is the winter of our discontent',\n",
       " ' made glorious summer by this son of York']"
      ]
     },
     "execution_count": 18,
     "metadata": {},
     "output_type": "execute_result"
    }
   ],
   "source": [
    "# Going back to our example\n",
    "s = 'Now is the winter of our discontent, made glorious summer by this son of York'\n",
    "s.split(',')"
   ]
  },
  {
   "cell_type": "code",
   "execution_count": 19,
   "metadata": {
    "collapsed": false
   },
   "outputs": [
    {
     "data": {
      "text/plain": [
       "['Fox', ' John']"
      ]
     },
     "execution_count": 19,
     "metadata": {},
     "output_type": "execute_result"
    }
   ],
   "source": [
    "# A very typical use cas for this would be to extract the each of the components from a comma delimited string\n",
    "s = 'Fox, John'\n",
    "s.split(',')"
   ]
  },
  {
   "cell_type": "markdown",
   "metadata": {},
   "source": [
    "**Strip off leading and trailing white space**"
   ]
  },
  {
   "cell_type": "markdown",
   "metadata": {},
   "source": [
    "Now that we can split a string, you can see how we might be able to parse them to extract meaningful information. As a quick example, let's re-do that previous example and then test the results to see if the string contained my first name."
   ]
  },
  {
   "cell_type": "code",
   "execution_count": 20,
   "metadata": {
    "collapsed": false
   },
   "outputs": [
    {
     "name": "stdout",
     "output_type": "stream",
     "text": [
      "We didn't find John\n"
     ]
    }
   ],
   "source": [
    "# let's create a string consisting of my name\n",
    "s = 'Fox, John'\n",
    "\n",
    "# let's use split to extract out my first name.\n",
    "# BTW, make sure that you understand exactly what's going on with this shorthand\n",
    "first_name = s.split(',')[1]\n",
    "\n",
    "if (first_name == 'John'):\n",
    "    print \"We found John\"\n",
    "else:\n",
    "    print \"We didn't find John\""
   ]
  },
  {
   "cell_type": "markdown",
   "metadata": {},
   "source": [
    "Oops. What just happened there? Go back and look carefully at the results of the `split()` in the last recipe. We split the string at the ','. Unfortunately, Python was rather literal in the way that it did this and so it left the blank space at the beginning of ' John'. This kind of result in which we end up with a string that has one or blank space at the beginning or trailing edge of a string is extremely common. In general, however, we probably we don't want the blanks since it can lead to confusing results. For instance, in this example when we tried to test the results of the `split()` against my first name ('John'), we got back a result that was potentially confusing. The leading ` ` that is a part of `first_name` causes the test to fail."
   ]
  },
  {
   "cell_type": "code",
   "execution_count": 21,
   "metadata": {
    "collapsed": false
   },
   "outputs": [
    {
     "name": "stdout",
     "output_type": "stream",
     "text": [
      "We didn't find John\n",
      "\n",
      "Without strip: John\n",
      "With strip:   John\n"
     ]
    }
   ],
   "source": [
    "# let's create a string consisting of my name\n",
    "s = 'Fox, John'\n",
    "\n",
    "# let's use split to extract out my first name.\n",
    "# BTW, make sure that you understand exactly what's going on with this shorthand\n",
    "first_name = s.split(',')[1]\n",
    "\n",
    "first_name_stripped = first_name.strip()\n",
    "\n",
    "if (first_name == 'John'):\n",
    "    print \"We found John\"\n",
    "else:\n",
    "    print \"We didn't find John\"\n",
    "\n",
    "print \"\\nWithout strip:\" + first_name\n",
    "print \"With strip:   \" + first_name_stripped"
   ]
  },
  {
   "cell_type": "markdown",
   "metadata": {},
   "source": [
    "## Lists"
   ]
  },
  {
   "cell_type": "markdown",
   "metadata": {},
   "source": [
    "A list is basically a collection of objects. They are special in a few ways:"
   ]
  },
  {
   "cell_type": "markdown",
   "metadata": {},
   "source": [
    "* we can look up the contents of a list by the position within the list\n",
    "* they can grow without bound\n",
    "* they can contain pretty much anything we'd like them to contain"
   ]
  },
  {
   "cell_type": "markdown",
   "metadata": {},
   "source": [
    "Creating a list is straightforward. We simple create a collection of what's called key-value pairs. Here, the \"key\" will be the information we use to perform our lookup and the \"value\" will be the information we get back. The general form we will be"
   ]
  },
  {
   "cell_type": "markdown",
   "metadata": {},
   "source": [
    "The general form we will be\n",
    "    \n",
    "    list = [ \n",
    "             value1, \n",
    "             value2\n",
    "           ]"
   ]
  },
  {
   "cell_type": "markdown",
   "metadata": {},
   "source": [
    "As we'll see, in a lot of important ways, lists and strings are actually quite similar although strings are limited to containing characters whereas lists can contain any type of Python object."
   ]
  },
  {
   "cell_type": "markdown",
   "metadata": {},
   "source": [
    "**Creation**"
   ]
  },
  {
   "cell_type": "code",
   "execution_count": 22,
   "metadata": {
    "collapsed": true
   },
   "outputs": [],
   "source": [
    "my_list = [1,2,3]"
   ]
  },
  {
   "cell_type": "code",
   "execution_count": 23,
   "metadata": {
    "collapsed": false
   },
   "outputs": [
    {
     "data": {
      "text/plain": [
       "[1, 2, 3]"
      ]
     },
     "execution_count": 23,
     "metadata": {},
     "output_type": "execute_result"
    }
   ],
   "source": [
    "my_list"
   ]
  },
  {
   "cell_type": "code",
   "execution_count": 24,
   "metadata": {
    "collapsed": true
   },
   "outputs": [],
   "source": [
    "my_list = ['string', 23, 1.234, '0']"
   ]
  },
  {
   "cell_type": "markdown",
   "metadata": {},
   "source": [
    "**Creating a List Using `range()`**"
   ]
  },
  {
   "cell_type": "markdown",
   "metadata": {},
   "source": [
    "Python 2 has a convenience function which will create list for us consisting of a range of numbers. The form of this function is\n",
    "    \n",
    "    range(start, stop, step)\n",
    "    \n",
    "and they work pretty much the same way that indices work. This particular function will prove to be quite useful later on when we talk about iteration."
   ]
  },
  {
   "cell_type": "code",
   "execution_count": 25,
   "metadata": {
    "collapsed": false
   },
   "outputs": [
    {
     "name": "stdout",
     "output_type": "stream",
     "text": [
      "[0, 1, 2, 3, 4, 5, 6, 7, 8, 9]\n"
     ]
    }
   ],
   "source": [
    "# the default configuration will create a list of numbers ranging from 0 to the 'stop'\n",
    "# with a step size of 1\n",
    "print range(10)"
   ]
  },
  {
   "cell_type": "code",
   "execution_count": 26,
   "metadata": {
    "collapsed": false
   },
   "outputs": [
    {
     "name": "stdout",
     "output_type": "stream",
     "text": [
      "[3, 4, 5, 6, 7, 8, 9]\n"
     ]
    }
   ],
   "source": [
    "print range(3,10)"
   ]
  },
  {
   "cell_type": "code",
   "execution_count": 27,
   "metadata": {
    "collapsed": false
   },
   "outputs": [
    {
     "name": "stdout",
     "output_type": "stream",
     "text": [
      "[3, 5, 7, 9]\n"
     ]
    }
   ],
   "source": [
    "print range(3,10,2)"
   ]
  },
  {
   "cell_type": "markdown",
   "metadata": {},
   "source": [
    "**Concatenate**"
   ]
  },
  {
   "cell_type": "markdown",
   "metadata": {},
   "source": [
    "Concatenation of lists is performed in the same way as concatenation of strings."
   ]
  },
  {
   "cell_type": "code",
   "execution_count": 28,
   "metadata": {
    "collapsed": false
   },
   "outputs": [
    {
     "name": "stdout",
     "output_type": "stream",
     "text": [
      "[1, 2, 3, 'a', 'b', 'c']\n"
     ]
    }
   ],
   "source": [
    "# Concatenate lists\n",
    "list_one = [1,2,3]\n",
    "list_two = ['a', 'b', 'c']\n",
    "\n",
    "list_concatenated = list_one + list_two\n",
    "\n",
    "print list_concatenated"
   ]
  },
  {
   "cell_type": "code",
   "execution_count": 29,
   "metadata": {
    "collapsed": false
   },
   "outputs": [
    {
     "data": {
      "text/plain": [
       "['a']"
      ]
     },
     "execution_count": 29,
     "metadata": {},
     "output_type": "execute_result"
    }
   ],
   "source": [
    "stack = []\n",
    "stack + ['a']"
   ]
  },
  {
   "cell_type": "markdown",
   "metadata": {},
   "source": [
    "**Duplicate**"
   ]
  },
  {
   "cell_type": "markdown",
   "metadata": {},
   "source": [
    "List duplication is performed the same way as duplication of strings"
   ]
  },
  {
   "cell_type": "code",
   "execution_count": 30,
   "metadata": {
    "collapsed": false
   },
   "outputs": [
    {
     "name": "stdout",
     "output_type": "stream",
     "text": [
      "['string', 23, 1.234, '0', 'string', 23, 1.234, '0']\n"
     ]
    }
   ],
   "source": [
    "# List duplication\n",
    "my_list = ['string', 23, 1.234, '0']\n",
    "print my_list*2"
   ]
  },
  {
   "cell_type": "markdown",
   "metadata": {},
   "source": [
    "**Indexing**"
   ]
  },
  {
   "cell_type": "markdown",
   "metadata": {},
   "source": [
    "Indexing on lists is performed the same way as indexing on strings and it won't be repeated here."
   ]
  },
  {
   "cell_type": "markdown",
   "metadata": {},
   "source": [
    "### Methods and Recipes"
   ]
  },
  {
   "cell_type": "markdown",
   "metadata": {},
   "source": [
    "**Determine The Length Of A List**"
   ]
  },
  {
   "cell_type": "code",
   "execution_count": 31,
   "metadata": {
    "collapsed": false
   },
   "outputs": [
    {
     "data": {
      "text/plain": [
       "6"
      ]
     },
     "execution_count": 31,
     "metadata": {},
     "output_type": "execute_result"
    }
   ],
   "source": [
    "my_list = [1, 2, 3, 4, 5, 6]\n",
    "len(my_list)"
   ]
  },
  {
   "cell_type": "markdown",
   "metadata": {},
   "source": [
    "**Append An Item To The End Of A List**"
   ]
  },
  {
   "cell_type": "code",
   "execution_count": 32,
   "metadata": {
    "collapsed": false
   },
   "outputs": [
    {
     "name": "stdout",
     "output_type": "stream",
     "text": [
      "[1, 2, 3, 'append me']\n"
     ]
    }
   ],
   "source": [
    "# Lists also have a method called `append()` which allows us to append a single value onto the end of the list\n",
    "# Append single item onto a list\n",
    "l = [1,2,3]\n",
    "l.append('append me')\n",
    "print l"
   ]
  },
  {
   "cell_type": "markdown",
   "metadata": {},
   "source": [
    "**Pop An Item Off Of A List**"
   ]
  },
  {
   "cell_type": "code",
   "execution_count": 33,
   "metadata": {
    "collapsed": false
   },
   "outputs": [
    {
     "name": "stdout",
     "output_type": "stream",
     "text": [
      "The item popped =  6\n",
      "The list afterwards =  [1, 2, 3, 4, 5]\n"
     ]
    }
   ],
   "source": [
    "# The `pop()` method will return the value with the highest index.\n",
    "# It has the side effect of removing this same item from the list\n",
    "my_list = [1, 2, 3, 4, 5, 6]\n",
    "x = my_list.pop()\n",
    "print 'The item popped = ', x\n",
    "print 'The list afterwards = ', my_list"
   ]
  },
  {
   "cell_type": "code",
   "execution_count": 34,
   "metadata": {
    "collapsed": false
   },
   "outputs": [
    {
     "name": "stdout",
     "output_type": "stream",
     "text": [
      "The item popped =  3\n",
      "The list afterwards =  [1, 2, 4, 5, 6]\n"
     ]
    }
   ],
   "source": [
    "# Optionally, the `pop()` method takes an integer argument which specifies the index\n",
    "# of the element to \"pop\" off of the list\n",
    "my_list = [1, 2, 3, 4, 5, 6]\n",
    "x = my_list.pop(2)\n",
    "\n",
    "print 'The item popped = ', x\n",
    "print 'The list afterwards = ', my_list"
   ]
  },
  {
   "cell_type": "code",
   "execution_count": 35,
   "metadata": {
    "collapsed": false
   },
   "outputs": [
    {
     "data": {
      "text/plain": [
       "'append me'"
      ]
     },
     "execution_count": 35,
     "metadata": {},
     "output_type": "execute_result"
    }
   ],
   "source": [
    "l.pop()"
   ]
  },
  {
   "cell_type": "code",
   "execution_count": 36,
   "metadata": {
    "collapsed": false
   },
   "outputs": [
    {
     "name": "stdout",
     "output_type": "stream",
     "text": [
      "[1, 2, 3]\n"
     ]
    }
   ],
   "source": [
    "print l"
   ]
  },
  {
   "cell_type": "markdown",
   "metadata": {},
   "source": [
    "**Reverse a List**"
   ]
  },
  {
   "cell_type": "code",
   "execution_count": 37,
   "metadata": {
    "collapsed": false
   },
   "outputs": [
    {
     "name": "stdout",
     "output_type": "stream",
     "text": [
      "['c', 'b', 'x', 'e', 'a']\n"
     ]
    }
   ],
   "source": [
    "# reverse the list in place\n",
    "new_list = ['a', 'e', 'x', 'b', 'c']\n",
    "\n",
    "new_list.reverse()\n",
    "print new_list"
   ]
  },
  {
   "cell_type": "markdown",
   "metadata": {},
   "source": [
    "**Sort a List**"
   ]
  },
  {
   "cell_type": "code",
   "execution_count": 38,
   "metadata": {
    "collapsed": false
   },
   "outputs": [
    {
     "name": "stdout",
     "output_type": "stream",
     "text": [
      "['a', 'b', 'c', 'e', 'x']\n"
     ]
    }
   ],
   "source": [
    "# sort the list in place\n",
    "new_list = ['a', 'e', 'x', 'b', 'c']\n",
    "\n",
    "new_list.sort()\n",
    "print new_list"
   ]
  },
  {
   "cell_type": "markdown",
   "metadata": {},
   "source": [
    "**Creating a 2D list, or an array**"
   ]
  },
  {
   "cell_type": "markdown",
   "metadata": {},
   "source": [
    "Although we'll tend to use the capabilities of a special purpose library for handling our tables and arrays, it's worth noting that we can easily take advantage of Python's ability to create a list arbitrary objects in order to create a 2D (or higher dimensioned) array."
   ]
  },
  {
   "cell_type": "markdown",
   "metadata": {},
   "source": [
    "Let's say for the same of argument that we want to create a representation of the following array:"
   ]
  },
  {
   "cell_type": "markdown",
   "metadata": {},
   "source": [
    "$$\n",
    "\\left( \\begin{array}{ccc}\n",
    "1 & 2 & 3 \\\\\n",
    "4 & 5 & 6 \\\\\n",
    "7 & 8 & 9 \\end{array} \\right) \n",
    "$$"
   ]
  },
  {
   "cell_type": "markdown",
   "metadata": {},
   "source": [
    "There are several ways to do this in Python, but let's say that we are limiting ourselves to an approach based upon `List` objects. One way to create this would be the following."
   ]
  },
  {
   "cell_type": "code",
   "execution_count": 39,
   "metadata": {
    "collapsed": false
   },
   "outputs": [
    {
     "name": "stdout",
     "output_type": "stream",
     "text": [
      "[[1, 2, 3], [4, 5, 6], [7, 8, 9]]\n"
     ]
    }
   ],
   "source": [
    "# first, let's create the rows. We don't need to do it separately, but it's a bit easier to read\n",
    "row_1 = [1,2,3]\n",
    "row_2 = [4,5,6]\n",
    "row_3 = [7,8,9]\n",
    "\n",
    "# now, let's form an array by collecting each of these rows into a\n",
    "# contained list to form the array\n",
    "matrix = [row_1, row_2, row_3]\n",
    "print matrix"
   ]
  },
  {
   "cell_type": "markdown",
   "metadata": {},
   "source": [
    "By creating a \"list of lists\" we have created a representation of an array."
   ]
  },
  {
   "cell_type": "markdown",
   "metadata": {},
   "source": [
    "<div class=\"alert alert-success\">\n",
    "Question: how would you use only the bracket notation to retrieve the '6' from the array we just created?\n",
    "</div>"
   ]
  },
  {
   "cell_type": "markdown",
   "metadata": {},
   "source": [
    "## Tuples"
   ]
  },
  {
   "cell_type": "markdown",
   "metadata": {},
   "source": [
    "Tuples are very similar to lists, but have the following differences:"
   ]
  },
  {
   "cell_type": "markdown",
   "metadata": {},
   "source": [
    "* You can't add elements to a tuple. Tuples have no append or extend method.\n",
    "* You can't remove elements from a tuple. Tuples have no remove or pop method.\n",
    "* You can find elements in a tuple, since this doesnt change the tuple.\n",
    "* You can also use the in operator to check if an element exists in the tuple."
   ]
  },
  {
   "cell_type": "markdown",
   "metadata": {},
   "source": [
    "In other words, Tuples are what's called \"immutable\" which is to say we can't change them. Why do we care if an object is immutable. For one thing, sometimes we simply have no choice: the person that developed the library has forced us to use immutable objects. Besides that, though, it makes your code safer if you write-protect data that does not need to be changed. Using a tuple instead of a list is like forcing a collection of data to be constant, and requires that we used special thought to override this."
   ]
  },
  {
   "cell_type": "markdown",
   "metadata": {},
   "source": [
    "Moving away from a philosophical argument towards the more practical, some tuples can be used as dictionary keys (specifically, tuples that contain immutable values like strings, numbers, and other tuples). Lists can never be used as dictionary keys, because lists are not immutable."
   ]
  },
  {
   "cell_type": "markdown",
   "metadata": {},
   "source": [
    "Creating a tuple is straightforward. We simple create a collection of data and surround them by parentheses. The general form we will be"
   ]
  },
  {
   "cell_type": "markdown",
   "metadata": {},
   "source": [
    "    tuple = ( \n",
    "             value1, \n",
    "             value2\n",
    "            )"
   ]
  },
  {
   "cell_type": "markdown",
   "metadata": {},
   "source": [
    " \n",
    "Tuples have many of the same methods and we can do many of the same operations on them that we can do with a list."
   ]
  },
  {
   "cell_type": "code",
   "execution_count": 40,
   "metadata": {
    "collapsed": false
   },
   "outputs": [
    {
     "name": "stdout",
     "output_type": "stream",
     "text": [
      "([1, 2, 3], 'one', 2, 'one')\n"
     ]
    }
   ],
   "source": [
    "# tuples can contain arbitrary objects and the objects need not be unique\n",
    "t = ([1,2,3], 'one', 2, 'one')\n",
    "print t"
   ]
  },
  {
   "cell_type": "code",
   "execution_count": 41,
   "metadata": {
    "collapsed": false
   },
   "outputs": [
    {
     "name": "stdout",
     "output_type": "stream",
     "text": [
      "[1, 2, 3]\n"
     ]
    }
   ],
   "source": [
    "# Access an element of a tuple. Like lists, the indexing is zero-referenced\n",
    "t = ([1,2,3], 'one', 2, 'one')\n",
    "print t[0]"
   ]
  },
  {
   "cell_type": "code",
   "execution_count": 42,
   "metadata": {
    "collapsed": false
   },
   "outputs": [
    {
     "name": "stdout",
     "output_type": "stream",
     "text": [
      "('one', 2)\n"
     ]
    }
   ],
   "source": [
    "# We can do all of the same indexing as we did with lists\n",
    "t = ([1,2,3], 'one', 2, 'one')\n",
    "print t[1:3]"
   ]
  },
  {
   "cell_type": "code",
   "execution_count": 43,
   "metadata": {
    "collapsed": false
   },
   "outputs": [
    {
     "data": {
      "text/plain": [
       "'one'"
      ]
     },
     "execution_count": 43,
     "metadata": {},
     "output_type": "execute_result"
    }
   ],
   "source": [
    "# We can also index them from from the last element backswards by using negative numbers\n",
    "t = ([1,2,3], 'one', 2, 'one')\n",
    "t[-1]"
   ]
  },
  {
   "cell_type": "code",
   "execution_count": 44,
   "metadata": {
    "collapsed": false
   },
   "outputs": [
    {
     "data": {
      "text/plain": [
       "4"
      ]
     },
     "execution_count": 44,
     "metadata": {},
     "output_type": "execute_result"
    }
   ],
   "source": [
    "# Determine the length of the tuple\n",
    "len(t)"
   ]
  },
  {
   "cell_type": "code",
   "execution_count": 45,
   "metadata": {
    "collapsed": false
   },
   "outputs": [
    {
     "data": {
      "text/plain": [
       "1"
      ]
     },
     "execution_count": 45,
     "metadata": {},
     "output_type": "execute_result"
    }
   ],
   "source": [
    "# we can determine the first index of a value\n",
    "t = ([1,2,3], 'one', 2, 'one')\n",
    "t.index('one')"
   ]
  },
  {
   "cell_type": "code",
   "execution_count": 46,
   "metadata": {
    "collapsed": false
   },
   "outputs": [
    {
     "data": {
      "text/plain": [
       "2"
      ]
     },
     "execution_count": 46,
     "metadata": {},
     "output_type": "execute_result"
    }
   ],
   "source": [
    "# we can count the number of instances of a value\n",
    "t.count('one')"
   ]
  },
  {
   "cell_type": "markdown",
   "metadata": {},
   "source": [
    "## Exercises"
   ]
  },
  {
   "cell_type": "markdown",
   "metadata": {},
   "source": [
    "<div class=\"alert alert-success\">\n",
    "<b>QUESTION:</b> What do `Strings`, `Lists` and `Tuples` all have in common?\n",
    "</div>"
   ]
  },
  {
   "cell_type": "markdown",
   "metadata": {},
   "source": [
    "<div class=\"alert alert-success\">\n",
    "<b>EXERCISE:</b>\n",
    "<p>Take the following Python code that stores a string:</p>\n",
    "<p></p>\n",
    "<center>str = 'X-DSPAM-Confidence:  0.8475'</center>\n",
    "<p></p>\n",
    "<p>Use find and string slicing to extract the portion of the string after the colon character and then use the float function to convert the extracted string into a floating point number. </p>\n",
    "</div>"
   ]
  },
  {
   "cell_type": "code",
   "execution_count": 47,
   "metadata": {
    "collapsed": true
   },
   "outputs": [],
   "source": [
    "# build your solution here\n",
    "str = 'X-DSPAM-Confidence: 0.8475'"
   ]
  },
  {
   "cell_type": "markdown",
   "metadata": {},
   "source": [
    "<div class=\"alert alert-success\">\n",
    "<b>EXERCISE:</b>\n",
    "<p>Take the following comma delimited string:</p>\n",
    "<p></p>\n",
    "<center>str = 'John, Doe, 123 Main Street, New York City, NY, 01234'</center>\n",
    "<p></p>\n",
    "<p>Use string methods to decompose the string into distinct fields corresponding to the text between the commas. After you have this decomposition, create a Tuple containing all of the data</p>\n",
    "</div>"
   ]
  },
  {
   "cell_type": "code",
   "execution_count": 48,
   "metadata": {
    "collapsed": true
   },
   "outputs": [],
   "source": [
    "# build your solution here\n",
    "str = 'John, Doe, 123 Main Street, New York City, NY, 01234'"
   ]
  }
 ],
 "metadata": {
  "kernelspec": {
   "display_name": "Python 2",
   "language": "python",
   "name": "python2"
  },
  "language_info": {
   "codemirror_mode": {
    "name": "ipython",
    "version": 2
   },
   "file_extension": ".py",
   "mimetype": "text/x-python",
   "name": "python",
   "nbconvert_exporter": "python",
   "pygments_lexer": "ipython2",
   "version": "2.7.11"
  }
 },
 "nbformat": 4,
 "nbformat_minor": 0
}
