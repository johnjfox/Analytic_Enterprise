{
  "cells": [
    {
      "cell_type": "markdown", 
      "metadata": {}, 
      "source": "# Input and Output"
    }, 
    {
      "cell_type": "markdown", 
      "metadata": {}, 
      "source": "# Files"
    }, 
    {
      "cell_type": "markdown", 
      "metadata": {}, 
      "source": "Python uses a file object to interact with the files on your disk drive"
    }, 
    {
      "cell_type": "code", 
      "execution_count": 1, 
      "metadata": {}, 
      "outputs": [
        {
          "data": {
            "text/plain": "01a_jupyter_notebooks.ipynb  02b_input_and_output.ipynb  Untitled1.ipynb\n01b_fundamentals.ipynb\t     'Notebook Basics.ipynb'\t data/\n02a_dataframes.ipynb\t     Untitled.ipynb\t\t images/"
          }, 
          "execution_count": 1, 
          "metadata": {}, 
          "output_type": "execute_result"
        }
      ], 
      "source": "ls"
    }, 
    {
      "cell_type": "code", 
      "execution_count": 2, 
      "metadata": {}, 
      "outputs": [], 
      "source": "file = open('data/test.txt')"
    }, 
    {
      "cell_type": "code", 
      "execution_count": 3, 
      "metadata": {}, 
      "outputs": [], 
      "source": "file.read()"
    }, 
    {
      "cell_type": "code", 
      "execution_count": 4, 
      "metadata": {}, 
      "outputs": [], 
      "source": "file.read()"
    }, 
    {
      "cell_type": "code", 
      "execution_count": 5, 
      "metadata": {}, 
      "outputs": [], 
      "source": "file.seek(0)"
    }, 
    {
      "cell_type": "code", 
      "execution_count": 6, 
      "metadata": {}, 
      "outputs": [], 
      "source": "file.read()"
    }, 
    {
      "cell_type": "code", 
      "execution_count": 7, 
      "metadata": {}, 
      "outputs": [], 
      "source": "file.seek(0)"
    }, 
    {
      "cell_type": "code", 
      "execution_count": 8, 
      "metadata": {}, 
      "outputs": [], 
      "source": "file.readlines()     # stores list entirely in memory. Could be problematic"
    }, 
    {
      "cell_type": "code", 
      "execution_count": 9, 
      "metadata": {}, 
      "outputs": [], 
      "source": "%%writefile new.txt\nFirst line\nSecond line"
    }, 
    {
      "cell_type": "code", 
      "execution_count": 10, 
      "metadata": {}, 
      "outputs": [], 
      "source": "for line in open('new.txt'):\n    print line"
    }, 
    {
      "cell_type": "markdown", 
      "metadata": {}, 
      "source": "## Print Formatting"
    }, 
    {
      "cell_type": "markdown", 
      "metadata": {}, 
      "source": "We've already seen the print command."
    }, 
    {
      "cell_type": "markdown", 
      "metadata": {}, 
      "source": "In Python 3, print is actually a function not a statement"
    }, 
    {
      "cell_type": "code", 
      "execution_count": 11, 
      "metadata": {}, 
      "outputs": [
        {
          "data": {
            "text/plain": "This is a string"
          }, 
          "execution_count": 11, 
          "metadata": {}, 
          "output_type": "execute_result"
        }
      ], 
      "source": "print 'This is a string'"
    }, 
    {
      "cell_type": "code", 
      "execution_count": 12, 
      "metadata": {}, 
      "outputs": [
        {
          "data": {
            "text/plain": "Place my variable here: String"
          }, 
          "execution_count": 12, 
          "metadata": {}, 
          "output_type": "execute_result"
        }
      ], 
      "source": "x = 'String'\n\nprint 'Place my variable here: ' + x"
    }, 
    {
      "cell_type": "code", 
      "execution_count": 13, 
      "metadata": {}, 
      "outputs": [
        {
          "data": {
            "text/plain": "Place my variable here: String"
          }, 
          "execution_count": 13, 
          "metadata": {}, 
          "output_type": "execute_result"
        }
      ], 
      "source": "x = 'String'\n\nprint 'Place my variable here: %s' %(x)"
    }, 
    {
      "cell_type": "code", 
      "execution_count": 14, 
      "metadata": {}, 
      "outputs": [
        {
          "data": {
            "text/plain": "Place my variable here: 123.45"
          }, 
          "execution_count": 14, 
          "metadata": {}, 
          "output_type": "execute_result"
        }
      ], 
      "source": "x = 123.45\n\nprint 'Place my variable here: %s' %(x)"
    }, 
    {
      "cell_type": "code", 
      "execution_count": 15, 
      "metadata": {}, 
      "outputs": [
        {
          "data": {
            "text/plain": "Floating point number: 13.14"
          }, 
          "execution_count": 15, 
          "metadata": {}, 
          "output_type": "execute_result"
        }
      ], 
      "source": "print 'Floating point number: %1.2f' %(13.145)"
    }, 
    {
      "cell_type": "code", 
      "execution_count": 16, 
      "metadata": {}, 
      "outputs": [
        {
          "data": {
            "text/plain": "Floating point number: 13.145"
          }, 
          "execution_count": 16, 
          "metadata": {}, 
          "output_type": "execute_result"
        }
      ], 
      "source": "print 'Floating point number: %1.3f' %(13.145)"
    }, 
    {
      "cell_type": "code", 
      "execution_count": 17, 
      "metadata": {}, 
      "outputs": [
        {
          "data": {
            "text/plain": "Floating point number: 13.1"
          }, 
          "execution_count": 17, 
          "metadata": {}, 
          "output_type": "execute_result"
        }
      ], 
      "source": "print 'Floating point number: %1.1f' %(13.145)"
    }, 
    {
      "cell_type": "code", 
      "execution_count": 18, 
      "metadata": {}, 
      "outputs": [
        {
          "data": {
            "text/plain": "Floating point number: 13.1450000000"
          }, 
          "execution_count": 18, 
          "metadata": {}, 
          "output_type": "execute_result"
        }
      ], 
      "source": "print 'Floating point number: %1.10f' %(13.145)"
    }, 
    {
      "cell_type": "code", 
      "execution_count": 19, 
      "metadata": {}, 
      "outputs": [
        {
          "data": {
            "text/plain": "Floating point number:             13.1450000000"
          }, 
          "execution_count": 19, 
          "metadata": {}, 
          "output_type": "execute_result"
        }
      ], 
      "source": "print 'Floating point number: %25.10f' %(13.145)"
    }, 
    {
      "cell_type": "markdown", 
      "metadata": {}, 
      "source": "## Conversion Format Methods"
    }, 
    {
      "cell_type": "markdown", 
      "metadata": {}, 
      "source": "* Convert to string"
    }, 
    {
      "cell_type": "code", 
      "execution_count": 20, 
      "metadata": {}, 
      "outputs": [
        {
          "data": {
            "text/plain": "Convert to string 123"
          }, 
          "execution_count": 20, 
          "metadata": {}, 
          "output_type": "execute_result"
        }
      ], 
      "source": "print 'Convert to string %r' %(123)"
    }, 
    {
      "cell_type": "code", 
      "execution_count": 21, 
      "metadata": {}, 
      "outputs": [
        {
          "data": {
            "text/plain": "First; hi!, Second: two, Third: 3"
          }, 
          "execution_count": 21, 
          "metadata": {}, 
          "output_type": "execute_result"
        }
      ], 
      "source": "print 'First; %s, Second: %s, Third: %s' %('hi!', 'two', 3)"
    }, 
    {
      "cell_type": "code", 
      "execution_count": 22, 
      "metadata": {}, 
      "outputs": [
        {
          "data": {
            "text/plain": "First; 2, Second: 2"
          }, 
          "execution_count": 22, 
          "metadata": {}, 
          "output_type": "execute_result"
        }
      ], 
      "source": "print 'First; %s, Second: %s' %(2,2)"
    }, 
    {
      "cell_type": "code", 
      "execution_count": 23, 
      "metadata": {}, 
      "outputs": [
        {
          "data": {
            "text/plain": "First: inserted Second: inserted"
          }, 
          "execution_count": 23, 
          "metadata": {}, 
          "output_type": "execute_result"
        }
      ], 
      "source": "print 'First: {x} Second: {x}'.format(x='inserted')"
    }, 
    {
      "cell_type": "code", 
      "execution_count": 24, 
      "metadata": {}, 
      "outputs": [
        {
          "data": {
            "text/plain": "First: inserted New: two Second: inserted"
          }, 
          "execution_count": 24, 
          "metadata": {}, 
          "output_type": "execute_result"
        }
      ], 
      "source": "print 'First: {x} New: {y} Second: {x}'.format(x='inserted', y = 'two')"
    }, 
    {
      "cell_type": "markdown", 
      "metadata": {}, 
      "source": "## References\n1. [Python Formatting](https://pyformat.info)"
    }
  ], 
  "metadata": {}, 
  "nbformat": 4, 
  "nbformat_minor": 0
}