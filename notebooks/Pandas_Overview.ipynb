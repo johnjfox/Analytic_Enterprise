{
 "cells": [
  {
   "cell_type": "markdown",
   "metadata": {},
   "source": [
    "# Pandas"
   ]
  },
  {
   "cell_type": "markdown",
   "metadata": {},
   "source": [
    "<div class=\"alert alert-info\">\n",
    "This notebook is intended only to provide an overview of the pandas package. More complete documentation can be found at\n",
    "<ul>\n",
    "<li><a href=\"http://pandas.pydata.org/pandas-docs/stable/index.html\">pandas Documentation</a></li>\n",
    "<li><a href=\"http://pandas.pydata.org/pandas-docs/stable/10min.html\">pandas in 10 minutes</a></li>\n",
    "</ul>\n",
    "</div>"
   ]
  },
  {
   "cell_type": "markdown",
   "metadata": {},
   "source": [
    "<div class=\"alert alert-danger\">\n",
    "You'll need to have an internet connection for portions of this notebook.\n",
    "</div>"
   ]
  },
  {
   "cell_type": "markdown",
   "metadata": {},
   "source": [
    "## Introduction"
   ]
  },
  {
   "cell_type": "markdown",
   "metadata": {},
   "source": [
    "Some of the leading packages for numerical (\"scientific\") computation in Python are"
   ]
  },
  {
   "cell_type": "markdown",
   "metadata": {},
   "source": [
    "* NumPy. Tools for numerical computing. In Excel the basic unit is a cell, a single number. In NumPy the basic unit is a vector (a column) or matrix (a table or worksheet), which allows us to do things with an entire column or table in one line. This facility carries over to Pandas since Pandas is built on NumPy.\n",
    "* Pandas. The leading package for managing data and our focus in this notebook.\n",
    "* Matplotlib. The leading graphics package."
   ]
  },
  {
   "cell_type": "markdown",
   "metadata": {},
   "source": [
    "All of these packages come with the Anaconda distribution, which means we already have them installed and ready to use."
   ]
  },
  {
   "cell_type": "markdown",
   "metadata": {},
   "source": [
    "Pandas is an essential part of data work in Python. Its authors describe it as \"an open source library for high-performance, easy-to-use data structures and data analysis tools in Python.\" Suffice it to say that we can do pretty much everything in Pandas that we can do in Excel -- and more. We can compute sums of rows and columns, generate new rows or columns, construct pivot tables, and lots of other things. And we can do all this with much larger files than Excel can handle."
   ]
  },
  {
   "cell_type": "markdown",
   "metadata": {},
   "source": [
    "### Overview. \n",
    "In this notebook, we'll introduce Pandas, the Python package devoted to data management. We'll use Pandas to read spreadsheet data into Python and describe the \"dataframe\" this produces."
   ]
  },
  {
   "cell_type": "markdown",
   "metadata": {},
   "source": [
    "We're ready to look at some data. You probably remember that our typical program consists of data input, data management, and graphics. In this notebook, our focus is on the data input, although we'll talk briefly about the data management as well. More concretely, we explain how to get text file data into Python."
   ]
  },
  {
   "cell_type": "markdown",
   "metadata": {},
   "source": [
    "### Reminders"
   ]
  },
  {
   "cell_type": "markdown",
   "metadata": {},
   "source": [
    "**Objects and methods**. Recall that we apply the method *justdoit* to the object *x* with *x.justdoit*."
   ]
  },
  {
   "cell_type": "markdown",
   "metadata": {},
   "source": [
    "**Help**. We can get help in the Jupyter console. For the hypothetical *x.justdoit*, we would type \n",
    "*x.justdoit?* in the Jupyter console."
   ]
  },
  {
   "cell_type": "markdown",
   "metadata": {},
   "source": [
    "**Data structures**. That's the term we use for specific organizations of data. Examples are lists, tuples, and dictionaries. Each has a specific structure and a set of methods that can be applied. Lists are (ordered) collections of objects between square brackets: *numberlist = [1, -5, 2]*. Dictionaries are (unordered) pairs of items between curly brackets: *namedict = {'Brady': 12, 'Gronk': 87}*. The first item in each pair is the \"key,\" the second is the \"value.\"\""
   ]
  },
  {
   "cell_type": "markdown",
   "metadata": {},
   "source": [
    "**Integers, floats, and strings.** Three common types of data."
   ]
  },
  {
   "cell_type": "markdown",
   "metadata": {},
   "source": [
    "**Function returns** We refer to the output of a function as its return. We would say, for example, that the function type(x) returns the type of the input object x. We capture the return with an assignment: *xtype = type(x)*."
   ]
  },
  {
   "cell_type": "markdown",
   "metadata": {},
   "source": [
    "## Importing the libraries that we'll use"
   ]
  },
  {
   "cell_type": "code",
   "execution_count": 1,
   "metadata": {},
   "outputs": [],
   "source": [
    "# Our standard set of imports for pandas, numpy and matplotlib\n",
    "import pandas as pd\n",
    "import numpy as np\n",
    "import matplotlib.pyplot as plt"
   ]
  },
  {
   "cell_type": "markdown",
   "metadata": {},
   "source": [
    "For our purposes, the most useful data structures offered up by pandas are **DataFrame** and **Series**, and in many ways they will be our \"go to\" structures for representing and manipulating data as we perform our analytics."
   ]
  },
  {
   "cell_type": "markdown",
   "metadata": {},
   "source": [
    "## DataFrame"
   ]
  },
  {
   "cell_type": "markdown",
   "metadata": {},
   "source": [
    "A DataFrame in pandas is a tabular representation of data. You can sort of think of it as being the equivalent to a worksheet in Microsoft Excel. As always, the easiest way to get a handle on this is to actually grab some data."
   ]
  },
  {
   "cell_type": "markdown",
   "metadata": {},
   "source": [
    "### Creating a DataFrame"
   ]
  },
  {
   "cell_type": "markdown",
   "metadata": {},
   "source": [
    "First, let's take a look at the data in the file so we can compare it later to the date we actually read."
   ]
  },
  {
   "cell_type": "markdown",
   "metadata": {},
   "source": [
    "```\n",
    "iris.data.csv:\n",
    "\n",
    "ID,Sepal_Length,Sepal_Width,Petal_Length,Petal_Width,Class\n",
    "1,5.1,3.5,1.4,0.2,Iris-setosa\n",
    "2,4.9,3,1.4,0.2,Iris-setosa\n",
    "3,4.7,3.2,1.3,0.2,Iris-setosa\n",
    "4,4.6,3.1,1.5,0.2,Iris-setosa\n",
    "5,5,3.6,1.4,0.2,Iris-setosa\n",
    "6,5.4,3.9,1.7,0.4,Iris-setosa\n",
    "7,4.6,3.4,1.4,0.3,Iris-setosa\n",
    "8,5,3.4,1.5,0.2,Iris-setosa\n",
    "```"
   ]
  },
  {
   "cell_type": "markdown",
   "metadata": {},
   "source": [
    "Now, let's write a little python to read this file in and create a DataFrame:"
   ]
  },
  {
   "cell_type": "code",
   "execution_count": 2,
   "metadata": {},
   "outputs": [
    {
     "name": "stdout",
     "output_type": "stream",
     "text": [
      "   ID  Sepal_Length  Sepal_Width  Petal_Length  Petal_Width        Class\n",
      "0   1           5.1          3.5           1.4          0.2  Iris-setosa\n",
      "1   2           4.9          3.0           1.4          0.2  Iris-setosa\n",
      "2   3           4.7          3.2           1.3          0.2  Iris-setosa\n",
      "3   4           4.6          3.1           1.5          0.2  Iris-setosa\n",
      "4   5           5.0          3.6           1.4          0.2  Iris-setosa\n",
      "5   6           5.4          3.9           1.7          0.4  Iris-setosa\n",
      "6   7           4.6          3.4           1.4          0.3  Iris-setosa\n",
      "7   8           5.0          3.4           1.5          0.2  Iris-setosa\n",
      "8   9           4.4          2.9           1.4          0.2  Iris-setosa\n",
      "9  10           4.9          3.1           1.5          0.1  Iris-setosa\n"
     ]
    }
   ],
   "source": [
    "# Let's import the pandas library\n",
    "import pandas as pd\n",
    "\n",
    "# Let's set up a URL to the file, which in this case is hosted on github\n",
    "base_url = 'https://raw.githubusercontent.com/johnjfox/Analytic_Enterprise/master/data/'\n",
    "data_url = 'iris/iris.data.csv'\n",
    "url = base_url + data_url\n",
    "\n",
    "# Now let's read the file\n",
    "iris_dataframe = pd.read_csv(url)\n",
    "\n",
    "# Finally, let's print the first few lines\n",
    "print iris_dataframe[0:10]"
   ]
  },
  {
   "cell_type": "markdown",
   "metadata": {},
   "source": [
    "Let's take a look at what just happened there:"
   ]
  },
  {
   "cell_type": "markdown",
   "metadata": {},
   "source": [
    "1. First, we set up a URL to a data set which happens to be a csv, or \"comma separated values\", text file on my Github account. Github is an internet based revision control system which has a lot of great properties, such as being free :) In this case, we're using a rather famous data set which contains data on some samples of irises. \n",
    "2. We created a new object called a DataFrame by reading in the contents of this URL using the *read_csv()* function. \n",
    "3. We assigned this newly formed DataFrame to a variable called iris_dataframe\n",
    "3. Finally, we printed the first 10 rows of the DataFrame.\n",
    "4. As always in Python, the data is \"zero-referenced\""
   ]
  },
  {
   "cell_type": "markdown",
   "metadata": {},
   "source": [
    "What we obtained through this process is a table is a table of data that represents the contents of the file. The first column of the table is new, however the rest of it is essentially the same as what we saw in the file itself.  The data structure that we just created is called a DataFrame and, as I mentioned before, it's more or less equivalent to what you might rememeber as a worksheet in Excel."
   ]
  },
  {
   "cell_type": "markdown",
   "metadata": {},
   "source": [
    "Generally, a DataFrame consists of three components: a table of data, column labels, and row labels. Typically, columns are variables and the column labels give us their names. In our example, the second column has the name Sepal_Length and its values follow below it. The rows are then observations, and the row labels give us their names. This type of tabular organization is quite typical for the data that we'll be seeing, however occasionally we'll come across data in some other form. When we do, we'll use Python to reorganize it so that it's in a form we're more used to."
   ]
  },
  {
   "cell_type": "markdown",
   "metadata": {},
   "source": [
    "While we're talking about the creation of DataFrames, you should know that we can create them directly from data as well. In other words, we don't always have to begin with a file (although for data analysis that's a pretty typical starting point). As an example, we can use a Python dictionary to create a DataFrame."
   ]
  },
  {
   "cell_type": "code",
   "execution_count": 3,
   "metadata": {},
   "outputs": [
    {
     "name": "stdout",
     "output_type": "stream",
     "text": [
      "         Class  ID  Petal_Length  Petal_Width  Sepal_Length  Sepal_Width\n",
      "0  Iris-setosa   1           1.4          0.2           5.1          3.5\n",
      "1  Iris-setosa   2           1.4          0.2           4.9          3.0\n",
      "2  Iris-setosa   3           1.3          0.2           4.7          3.2\n",
      "3  Iris-setosa   4           1.5          0.2           4.6          3.1\n",
      "4  Iris-setosa   5           1.4          0.2           5.0          3.6\n"
     ]
    }
   ],
   "source": [
    "# A representative extract of our iris data\n",
    "# I'll actually create this as a function since I'll be using it several times in this notebook\n",
    "def setupDF():\n",
    "    data = {'ID': [1, 2, 3, 4, 5],\n",
    "            'Sepal_Length': [5.1, 4.9, 4.7, 4.6, 5],\n",
    "            'Sepal_Width': [3.5, 3, 3.2, 3.1, 3.6],\n",
    "            'Petal_Length': [1.4, 1.4, 1.3, 1.5, 1.4],\n",
    "            'Petal_Width': [0.2, 0.2, 0.2, 0.2, 0.2],\n",
    "            'Class': ['Iris-setosa', 'Iris-setosa', 'Iris-setosa', 'Iris-setosa', 'Iris-setosa']\n",
    "            }\n",
    "\n",
    "    df = pd.DataFrame(data)\n",
    "    return df\n",
    "\n",
    "# with that all set up, let's see what we get\n",
    "df = setupDF()\n",
    "print df"
   ]
  },
  {
   "cell_type": "markdown",
   "metadata": {},
   "source": [
    "We'll come back to use this sample dataset in some of our later examples."
   ]
  },
  {
   "cell_type": "markdown",
   "metadata": {},
   "source": [
    "**Example: Limiting the number of rows**"
   ]
  },
  {
   "cell_type": "code",
   "execution_count": 4,
   "metadata": {},
   "outputs": [
    {
     "name": "stdout",
     "output_type": "stream",
     "text": [
      "   ID  Sepal_Length  Sepal_Width  Petal_Length  Petal_Width        Class\n",
      "0   1           5.1          3.5           1.4          0.2  Iris-setosa\n",
      "1   2           4.9          3.0           1.4          0.2  Iris-setosa\n",
      "2   3           4.7          3.2           1.3          0.2  Iris-setosa\n",
      "3   4           4.6          3.1           1.5          0.2  Iris-setosa\n",
      "4   5           5.0          3.6           1.4          0.2  Iris-setosa\n"
     ]
    }
   ],
   "source": [
    "import pandas as pd\n",
    "\n",
    "base_url = 'https://raw.githubusercontent.com/johnjfox/Analytic_Enterprise/master/data/'\n",
    "data_url = 'iris/iris.data.csv'\n",
    "url = base_url + data_url\n",
    "\n",
    "iris_dataframe_small = pd.read_csv(url, nrows=5)\n",
    "\n",
    "# Let's print out the results, limiting our answer to the first 10 rows to avoid clutter\n",
    "print iris_dataframe_small"
   ]
  },
  {
   "cell_type": "markdown",
   "metadata": {},
   "source": [
    "**Example: Replacing values by NaN**"
   ]
  },
  {
   "cell_type": "markdown",
   "metadata": {},
   "source": [
    "pandas primarily uses the value np.nan to represent missing data. By default any variable which has the value NaN will not included in computations. As we'll see over time, that's a pretty useful capability. Comprehensively dealing with missing or dirty data is beyond the scope of what we're going to do in this lesson, but it's interesting to note that the *read_csv()* function offers up the ability to replace specific values with NaN as they are read in."
   ]
  },
  {
   "cell_type": "code",
   "execution_count": 5,
   "metadata": {},
   "outputs": [
    {
     "name": "stdout",
     "output_type": "stream",
     "text": [
      "   ID  Sepal_Length  Sepal_Width  Petal_Length  Petal_Width        Class\n",
      "0   1           5.1          3.5           1.4          NaN  Iris-setosa\n",
      "1   2           4.9          3.0           1.4          NaN  Iris-setosa\n",
      "2   3           4.7          3.2           1.3          NaN  Iris-setosa\n",
      "3   4           4.6          3.1           1.5          NaN  Iris-setosa\n",
      "4   5           5.0          3.6           1.4          NaN  Iris-setosa\n",
      "5   6           5.4          3.9           1.7          0.4  Iris-setosa\n",
      "6   7           4.6          3.4           1.4          0.3  Iris-setosa\n",
      "7   8           5.0          3.4           1.5          NaN  Iris-setosa\n",
      "8   9           4.4          2.9           1.4          NaN  Iris-setosa\n",
      "9  10           4.9          3.1           1.5          0.1  Iris-setosa\n"
     ]
    }
   ],
   "source": [
    "import pandas as pd\n",
    "\n",
    "base_url = 'https://raw.githubusercontent.com/johnjfox/Analytic_Enterprise/master/data/'\n",
    "data_url = 'iris/iris.data.csv'\n",
    "url = base_url + data_url\n",
    "\n",
    "iris_dataframe_nan = pd.read_csv(url, na_values=[0.2])\n",
    "\n",
    "# Let's print out the results, limiting our answer to the first 10 rows to avoid clutter\n",
    "print iris_dataframe_nan[0:10]"
   ]
  },
  {
   "cell_type": "markdown",
   "metadata": {},
   "source": [
    "If you're in a situation where you are **not** reading your data from a csv file, that's ok too. pandas offers a number of other functions for creating DataFrames, including *read_excel()* which does pretty much you might expect it to do."
   ]
  },
  {
   "cell_type": "markdown",
   "metadata": {},
   "source": [
    "<div class=\"alert alert-success\">\n",
    "**Exercise.** Use this notebook cell (or go back and edit one of the ones we've already used) so that you are trying to obtain a file at \"iris/broken_link.data.csv\". What happened?\n",
    "</div>"
   ]
  },
  {
   "cell_type": "code",
   "execution_count": 6,
   "metadata": {},
   "outputs": [],
   "source": [
    "# create your answer to the exercise here"
   ]
  },
  {
   "cell_type": "markdown",
   "metadata": {},
   "source": [
    "<div class=\"alert alert-success\">\n",
    "**Exercise:** What happens if you add the argument *index_col=0* to the *read_csv()* statement? How does *iris_dataframe* change?\n",
    "</div>"
   ]
  },
  {
   "cell_type": "code",
   "execution_count": 7,
   "metadata": {},
   "outputs": [],
   "source": [
    "# create your answer to the exercise here"
   ]
  },
  {
   "cell_type": "markdown",
   "metadata": {},
   "source": [
    "### Working with DataFrames"
   ]
  },
  {
   "cell_type": "markdown",
   "metadata": {},
   "source": [
    "As I mentioned before, DataFrames consist of a table of data, column labels, and row labels. Typically, columns are used to represent variables and the column labels give us their names. In our original example, the second column has the name Sepal_Length and its values follow below it. In one representation of the data, the rows can be used to capture all of the variables associated with a single observation. In this case the row labels give us a way to label an observation with a name so that it can be easily refered to.  In Python, these row labels are typically refered to as the \"index\""
   ]
  },
  {
   "cell_type": "markdown",
   "metadata": {},
   "source": [
    "``` \n",
    "ID = 5\n",
    "Sepal_Length = 5.0\n",
    "Sepal_Width = 3.6\n",
    "Petal_Length = 1.4\n",
    "Petal_Width = 0.2 \n",
    "Class = iris-setosa\n",
    "```"
   ]
  },
  {
   "cell_type": "markdown",
   "metadata": {},
   "source": [
    "**Working with the variables in a DataFrame**\n",
    "Having gotten all of our data into a DataFrame, we probably want to do something useful with it. For instance, we might want to access all of the measurements that were taken of $Sepal\\_Length$. We do this using a notation that's reminiscent of the list functionality we've seen previously, however in this case we'll actually use the name of the column, for instance:"
   ]
  },
  {
   "cell_type": "code",
   "execution_count": 8,
   "metadata": {},
   "outputs": [
    {
     "name": "stdout",
     "output_type": "stream",
     "text": [
      "0    5.1\n",
      "1    4.9\n",
      "2    4.7\n",
      "3    4.6\n",
      "4    5.0\n",
      "Name: Sepal_Length, dtype: float64\n"
     ]
    }
   ],
   "source": [
    "# Let's make sure we have a clean copy of our sample data\n",
    "df = setupDF()\n",
    "\n",
    "print df['Sepal_Length']"
   ]
  },
  {
   "cell_type": "markdown",
   "metadata": {},
   "source": [
    "An alternative syntax for doing the same thing is to simply append the DataFrame name by the column name after a period as"
   ]
  },
  {
   "cell_type": "code",
   "execution_count": 9,
   "metadata": {},
   "outputs": [
    {
     "name": "stdout",
     "output_type": "stream",
     "text": [
      "0    5.1\n",
      "1    4.9\n",
      "2    4.7\n",
      "3    4.6\n",
      "4    5.0\n",
      "Name: Sepal_Length, dtype: float64\n"
     ]
    }
   ],
   "source": [
    "# Let's make sure we have a clean copy of our sample data\n",
    "df = setupDF()\n",
    "\n",
    "print df.Sepal_Length"
   ]
  },
  {
   "cell_type": "markdown",
   "metadata": {},
   "source": [
    "Be careful with this form of the syntax though! If the column name has a space in it, or if it's anything other than a string (say an integer), then you'll run into problems."
   ]
  },
  {
   "cell_type": "markdown",
   "metadata": {},
   "source": [
    "Once again, let's take a look at what just happened here. First, the results of the operation is **all** of the data in the column, not just a single element or some range. Each column in a DataFrame is represented using a class of objects called a Series, which is just a DataFrame containing a single column of data. Although you may be thinking to yourself \"that's interesting, but who cares\", it turns out that being able to access all of the data using this type of shorthand allows us to manipulate the contents of a DataFrame very easily. For instance, let's suppose that we want to create a new variable $ratio$ defined as Sepal\\_Length / Sepal\\_Width"
   ]
  },
  {
   "cell_type": "markdown",
   "metadata": {},
   "source": [
    "You might imagine that you'd do this by using loops or list comprehensions to create something like following:"
   ]
  },
  {
   "cell_type": "code",
   "execution_count": 10,
   "metadata": {},
   "outputs": [
    {
     "name": "stdout",
     "output_type": "stream",
     "text": [
      "[1.4571428571428571, 1.6333333333333335, 1.46875, 1.4838709677419353, 1.3888888888888888]\n"
     ]
    }
   ],
   "source": [
    "# Let's make sure we have a clean copy of our sample data\n",
    "df = setupDF()\n",
    "\n",
    "# Now, let's compute a new variable using a for loop\n",
    "ratio = list()\n",
    "for index in range(0,5):\n",
    "    ratio.append(df.Sepal_Length[index] / df.Sepal_Width[index])\n",
    "\n",
    "print ratio"
   ]
  },
  {
   "cell_type": "markdown",
   "metadata": {},
   "source": [
    "However, the beauty of pandas is that it allows us to do this MUCH more concisely using what's called a \"vectorized\" operation:"
   ]
  },
  {
   "cell_type": "code",
   "execution_count": 11,
   "metadata": {},
   "outputs": [
    {
     "name": "stdout",
     "output_type": "stream",
     "text": [
      "0    1.457143\n",
      "1    1.633333\n",
      "2    1.468750\n",
      "3    1.483871\n",
      "4    1.388889\n",
      "dtype: float64\n"
     ]
    }
   ],
   "source": [
    "# Let's make sure we have a clean copy of our sample data\n",
    "df = setupDF()\n",
    "\n",
    "# Let's compute a new DataFrame using pandas vectorized operations\n",
    "ratio = df.Sepal_Length / df.Sepal_Width\n",
    "\n",
    "print ratio"
   ]
  },
  {
   "cell_type": "markdown",
   "metadata": {},
   "source": [
    "A few comments on what just transpired:\n",
    "1. In this simple example, our vectorized operation was division. Arguably the single most important part of pandas and numpy (the numerical processing library that pandas is built on) are the large number of vectorized operations provided. It's not just simple arithmetic; it's essentially anything you can imagine doing with a table or an array.\n",
    "2. Why is this important? Well, it's probably not at all obvious from this extremely small and simple example, but using vectorized operations is MUCH MUCH MUCH faster than looping over data in Python. If you can use vectorized operations, you should. It will take some time to get used to this notion, but it will be well worth the effort.\n",
    "3. Now, as you probably noticed, the results of these two operations aren't 100% exactly the same. The first approach resulted in a list. The second approach left everything as a DataFrame (or more precisely a Series). If we absolutely need to obtain a list for some reason, we can always convert the result of the DataFrame into a list when we're done."
   ]
  },
  {
   "cell_type": "markdown",
   "metadata": {},
   "source": [
    "As it turns out, we can use vectorized operations to create new variables within our dataframe:"
   ]
  },
  {
   "cell_type": "code",
   "execution_count": 12,
   "metadata": {},
   "outputs": [
    {
     "name": "stdout",
     "output_type": "stream",
     "text": [
      "         Class  ID  Petal_Length  Petal_Width  Sepal_Length  Sepal_Width  \\\n",
      "0  Iris-setosa   1           1.4          0.2           5.1          3.5   \n",
      "1  Iris-setosa   2           1.4          0.2           4.9          3.0   \n",
      "2  Iris-setosa   3           1.3          0.2           4.7          3.2   \n",
      "3  Iris-setosa   4           1.5          0.2           4.6          3.1   \n",
      "4  Iris-setosa   5           1.4          0.2           5.0          3.6   \n",
      "\n",
      "   New_variable  \n",
      "0      1.457143  \n",
      "1      1.633333  \n",
      "2      1.468750  \n",
      "3      1.483871  \n",
      "4      1.388889  \n"
     ]
    }
   ],
   "source": [
    "# Let's make sure we have a clean copy of our sample data\n",
    "df = setupDF()\n",
    "\n",
    "# Not only can we create a new variable, we can insert it directly into our existing DataFrame\n",
    "df['New_variable'] = df['Sepal_Length'] / df['Sepal_Width']\n",
    "\n",
    "print df"
   ]
  },
  {
   "cell_type": "markdown",
   "metadata": {},
   "source": [
    "One thing to note here. Remember the shorthand notion for referencing a variable, such as df.Sepal_Length? it turns out that we can't use this syntax for assigning a new variable within the DataFrame."
   ]
  },
  {
   "cell_type": "code",
   "execution_count": 13,
   "metadata": {},
   "outputs": [
    {
     "name": "stdout",
     "output_type": "stream",
     "text": [
      "         Class  ID  Petal_Length  Petal_Width  Sepal_Length  Sepal_Width\n",
      "0  Iris-setosa   1           1.4          0.2           5.1          3.5\n",
      "1  Iris-setosa   2           1.4          0.2           4.9          3.0\n",
      "2  Iris-setosa   3           1.3          0.2           4.7          3.2\n",
      "3  Iris-setosa   4           1.5          0.2           4.6          3.1\n",
      "4  Iris-setosa   5           1.4          0.2           5.0          3.6\n"
     ]
    }
   ],
   "source": [
    "# Let's make sure we have a clean copy of our sample data\n",
    "df = setupDF()\n",
    "\n",
    "# unfortunately, look what happens if we try to use the other form of the variable access notation\n",
    "df.another_new_variable = df['Sepal_Length'] + df['Sepal_Width']\n",
    "\n",
    "print df"
   ]
  },
  {
   "cell_type": "markdown",
   "metadata": {},
   "source": [
    "<div class=\"alert alert-success\">\n",
    "**Exercise.** Use this notebook cell (or go back and edit one of the ones we've already used) to create a new variable in the *iris_dataframe* DataFrame which computes and approximation to the petal area and sepal area by multiplying the length and width of the petal and sepal, respectively. \n",
    "</div>"
   ]
  },
  {
   "cell_type": "code",
   "execution_count": 14,
   "metadata": {},
   "outputs": [],
   "source": [
    "# create your answer to the exercise here"
   ]
  },
  {
   "cell_type": "markdown",
   "metadata": {},
   "source": [
    "#### Simple Exploratory Analysis on DataFrames"
   ]
  },
  {
   "cell_type": "markdown",
   "metadata": {},
   "source": [
    "Although reading data from a file is useful, it's (hopefully) not the most exciting thing that we'll ever do with our data. pandas offers are fairly broad array of methods on DataFrames which we can use to extract descriptive statistics. Notice that the statistics are run across all of the variables."
   ]
  },
  {
   "cell_type": "markdown",
   "metadata": {},
   "source": [
    "A complete list of the DataFrame statistical functions can be found in the pythons documentaton, but some of the more interesting functions include:"
   ]
  },
  {
   "cell_type": "markdown",
   "metadata": {},
   "source": [
    "|Method\t| Description |\n",
    "| --- | --- |\n",
    "|count() | \tNumber of non-null observations |\n",
    "|sum() | Sum of values | \n",
    "|mean() | Mean of values | \n",
    "|median() | Arithmetic median of values | \n",
    "|min() | Minimum |\n",
    "|max() | Maximum |\n",
    "|std() | Bessel-corrected sample standard deviation |\n",
    "|var() | Unbiased variance |\n",
    "|skew() | Sample skewness (3rd moment) |\n",
    "|kurt()\t| Sample kurtosis (4th moment) |\n",
    "|quantile() | Sample quantile (value at %) |\n",
    "|apply() | Generic apply |\n",
    "|cov() | Unbiased covariance (binary) |\n",
    "|corr() | Correlation (binary) |\n",
    "| describe() | multiple summary statistics |"
   ]
  },
  {
   "cell_type": "markdown",
   "metadata": {},
   "source": [
    "Some examples of applying these functions are provided in the next few cells:"
   ]
  },
  {
   "cell_type": "code",
   "execution_count": 15,
   "metadata": {},
   "outputs": [
    {
     "name": "stdout",
     "output_type": "stream",
     "text": [
      "   ID  Sepal_Length  Sepal_Width  Petal_Length  Petal_Width        Class\n",
      "0   1           5.1          3.5           1.4          0.2  Iris-setosa\n",
      "1   2           4.9          3.0           1.4          0.2  Iris-setosa\n",
      "2   3           4.7          3.2           1.3          0.2  Iris-setosa\n",
      "3   4           4.6          3.1           1.5          0.2  Iris-setosa\n",
      "4   5           5.0          3.6           1.4          0.2  Iris-setosa\n",
      "\n",
      "\n",
      "The mean: \n",
      "\n",
      "ID              75.500000\n",
      "Sepal_Length     5.843333\n",
      "Sepal_Width      3.054000\n",
      "Petal_Length     3.758667\n",
      "Petal_Width      1.198667\n",
      "dtype: float64\n",
      "\n",
      "\n",
      "The std: \n",
      "\n",
      "ID              43.445368\n",
      "Sepal_Length     0.828066\n",
      "Sepal_Width      0.433594\n",
      "Petal_Length     1.764420\n",
      "Petal_Width      0.763161\n",
      "dtype: float64\n",
      "\n",
      "\n",
      "A summary level description: \n",
      "\n",
      "               ID  Sepal_Length  Sepal_Width  Petal_Length  Petal_Width\n",
      "count  150.000000    150.000000   150.000000    150.000000   150.000000\n",
      "mean    75.500000      5.843333     3.054000      3.758667     1.198667\n",
      "std     43.445368      0.828066     0.433594      1.764420     0.763161\n",
      "min      1.000000      4.300000     2.000000      1.000000     0.100000\n",
      "25%     38.250000      5.100000     2.800000      1.600000     0.300000\n",
      "50%     75.500000      5.800000     3.000000      4.350000     1.300000\n",
      "75%    112.750000      6.400000     3.300000      5.100000     1.800000\n",
      "max    150.000000      7.900000     4.400000      6.900000     2.500000\n",
      "\n",
      "\n",
      "The Petal_Width mean: \n",
      "\n",
      "1.19866666667\n"
     ]
    }
   ],
   "source": [
    "# before we get started let's just remind ourselves of the data contents\n",
    "\n",
    "print iris_dataframe.head(5)\n",
    "\n",
    "# Now, let's run through some simple statistics\n",
    "print \"\\n\\nThe mean: \\n\\n\", iris_dataframe.mean()\n",
    "print \"\\n\\nThe std: \\n\\n\", iris_dataframe.std()\n",
    "print \"\\n\\nA summary level description: \\n\\n\", iris_dataframe.describe()\n",
    "\n",
    "# How about descriptive stats for a single variable? We can get that by extracting the variable\n",
    "print \"\\n\\nThe Petal_Width mean: \\n\\n\", iris_dataframe.Petal_Width.mean()"
   ]
  },
  {
   "cell_type": "markdown",
   "metadata": {},
   "source": [
    "#### Basic Patterns for Working with DataFrames"
   ]
  },
  {
   "cell_type": "markdown",
   "metadata": {},
   "source": [
    "As you begin to work with larger collections of data, you'll realize that there are a few patterns that come up over and over. In this section, we'll cover a few of the most common using our iris data set example."
   ]
  },
  {
   "cell_type": "markdown",
   "metadata": {},
   "source": [
    "**Pretty printing a DataFrame**"
   ]
  },
  {
   "cell_type": "markdown",
   "metadata": {},
   "source": [
    "We can pretty print a dataframe simply by evaluating it in the notebook"
   ]
  },
  {
   "cell_type": "code",
   "execution_count": 16,
   "metadata": {},
   "outputs": [
    {
     "data": {
      "text/html": [
       "<div>\n",
       "<table border=\"1\" class=\"dataframe\">\n",
       "  <thead>\n",
       "    <tr style=\"text-align: right;\">\n",
       "      <th></th>\n",
       "      <th>Class</th>\n",
       "      <th>ID</th>\n",
       "      <th>Petal_Length</th>\n",
       "      <th>Petal_Width</th>\n",
       "      <th>Sepal_Length</th>\n",
       "      <th>Sepal_Width</th>\n",
       "    </tr>\n",
       "  </thead>\n",
       "  <tbody>\n",
       "    <tr>\n",
       "      <th>0</th>\n",
       "      <td>Iris-setosa</td>\n",
       "      <td>1</td>\n",
       "      <td>1.4</td>\n",
       "      <td>0.2</td>\n",
       "      <td>5.1</td>\n",
       "      <td>3.5</td>\n",
       "    </tr>\n",
       "    <tr>\n",
       "      <th>1</th>\n",
       "      <td>Iris-setosa</td>\n",
       "      <td>2</td>\n",
       "      <td>1.4</td>\n",
       "      <td>0.2</td>\n",
       "      <td>4.9</td>\n",
       "      <td>3.0</td>\n",
       "    </tr>\n",
       "    <tr>\n",
       "      <th>2</th>\n",
       "      <td>Iris-setosa</td>\n",
       "      <td>3</td>\n",
       "      <td>1.3</td>\n",
       "      <td>0.2</td>\n",
       "      <td>4.7</td>\n",
       "      <td>3.2</td>\n",
       "    </tr>\n",
       "    <tr>\n",
       "      <th>3</th>\n",
       "      <td>Iris-setosa</td>\n",
       "      <td>4</td>\n",
       "      <td>1.5</td>\n",
       "      <td>0.2</td>\n",
       "      <td>4.6</td>\n",
       "      <td>3.1</td>\n",
       "    </tr>\n",
       "    <tr>\n",
       "      <th>4</th>\n",
       "      <td>Iris-setosa</td>\n",
       "      <td>5</td>\n",
       "      <td>1.4</td>\n",
       "      <td>0.2</td>\n",
       "      <td>5.0</td>\n",
       "      <td>3.6</td>\n",
       "    </tr>\n",
       "  </tbody>\n",
       "</table>\n",
       "</div>"
      ],
      "text/plain": [
       "         Class  ID  Petal_Length  Petal_Width  Sepal_Length  Sepal_Width\n",
       "0  Iris-setosa   1           1.4          0.2           5.1          3.5\n",
       "1  Iris-setosa   2           1.4          0.2           4.9          3.0\n",
       "2  Iris-setosa   3           1.3          0.2           4.7          3.2\n",
       "3  Iris-setosa   4           1.5          0.2           4.6          3.1\n",
       "4  Iris-setosa   5           1.4          0.2           5.0          3.6"
      ]
     },
     "execution_count": 16,
     "metadata": {},
     "output_type": "execute_result"
    }
   ],
   "source": [
    "# Let's make sure we have a clean copy of our sample data\n",
    "df = setupDF()\n",
    "\n",
    "df"
   ]
  },
  {
   "cell_type": "markdown",
   "metadata": {},
   "source": [
    "**Renaming all of the variables in a DataFrame**"
   ]
  },
  {
   "cell_type": "markdown",
   "metadata": {},
   "source": [
    "We can rename all of the variable names in place, but be careful that you know the specific order of the variables in the DataFrame."
   ]
  },
  {
   "cell_type": "code",
   "execution_count": 17,
   "metadata": {},
   "outputs": [
    {
     "name": "stdout",
     "output_type": "stream",
     "text": [
      "            X1  X2   X3   X4   X5   X6\n",
      "0  Iris-setosa   1  1.4  0.2  5.1  3.5\n",
      "1  Iris-setosa   2  1.4  0.2  4.9  3.0\n",
      "2  Iris-setosa   3  1.3  0.2  4.7  3.2\n",
      "3  Iris-setosa   4  1.5  0.2  4.6  3.1\n",
      "4  Iris-setosa   5  1.4  0.2  5.0  3.6\n"
     ]
    }
   ],
   "source": [
    "# Let's make sure we have a clean copy of our sample data\n",
    "df = setupDF()\n",
    "\n",
    "df.columns = ['X1', 'X2', 'X3', 'X4', 'X5', 'X6']\n",
    "\n",
    "print df"
   ]
  },
  {
   "cell_type": "markdown",
   "metadata": {},
   "source": [
    "Since the columns names are available to us as a list, we can also use list comprehensions to perform various manipulations very succinctly."
   ]
  },
  {
   "cell_type": "markdown",
   "metadata": {},
   "source": [
    "**Renaming a single variable in a DataFrame**"
   ]
  },
  {
   "cell_type": "markdown",
   "metadata": {},
   "source": [
    "Alternatively, you can rename the variables one by one using the *rename()* function. Here, the argument to the *rename()* function is a dictionary that maps the old name (the \"key\" Petal_Width) with the new name (the \"value\" Johns_Column). If we want to change more than one variable name, we simply add more items to the dictionary."
   ]
  },
  {
   "cell_type": "markdown",
   "metadata": {},
   "source": [
    "In some ways I find this approach to renaming variable to be safer than the previous approach since it avoids the  issue of needing to know the order of the variables, and I tend to use it even if I'm changing all of the variable names."
   ]
  },
  {
   "cell_type": "markdown",
   "metadata": {},
   "source": [
    "One thing to note however, the default functionality of *rename()* may not be quite what you'd expect. To get what you;d expect, you'll either need to use the \"inplace\" argument for *rename()* or assign the results of *rename()* to a new variable."
   ]
  },
  {
   "cell_type": "code",
   "execution_count": 18,
   "metadata": {},
   "outputs": [
    {
     "name": "stdout",
     "output_type": "stream",
     "text": [
      "WITHOUT A COPY OR USING inplace \n",
      "\n",
      "         Class  ID  Petal_Length  Petal_Width  Sepal_Length  Sepal_Width\n",
      "0  Iris-setosa   1           1.4          0.2           5.1          3.5\n",
      "1  Iris-setosa   2           1.4          0.2           4.9          3.0\n",
      "2  Iris-setosa   3           1.3          0.2           4.7          3.2\n",
      "3  Iris-setosa   4           1.5          0.2           4.6          3.1\n",
      "4  Iris-setosa   5           1.4          0.2           5.0          3.6\n",
      "\n",
      "\n",
      "USING inplace = True \n",
      "\n",
      "         Class  ID  Petal_Length  Johns_Column  Sepal_Length  Sepal_Width\n",
      "0  Iris-setosa   1           1.4           0.2           5.1          3.5\n",
      "1  Iris-setosa   2           1.4           0.2           4.9          3.0\n",
      "2  Iris-setosa   3           1.3           0.2           4.7          3.2\n",
      "3  Iris-setosa   4           1.5           0.2           4.6          3.1\n",
      "4  Iris-setosa   5           1.4           0.2           5.0          3.6\n",
      "\n",
      "\n",
      "USING A COPY \n",
      "\n",
      "         Class  ID  Petal_Length  Johns_Column  Sepal_Length  Sepal_Width\n",
      "0  Iris-setosa   1           1.4           0.2           5.1          3.5\n",
      "1  Iris-setosa   2           1.4           0.2           4.9          3.0\n",
      "2  Iris-setosa   3           1.3           0.2           4.7          3.2\n",
      "3  Iris-setosa   4           1.5           0.2           4.6          3.1\n",
      "4  Iris-setosa   5           1.4           0.2           5.0          3.6\n"
     ]
    }
   ],
   "source": [
    "# Let's make sure we have a clean copy of our sample data\n",
    "df = setupDF()\n",
    "\n",
    "# The approach that you may have thought would work\n",
    "print \"WITHOUT A COPY OR USING inplace \\n\\n\",\n",
    "df.rename(columns={'Petal_Width': 'Johns_Column'})\n",
    "print df\n",
    "\n",
    "# An approach that does the variable name change in place\n",
    "print \"\\n\\nUSING inplace = True \\n\\n\",\n",
    "df.rename(columns={'Petal_Width': 'Johns_Column'}, inplace=True)\n",
    "print df\n",
    "\n",
    "# One alternative approach, but which creates a new variable\n",
    "print \"\\n\\nUSING A COPY \\n\\n\",\n",
    "df2 = df.rename(columns={'Petal_Width': 'Johns_Column'})\n",
    "print df2"
   ]
  },
  {
   "cell_type": "markdown",
   "metadata": {},
   "source": [
    "**Using a single column's values to select data**"
   ]
  },
  {
   "cell_type": "markdown",
   "metadata": {},
   "source": [
    "One of the nicer features of pandas is something called \"Boolean indexing\". Boolean indexing allows us to pass a Boolean expression (say a comparison of a variable to a threshold) as the argument to the DataFrame indexing. The results of this operation are the records which satisfy the Boolean. For instance:"
   ]
  },
  {
   "cell_type": "code",
   "execution_count": 19,
   "metadata": {},
   "outputs": [
    {
     "name": "stdout",
     "output_type": "stream",
     "text": [
      "\n",
      "\n",
      "The original data\n",
      "\n",
      "         Class  ID  Petal_Length  Petal_Width  Sepal_Length  Sepal_Width\n",
      "0  Iris-setosa   1           1.4          0.2           5.1          3.5\n",
      "1  Iris-setosa   2           1.4          0.2           4.9          3.0\n",
      "2  Iris-setosa   3           1.3          0.2           4.7          3.2\n",
      "3  Iris-setosa   4           1.5          0.2           4.6          3.1\n",
      "4  Iris-setosa   5           1.4          0.2           5.0          3.6\n",
      "\n",
      "\n",
      "An interesting subset: the records where Sepal_Width > 3.1\n",
      "\n",
      "         Class  ID  Petal_Length  Petal_Width  Sepal_Length  Sepal_Width\n",
      "0  Iris-setosa   1           1.4          0.2           5.1          3.5\n",
      "2  Iris-setosa   3           1.3          0.2           4.7          3.2\n",
      "4  Iris-setosa   5           1.4          0.2           5.0          3.6\n"
     ]
    }
   ],
   "source": [
    "# Let's make sure we have a clean copy of our sample data\n",
    "df = setupDF()\n",
    "\n",
    "print \"\\n\\nThe original data\\n\\n\", df\n",
    "print \"\\n\\nAn interesting subset: the records where Sepal_Width > 3.1\\n\\n\", df[df.Sepal_Width> 3.1]"
   ]
  },
  {
   "cell_type": "markdown",
   "metadata": {},
   "source": [
    "**Using a \"where\" to select data**"
   ]
  },
  {
   "cell_type": "markdown",
   "metadata": {},
   "source": [
    "Similarly, we can test all of the elements against a threshold very simply"
   ]
  },
  {
   "cell_type": "code",
   "execution_count": 20,
   "metadata": {},
   "outputs": [
    {
     "name": "stdout",
     "output_type": "stream",
     "text": [
      "         Class  ID  Petal_Length  Petal_Width  Sepal_Length  Sepal_Width\n",
      "0  Iris-setosa NaN           1.4          NaN           5.1          3.5\n",
      "1  Iris-setosa   2           1.4          NaN           4.9          3.0\n",
      "2  Iris-setosa   3           1.3          NaN           4.7          3.2\n",
      "3  Iris-setosa   4           1.5          NaN           4.6          3.1\n",
      "4  Iris-setosa   5           1.4          NaN           5.0          3.6\n"
     ]
    }
   ],
   "source": [
    "print df[df > 1]"
   ]
  },
  {
   "cell_type": "markdown",
   "metadata": {},
   "source": [
    "**Extracting a set of variables in a DataFrame to create a new DataFrame**"
   ]
  },
  {
   "cell_type": "markdown",
   "metadata": {},
   "source": [
    "Often we'll receive a data file that has many more variables than we want to process. Having to deal with a DataFrame like this is both unwieldy and computationally inefficient. So, when this happens, we'll frequently construct a DataFrame that consists of only the variables that we care about. We've already seen how to extract a single variable. If we want to extract multiple variables, we have a few options on how to do so. One way is shown here:"
   ]
  },
  {
   "cell_type": "code",
   "execution_count": 21,
   "metadata": {},
   "outputs": [
    {
     "name": "stdout",
     "output_type": "stream",
     "text": [
      "\n",
      "\n",
      "A DATAFRAME CONTAINING THE EXTRACTED VARIABLES \n",
      "\n",
      "   ID  Petal_Width  Petal_Length\n",
      "0   1          0.2           1.4\n",
      "1   2          0.2           1.4\n",
      "2   3          0.2           1.3\n",
      "3   4          0.2           1.5\n",
      "4   5          0.2           1.4\n",
      "\n",
      "\n",
      "THE ORIGINAL DATAFRAME\n",
      "\n",
      "         Class  ID  Petal_Length  Petal_Width  Sepal_Length  Sepal_Width\n",
      "0  Iris-setosa   1           1.4          0.2           5.1          3.5\n",
      "1  Iris-setosa   2           1.4          0.2           4.9          3.0\n",
      "2  Iris-setosa   3           1.3          0.2           4.7          3.2\n",
      "3  Iris-setosa   4           1.5          0.2           4.6          3.1\n",
      "4  Iris-setosa   5           1.4          0.2           5.0          3.6\n"
     ]
    }
   ],
   "source": [
    "# Let's make sure we have a clean copy of our sample data\n",
    "df = setupDF()\n",
    "\n",
    "# Let's extract the information on only the Petals\n",
    "variable_list = ['ID', 'Petal_Width', 'Petal_Length']\n",
    "\n",
    "print \"\\n\\nA DATAFRAME CONTAINING THE EXTRACTED VARIABLES \\n\\n\",\n",
    "df2 = df[variable_list]\n",
    "print df2\n",
    "\n",
    "# Notice that the original DataFrame is unchanged\n",
    "print \"\\n\\nTHE ORIGINAL DATAFRAME\\n\"\n",
    "print df"
   ]
  },
  {
   "cell_type": "markdown",
   "metadata": {},
   "source": [
    "**Extracting a set of variables in a DataFrame to create a new DataFrame**"
   ]
  },
  {
   "cell_type": "markdown",
   "metadata": {},
   "source": [
    "Sometimes it's easier to specify the variables to drop rather than to specify the ones to keep. The following pattern accomplishes this:"
   ]
  },
  {
   "cell_type": "code",
   "execution_count": 22,
   "metadata": {},
   "outputs": [
    {
     "name": "stdout",
     "output_type": "stream",
     "text": [
      "         Class  ID  Petal_Length  Petal_Width\n",
      "0  Iris-setosa   1           1.4          0.2\n",
      "1  Iris-setosa   2           1.4          0.2\n",
      "2  Iris-setosa   3           1.3          0.2\n",
      "3  Iris-setosa   4           1.5          0.2\n",
      "4  Iris-setosa   5           1.4          0.2\n"
     ]
    }
   ],
   "source": [
    "# Let's make sure we have a clean copy of our sample data\n",
    "df = setupDF()\n",
    "\n",
    "# Let's extract the information on only the Petals\n",
    "variable_list = ['Sepal_Width', 'Sepal_Length']\n",
    "\n",
    "df2 = df.drop(variable_list, axis=1)\n",
    "\n",
    "print df2"
   ]
  },
  {
   "cell_type": "markdown",
   "metadata": {},
   "source": [
    "Notice that we needed to specify *axis=1* here. This told the drop function that we were dropping columns. We could also specify *axis=0* to create a new dataframe without a subset of the observations (i.e. rows) using *drop()*."
   ]
  },
  {
   "cell_type": "markdown",
   "metadata": {},
   "source": [
    "**Extracting the first or last N rows from a DataFrame**"
   ]
  },
  {
   "cell_type": "code",
   "execution_count": 23,
   "metadata": {},
   "outputs": [
    {
     "name": "stdout",
     "output_type": "stream",
     "text": [
      "\n",
      "\n",
      "FIRST 10 ROWS\n",
      "   ID  Sepal_Length  Sepal_Width  Petal_Length  Petal_Width        Class\n",
      "0   1           5.1          3.5           1.4          0.2  Iris-setosa\n",
      "1   2           4.9          3.0           1.4          0.2  Iris-setosa\n",
      "2   3           4.7          3.2           1.3          0.2  Iris-setosa\n",
      "3   4           4.6          3.1           1.5          0.2  Iris-setosa\n",
      "4   5           5.0          3.6           1.4          0.2  Iris-setosa\n",
      "5   6           5.4          3.9           1.7          0.4  Iris-setosa\n",
      "6   7           4.6          3.4           1.4          0.3  Iris-setosa\n",
      "7   8           5.0          3.4           1.5          0.2  Iris-setosa\n",
      "8   9           4.4          2.9           1.4          0.2  Iris-setosa\n",
      "9  10           4.9          3.1           1.5          0.1  Iris-setosa\n",
      "\n",
      "\n",
      "LAST 10 ROWS\n",
      "      ID  Sepal_Length  Sepal_Width  Petal_Length  Petal_Width           Class\n",
      "140  141           6.7          3.1           5.6          2.4  Iris-virginica\n",
      "141  142           6.9          3.1           5.1          2.3  Iris-virginica\n",
      "142  143           5.8          2.7           5.1          1.9  Iris-virginica\n",
      "143  144           6.8          3.2           5.9          2.3  Iris-virginica\n",
      "144  145           6.7          3.3           5.7          2.5  Iris-virginica\n",
      "145  146           6.7          3.0           5.2          2.3  Iris-virginica\n",
      "146  147           6.3          2.5           5.0          1.9  Iris-virginica\n",
      "147  148           6.5          3.0           5.2          2.0  Iris-virginica\n",
      "148  149           6.2          3.4           5.4          2.3  Iris-virginica\n",
      "149  150           5.9          3.0           5.1          1.8  Iris-virginica\n"
     ]
    }
   ],
   "source": [
    "# for this example, let's use the larger dataset just because it's a bit more interesting\n",
    "print \"\\n\\nFIRST 10 ROWS\\n\", iris_dataframe.head(10)\n",
    "\n",
    "print \"\\n\\nLAST 10 ROWS\\n\", iris_dataframe.tail(10)"
   ]
  },
  {
   "cell_type": "markdown",
   "metadata": {},
   "source": [
    "#### Manipulating DataFrames"
   ]
  },
  {
   "cell_type": "markdown",
   "metadata": {},
   "source": [
    "Let's imagine that we have a DataFrame called *df*. Some basic functions that we can apply to DataFrames include the following:"
   ]
  },
  {
   "cell_type": "markdown",
   "metadata": {},
   "source": [
    "| function | what it does | \n",
    "| --- | --- | \n",
    "| df.shape() |  determines the number of rows and columns in the DataFrame |\n",
    "| list(df) |  gives us a list containing all of the column names |\n",
    "| df.columns | gives us a much more verbose version of the same thing | \n",
    "| df.index.tolist() | gives us a list containing the index | \n",
    "| df.dtypes | the types of data in each column | \n",
    "| df.transpose | the transpose of the DataFrame | \n",
    "| df.T | an abbreviation for the transpose |\n",
    "| df.to_csv(*filename_string*) | write the DataFrame to a csv file | \n",
    "| df.to_excel(*filename_string*) | write the DataFrame to an excel file |"
   ]
  },
  {
   "cell_type": "markdown",
   "metadata": {},
   "source": [
    "\n",
    "<div class=\"alert alert-success\">\n",
    "**Exercise.** Please write a script to perform some simple operation on our iris data. I've repeated it here for convenience. In particular, I'd like you to write a script which does the following:\n",
    "<ul>\n",
    "<li>determines the number of rows and columns in the data</li>\n",
    "<li>determine the data type contained in each column</li>\n",
    "<li>gets a list containing all of the row names </li>\n",
    "<li>gets a list containing all of the column names</li>\n",
    "<li>create a new DataFrame containing the transpose of our sample data set</li>\n",
    "</ul>\n",
    "</div>"
   ]
  },
  {
   "cell_type": "code",
   "execution_count": 24,
   "metadata": {},
   "outputs": [],
   "source": [
    "# create your answer to the exercise here"
   ]
  },
  {
   "cell_type": "markdown",
   "metadata": {},
   "source": [
    "<div class=\"alert alert-success\">\n",
    "**Exercise.** Let's string together some common functionality. Create a script which will compute the min, the max, the mean and the standard deviation for each variety of iris. Return the results as a single DataFrame.\n",
    "</div>"
   ]
  },
  {
   "cell_type": "code",
   "execution_count": 25,
   "metadata": {},
   "outputs": [],
   "source": [
    "# create your answer to the exercise here"
   ]
  }
 ],
 "metadata": {},
 "nbformat": 4,
 "nbformat_minor": 0
}