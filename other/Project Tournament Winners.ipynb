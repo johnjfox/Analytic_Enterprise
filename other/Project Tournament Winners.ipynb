{
 "cells": [
  {
   "cell_type": "markdown",
   "metadata": {},
   "source": [
    "# Analysis of Project Responses"
   ]
  },
  {
   "cell_type": "code",
   "execution_count": null,
   "metadata": {
    "collapsed": true
   },
   "outputs": [],
   "source": [
    "# in addition, it will be useful in general if we keep our plots \"inline\" within the notebook\n",
    "%matplotlib inline"
   ]
  },
  {
   "cell_type": "code",
   "execution_count": null,
   "metadata": {
    "collapsed": true
   },
   "outputs": [],
   "source": [
    "# Our standard set of imports for pandas, numpy and matplotlib\n",
    "import pandas as pd\n",
    "import numpy as np\n",
    "import matplotlib.pyplot as plt\n",
    "\n",
    "# some imports to handle HTML requests and parsing the results\n",
    "from StringIO import StringIO\n",
    "import requests"
   ]
  },
  {
   "cell_type": "code",
   "execution_count": null,
   "metadata": {
    "collapsed": false
   },
   "outputs": [],
   "source": [
    "# set up the URL\n",
    "url = 'https://docs.google.com/a/bu.edu/spreadsheets/d/'\n",
    "\n",
    "# the unique key of the spreadsheet. The sheet must be open to \"all\"\n",
    "key = '1Wzu9N6Ftq7FfwxY6nEM2r_6C2e-squG7H7tXU6qzEJ8'\n",
    "\n",
    "# some required formatting info. this requests CSV\n",
    "export = '/export?format=csv&id='\n",
    "\n",
    "# put together the string\n",
    "urlString = url+key+export+key\n",
    "\n",
    "# html request \n",
    "data = requests.get(urlString).content\n",
    "\n",
    "# and parsing the request into a DataFrame\n",
    "df = pd.read_csv(StringIO(data))\n",
    "\n",
    "df.head()"
   ]
  },
  {
   "cell_type": "code",
   "execution_count": null,
   "metadata": {
    "collapsed": false
   },
   "outputs": [],
   "source": [
    "# filter the submissions that were too late\n",
    "\n",
    "print 'NUM ENTRIES = ', len(df)\n",
    "\n",
    "# convert the timestamp to a pandas 'datetime' for filtering\n",
    "df['Timestamp'] = pd.to_datetime(df['Timestamp'])\n",
    "\n",
    "# perform the filtering\n",
    "df_ontime = df[df['Timestamp'] < '2016-03-25 23:59:59']\n",
    "\n",
    "print 'NUM ON TIME = ', len(df_ontime)"
   ]
  },
  {
   "cell_type": "code",
   "execution_count": null,
   "metadata": {
    "collapsed": false
   },
   "outputs": [],
   "source": [
    "# reshape the data so that we can organize it by idea number\n",
    "df_melt = pd.melt(df_ontime,['Timestamp', 'Username'], value_name='idea')\n",
    "\n",
    "# print as a sanity check\n",
    "print df_melt.head(10)"
   ]
  },
  {
   "cell_type": "code",
   "execution_count": null,
   "metadata": {
    "collapsed": false
   },
   "outputs": [],
   "source": [
    "# groupby the idea\n",
    "results = df_melt.groupby('idea')\n",
    "\n",
    "# count the unique usernames and sort it into descending order\n",
    "ideaCount = results['Username'].size().sort_values(ascending=False)\n",
    "\n",
    "# sanity check\n",
    "ideaCount.head(5)"
   ]
  },
  {
   "cell_type": "code",
   "execution_count": null,
   "metadata": {
    "collapsed": false,
    "scrolled": false
   },
   "outputs": [],
   "source": [
    "# finally, a barchart\n",
    "ideaCount.head(20).plot.bar(figsize=(20,10));"
   ]
  }
 ],
 "metadata": {
  "kernelspec": {
   "display_name": "Python 2",
   "language": "python",
   "name": "python2"
  },
  "language_info": {
   "codemirror_mode": {
    "name": "ipython",
    "version": 2
   },
   "file_extension": ".py",
   "mimetype": "text/x-python",
   "name": "python",
   "nbconvert_exporter": "python",
   "pygments_lexer": "ipython2",
   "version": "2.7.11"
  }
 },
 "nbformat": 4,
 "nbformat_minor": 0
}
