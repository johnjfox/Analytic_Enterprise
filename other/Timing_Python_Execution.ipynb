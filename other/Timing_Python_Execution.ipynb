{
 "cells": [
  {
   "cell_type": "markdown",
   "metadata": {},
   "source": [
    "## Method 1: Using the Python `time` module"
   ]
  },
  {
   "cell_type": "markdown",
   "metadata": {},
   "source": [
    "Often, we'd like to determine the time it takes to execute some code. One way to compute time is to use the `time` module. "
   ]
  },
  {
   "cell_type": "code",
   "execution_count": 1,
   "metadata": {
    "collapsed": false
   },
   "outputs": [
    {
     "name": "stdout",
     "output_type": "stream",
     "text": [
      "TOTAL TIME (msec)  =  137.773990631\n",
      "TOTAL TIME (msec)  =  63.4100437164\n"
     ]
    }
   ],
   "source": [
    "import time \n",
    "\n",
    "# create a large list for our test\n",
    "strings = [' foo', 'foobar', 'baz', 'qux', 'python', 'Guido Van Rossum'] * 100000 \n",
    "\n",
    "start = time.time() \n",
    "method1 = [x for x in strings if x.startswith('foo')]\n",
    "total_time1 = time.time() - start\n",
    "\n",
    "start = time.time() \n",
    "method2 = [x for x in strings if x[: 3] == 'foo']\n",
    "total_time2 = time.time() - start\n",
    "\n",
    "print 'TOTAL TIME (msec)  = ', total_time1 * 1e3\n",
    "print 'TOTAL TIME (msec)  = ', total_time2 * 1e3"
   ]
  },
  {
   "cell_type": "markdown",
   "metadata": {},
   "source": [
    "An alternative is to use the magic functions within Jupyter notebooks"
   ]
  },
  {
   "cell_type": "markdown",
   "metadata": {},
   "source": [
    "## Method 2: %time to determine the time for a single run"
   ]
  },
  {
   "cell_type": "code",
   "execution_count": 16,
   "metadata": {
    "collapsed": false
   },
   "outputs": [
    {
     "name": "stdout",
     "output_type": "stream",
     "text": [
      "CPU times: user 136 ms, sys: 3.28 ms, total: 140 ms\n",
      "Wall time: 138 ms\n"
     ]
    }
   ],
   "source": [
    "%time method1 = [x for x in strings if x.startswith(' foo')] "
   ]
  },
  {
   "cell_type": "code",
   "execution_count": 20,
   "metadata": {
    "collapsed": false
   },
   "outputs": [
    {
     "name": "stdout",
     "output_type": "stream",
     "text": [
      "CPU times: user 64.9 ms, sys: 3.59 ms, total: 68.5 ms\n",
      "Wall time: 66.2 ms\n"
     ]
    }
   ],
   "source": [
    "%time method2 = [x for x in strings if x[: 3] == 'foo']"
   ]
  },
  {
   "cell_type": "markdown",
   "metadata": {},
   "source": [
    "## Method 3: %timeit to determine the best of several runs"
   ]
  },
  {
   "cell_type": "markdown",
   "metadata": {},
   "source": [
    "if you run our example with `%time` a few times, you'll notice that the result changes. A better approach is to use %timeit, which will run the command multiple times and determine a representative result based upon averaging."
   ]
  },
  {
   "cell_type": "code",
   "execution_count": 4,
   "metadata": {
    "collapsed": false
   },
   "outputs": [
    {
     "name": "stdout",
     "output_type": "stream",
     "text": [
      "10 loops, best of 3: 114 ms per loop\n"
     ]
    }
   ],
   "source": [
    "%timeit method1 = [x for x in strings if x.startswith(' foo')]"
   ]
  },
  {
   "cell_type": "code",
   "execution_count": 5,
   "metadata": {
    "collapsed": false
   },
   "outputs": [
    {
     "name": "stdout",
     "output_type": "stream",
     "text": [
      "10 loops, best of 3: 47 ms per loop\n"
     ]
    }
   ],
   "source": [
    "%timeit method2 = [x for x in strings if x[: 3] == 'foo']"
   ]
  }
 ],
 "metadata": {
  "kernelspec": {
   "display_name": "Python 2",
   "language": "python",
   "name": "python2"
  },
  "language_info": {
   "codemirror_mode": {
    "name": "ipython",
    "version": 2
   },
   "file_extension": ".py",
   "mimetype": "text/x-python",
   "name": "python",
   "nbconvert_exporter": "python",
   "pygments_lexer": "ipython2",
   "version": "2.7.11"
  }
 },
 "nbformat": 4,
 "nbformat_minor": 0
}
