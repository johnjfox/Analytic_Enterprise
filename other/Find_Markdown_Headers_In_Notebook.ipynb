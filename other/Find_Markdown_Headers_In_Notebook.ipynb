{
 "cells": [
  {
   "cell_type": "code",
   "execution_count": 31,
   "metadata": {
    "collapsed": false
   },
   "outputs": [
    {
     "name": "stdout",
     "output_type": "stream",
     "text": [
      "u'# Pandas'\n",
      "u'### Overview.\\n'\n",
      "u\"## Importing the libraries that we'll use\"\n",
      "u'## DataFrame'\n",
      "u'### Creating a DataFrame'\n",
      "u'### Creating A Dataframe Directly From Data'\n",
      "u'### Recipe: Limiting The Number Of Rows'\n",
      "u'### Recipe: Replacing Values by NaN'\n",
      "u'### Working with DataFrames'\n",
      "u'### Exercise.'\n",
      "u'#### Simple Exploratory Analysis on DataFrames'\n",
      "u'#### Basic Patterns for Working with DataFrames'\n",
      "u'#### Pretty Printing A Dataframe'\n",
      "u\"#### Using A Single Column's Values To Select Data\"\n",
      "u'#### Using A \"where\" To Select Data'\n",
      "u'#### Extracting A Set Of Variables In A Dataframe To Create A New Dataframe'\n",
      "u'#### Extracting A Set Of Variables In A Dataframe To Create A New Dataframe'\n",
      "u'#### Finding The Unique Values In A Column'\n",
      "u'#### Extracting The First Or Last N Rows From A Dataframe'\n",
      "u'#### Patterns for Manipulating DataFrames'\n",
      "u'#### Renaming All Of The Variables In A Dataframe'\n",
      "u'#### Renaming A Single Variable In A Dataframe'\n"
     ]
    }
   ],
   "source": [
    "import json\n",
    "from pprint import pprint\n",
    "\n",
    "filename = '../slides/02a_Pandas_Overview.ipynb'\n",
    "\n",
    "with open(filename) as data_file:    \n",
    "    data = json.load(data_file)\n",
    "\n",
    "for c in data['cells']:\n",
    "    if c['cell_type'] == 'markdown': \n",
    "        for s in c['source']:\n",
    "            if s[0] == '#':\n",
    "                pprint(c['source'][0])\n"
   ]
  },
  {
   "cell_type": "code",
   "execution_count": null,
   "metadata": {
    "collapsed": true
   },
   "outputs": [],
   "source": []
  },
  {
   "cell_type": "code",
   "execution_count": null,
   "metadata": {
    "collapsed": true
   },
   "outputs": [],
   "source": []
  }
 ],
 "metadata": {
  "kernelspec": {
   "display_name": "Python 2",
   "language": "python",
   "name": "python2"
  },
  "language_info": {
   "codemirror_mode": {
    "name": "ipython",
    "version": 2
   },
   "file_extension": ".py",
   "mimetype": "text/x-python",
   "name": "python",
   "nbconvert_exporter": "python",
   "pygments_lexer": "ipython2",
   "version": "2.7.11"
  }
 },
 "nbformat": 4,
 "nbformat_minor": 0
}
